{
 "cells": [
  {
   "cell_type": "markdown",
   "id": "eb4bd53d",
   "metadata": {},
   "source": [
    "# this is first level heading\n",
    "\n",
    "## this is second level heading\n",
    "\n",
    "### thisis third levelheading \n",
    "\n",
    "#### heading 4\n",
    "\n",
    "##### heading 5 ( this is the lowest level of heading)\n",
    "\n",
    "\n",
    "\n"
   ]
  },
  {
   "cell_type": "markdown",
   "id": "eb440cc9",
   "metadata": {},
   "source": [
    "# 2.Bold\n",
    "double stars or double underscoresis rendered in bold.\n",
    "\n",
    "**Vedant**\n",
    "\n",
    "__Avni__\n",
    "\n"
   ]
  },
  {
   "cell_type": "markdown",
   "id": "21ee1833",
   "metadata": {},
   "source": [
    "# 3.italic\n",
    "*single stars* or _single underscores_ is rendered in italic.\n",
    "\n",
    "*Vedant*\n",
    "\n",
    "_Avni_"
   ]
  },
  {
   "cell_type": "markdown",
   "id": "d6773f46",
   "metadata": {},
   "source": [
    "# USING THE HTML ITALIC\n",
    "\n",
    "Italicized text is the <em>cat's meow>/em>\n",
    "    \n",
    "a <em> cat </em >meow"
   ]
  },
  {
   "cell_type": "markdown",
   "id": "d4aa8e82",
   "metadata": {},
   "source": [
    "# 4. codeblock\n",
    "single backticks is rendered as inline code.\n",
    "\n",
    "`Vedant`"
   ]
  },
  {
   "cell_type": "markdown",
   "id": "1df8e385",
   "metadata": {},
   "source": [
    "# html\n",
    "<code>Avni</code>"
   ]
  },
  {
   "cell_type": "markdown",
   "id": "817aa039",
   "metadata": {},
   "source": [
    "# 5. Bold and Italic\n",
    "add three stars or underscores before and after a word \n",
    "\n",
    "***Vedant Avni***"
   ]
  },
  {
   "cell_type": "markdown",
   "id": "68668478",
   "metadata": {},
   "source": [
    "# bold using HTML"
   ]
  },
  {
   "cell_type": "markdown",
   "id": "f258bcb7",
   "metadata": {},
   "source": [
    "This is <strong> Bold Using </strong> HTML\n"
   ]
  },
  {
   "cell_type": "markdown",
   "id": "c8b50243",
   "metadata": {},
   "source": [
    "# 6.Indenting\n",
    "add > before a word\n",
    "> Avni"
   ]
  },
  {
   "cell_type": "markdown",
   "id": "ceba35eb",
   "metadata": {},
   "source": [
    "# 7. Bullets\n",
    "  add - or * with space before word \n",
    "  - vedant  \n",
    "  * avni\n",
    "  \n",
    "  ## for sub Bullets\n",
    "  \n",
    "  enter tab before * sign\n",
    "  - vedant\n",
    "      * Avni"
   ]
  },
  {
   "cell_type": "markdown",
   "id": "b3ffe879",
   "metadata": {},
   "source": [
    "# 8. Geometric Shapes\n",
    "https://www.w3schools.com/python/default.asp\n",
    "\n",
    "&#9632;\n",
    "\n",
    "&#x25C0;\n",
    "\n",
    "&#9648;\n",
    "\n",
    "&#9636;"
   ]
  },
  {
   "cell_type": "markdown",
   "id": "8cc88b61",
   "metadata": {},
   "source": [
    "# 9. Number list\n",
    "enter number followed by a space\n",
    "1. vedant\n",
    "2. ayush\n",
    "3. tanish"
   ]
  },
  {
   "cell_type": "markdown",
   "id": "3a33b91b",
   "metadata": {},
   "source": [
    "# using the html\n",
    "<ol>\n",
    "    <li>first item</li>\n",
    "    <li>second\n",
    "    item</li>\n",
    "    <li>third item</li>\n",
    "    <li>fourth</li>\n",
    "</ol>"
   ]
  },
  {
   "cell_type": "markdown",
   "id": "73f37268",
   "metadata": {},
   "source": [
    "<ol>\n",
    "    <li>first item</li>\n",
    "    <li>second item</li>\n",
    "    <li>third item\n",
    "        <ol>\n",
    "            <li>indented item</li>\n",
    "            <li>indented item</li>\n",
    "        </ol>\n",
    "    </li>\n",
    "    <li>fourth item</li>\n",
    "</ol>\n",
    "        "
   ]
  },
  {
   "cell_type": "markdown",
   "id": "79c63cdb",
   "metadata": {},
   "source": [
    "# using html to create the unordered list\n",
    "\n",
    "<ul>\n",
    "    <li>first item</li>\n",
    "    <li>second item</li>\n",
    "    <li>third item</li>\n",
    "    <li>fourth item</li>\n",
    "</ul>"
   ]
  },
  {
   "cell_type": "markdown",
   "id": "7f4cfd0f",
   "metadata": {},
   "source": [
    "# 10.Horizantal lines\n",
    "use three or more stars (***),dashes(---), or  underscore(___) on a line by themselves\n",
    "***\n",
    "___\n",
    "\n",
    "---"
   ]
  },
  {
   "cell_type": "markdown",
   "id": "98a55d3e",
   "metadata": {},
   "source": [
    "# 11. Line break\n",
    "end the line with two or more spaces ,and then enter and type second line\n",
    "\n",
    "this is first line.  \n",
    "and this is the second line"
   ]
  },
  {
   "cell_type": "markdown",
   "id": "cd04fa0e",
   "metadata": {},
   "source": [
    "# external link \n",
    "surround the link with 2 underscores(__) on each side\n",
    "\n",
    "\n",
    "__(https://www.w3schools.com/python/default.asp)__"
   ]
  },
  {
   "cell_type": "markdown",
   "id": "24296fd9",
   "metadata": {},
   "source": [
    "# 12. Strikethrough\n",
    "use 2 tidles before and after the text\n",
    "\n",
    "\n",
    "~~softraw~~"
   ]
  },
  {
   "cell_type": "markdown",
   "id": "1fe56a1d",
   "metadata": {},
   "source": [
    "# 13. URLs and emails\n",
    "turn a URL or email address into a link,enclose it angel brackets\n",
    "\n",
    "\n",
    "<vedantlaxkkar684@gmail.com>"
   ]
  },
  {
   "cell_type": "markdown",
   "id": "f8aeef2c",
   "metadata": {},
   "source": [
    "# Exercise 0.1\n",
    "\n",
    "Create a new cell in this Jupyter Notebook.\n",
    "Set it as a markdown cell.\n",
    "Add a title (i.e. a header) to your cell.\n",
    "Write your favorite quote, possibly with some formatting (e.g. some words in bold).\n",
    "Add the author's name in italic.\n",
    "Run/render the cell.\n",
    "\n",
    "# My Favorite Quote\n",
    "\n",
    "*\"today's hard work is future comfort.\"*\n",
    "\n",
    "\n",
    "\n"
   ]
  },
  {
   "cell_type": "markdown",
   "id": "c2035fc7",
   "metadata": {},
   "source": [
    "# question 2\n",
    "Create a new cell in this Jupyter Notebook.\n",
    "Set it as a code cell.\n",
    "Print \"Hello, world!\" to the screen (remember to run the cell to actually execute your code). The python command to print something to screen is simply print(\"text to print\").\n",
    "\n",
    "print(\"Hello, world!\")"
   ]
  },
  {
   "cell_type": "code",
   "execution_count": 18,
   "id": "fcfe92e8",
   "metadata": {},
   "outputs": [
    {
     "name": "stdout",
     "output_type": "stream",
     "text": [
      "Hello, world!\n"
     ]
    }
   ],
   "source": [
    "print(\"Hello, world!\")"
   ]
  },
  {
   "cell_type": "markdown",
   "id": "4c99ad63",
   "metadata": {},
   "source": [
    "# images"
   ]
  },
  {
   "cell_type": "markdown",
   "id": "f1b5c07e",
   "metadata": {},
   "source": [
    "![Naruto  is goood anime!](![Tux Image](C:/Users/USER/Desktop/SoftRaw/python/tux.jpg)\n",
    " \" sasuke vs itachi\")"
   ]
  },
  {
   "cell_type": "markdown",
   "id": "04b68951",
   "metadata": {},
   "source": [
    "# escaping character\n",
    "to display a literal character that would otherwise be used to format text in markdown document\n",
    "add a backslash  in front of the character\n",
    "\n",
    "\\* without the backslash,thar would be bullet in unordered list\n",
    "\n",
    "\\[] without the backslash,thar would be bullet in unordered list\n",
    "\n",
    "\\() without the backslash,thar would be bullet in unordered list\n",
    "\n",
    "\\. without the backslash,thar would be bullet in unordered list\n",
    "\n",
    "\\| without the backslash,thar would be bullet in unordered list\n",
    "\n",
    "\\<> without the backslash,thar would be bullet in unordered list"
   ]
  }
 ],
 "metadata": {
  "kernelspec": {
   "display_name": "Python 3 (ipykernel)",
   "language": "python",
   "name": "python3"
  },
  "language_info": {
   "codemirror_mode": {
    "name": "ipython",
    "version": 3
   },
   "file_extension": ".py",
   "mimetype": "text/x-python",
   "name": "python",
   "nbconvert_exporter": "python",
   "pygments_lexer": "ipython3",
   "version": "3.11.3"
  }
 },
 "nbformat": 4,
 "nbformat_minor": 5
}
