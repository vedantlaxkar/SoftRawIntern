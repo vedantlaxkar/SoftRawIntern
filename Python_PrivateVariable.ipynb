{
 "cells": [
  {
   "cell_type": "markdown",
   "id": "9c78c8fd",
   "metadata": {},
   "source": [
    "# Private Variable in Python\n",
    "In Python, there is no existence of “Private” instance variables that cannot be accessed except inside an object. However, a convention is being followed by most Python code and coders i.e., a name prefixed with an underscore, For e.g. _geek should be treated as a non-public part of the API or any Python code, whether it is a function, a method, or a data member. While going through this we would also try to understand the concept of various forms of trailing underscores, for e.g., for _ in range(10), `__init__(self)`. <br></br>\n",
    "### Mangling and how it works\n",
    "\n",
    "In Python, there is something called name mangling, which means that there is limited support for a valid use-case for class-private members basically to avoid name clashes of names with names defined by subclasses. Any identifier of the form `__geek` (at least two leading underscores or at most one trailing underscore) is replaced with `_classname__geek`, where classname is the current class name with a leading underscore(s) stripped. As long as it occurs within the definition of the class, this mangling is done. This is helpful for letting subclasses override methods without breaking intraclass method calls. \n",
    "Let’s look at this example and try to find out how this underscore works: \n",
    " "
   ]
  },
  {
   "cell_type": "code",
   "execution_count": 3,
   "id": "df8b783d",
   "metadata": {},
   "outputs": [],
   "source": [
    "# how single underscore works\n",
    "def _get_errors(self):\n",
    "    if self._errors is None:\n",
    "        self.full_clean()\n",
    "    return self._errors\n",
    " \n",
    "errors = property(_get_errors)"
   ]
  },
  {
   "cell_type": "markdown",
   "id": "6740639d",
   "metadata": {},
   "source": [
    "The mangling rules are designed mostly to avoid accidents but it is still possible to access or modify a variable that is considered private. This can even be useful in special circumstances, such as in the debugger."
   ]
  },
  {
   "cell_type": "markdown",
   "id": "edccd61f",
   "metadata": {},
   "source": [
    "### _Single Leading Underscores\n",
    "\n",
    "So basically one underline at the beginning of a method, function, or data member means you shouldn’t access this method because it’s not part of the API. Let’s look at this snippet of code: "
   ]
  },
  {
   "cell_type": "code",
   "execution_count": 4,
   "id": "e9aed79b",
   "metadata": {},
   "outputs": [],
   "source": [
    "# how single underscore works\n",
    "def _get_errors(self):\n",
    "    if self._errors is None:\n",
    "        self.full_clean()\n",
    "    return self._errors\n",
    " \n",
    "errors = property(_get_errors)"
   ]
  },
  {
   "cell_type": "markdown",
   "id": "4f140bbf",
   "metadata": {},
   "source": [
    "The snippet is taken from the Django source code (django/forms/forms.py). This suggests that errors are property, and it’s also a part of the API, but the method, _get_errors, is “private”, so one shouldn’t access it."
   ]
  },
  {
   "cell_type": "markdown",
   "id": "2f7beb6d",
   "metadata": {},
   "source": [
    "### __Double Leading Underscores\n",
    "\n",
    "Two underlines, in the beginning, cause a lot of confusion. This is about syntax rather than a convention. double underscore will mangle the attribute names of a class to avoid conflicts of attribute names between classes. For example: "
   ]
  },
  {
   "cell_type": "code",
   "execution_count": 5,
   "id": "4944f973",
   "metadata": {},
   "outputs": [],
   "source": [
    "# underscore at the beginning works\n",
    "class Geek:\n",
    "    def _single_method(self):\n",
    "        pass\n",
    "    def __double_method(self): # for mangling\n",
    "        pass\n",
    "class Pyth(Geek):\n",
    "    def __double_method(self): # for mangling\n",
    "        pass"
   ]
  }
 ],
 "metadata": {
  "kernelspec": {
   "display_name": "Python 3 (ipykernel)",
   "language": "python",
   "name": "python3"
  },
  "language_info": {
   "codemirror_mode": {
    "name": "ipython",
    "version": 3
   },
   "file_extension": ".py",
   "mimetype": "text/x-python",
   "name": "python",
   "nbconvert_exporter": "python",
   "pygments_lexer": "ipython3",
   "version": "3.11.3"
  }
 },
 "nbformat": 4,
 "nbformat_minor": 5
}
