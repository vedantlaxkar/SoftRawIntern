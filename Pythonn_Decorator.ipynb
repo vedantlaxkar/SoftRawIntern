{
 "cells": [
  {
   "cell_type": "markdown",
   "id": "33e46a2c",
   "metadata": {},
   "source": [
    "# Decorators in Python\n",
    "Decorators are a very powerful and useful tool in Python since it allows programmers to modify the behaviour of a function or class. Decorators allow us to wrap another function in order to extend the behaviour of the wrapped function, without permanently modifying it. But before diving deep into decorators let us understand some concepts that will come in handy in learning the decorators.\n",
    "\n",
    "**First Class Objects**<br>\n",
    "In Python, functions are first class objects which means that functions in Python can be used or passed as arguments.\n",
    "\n",
    "**Properties of first class functions:**\n",
    "-  A function is an instance of the Object type.\n",
    "- You can store the function in a variable.\n",
    "- You can pass the function as a parameter to another function.\n",
    "- You can return the function from a function.\n",
    "- You can store them in data structures such as hash tables, lists, …\n",
    "\n",
    "Consider the below examples for better understanding."
   ]
  },
  {
   "cell_type": "markdown",
   "id": "2d5f65cb",
   "metadata": {},
   "source": [
    "**Example 1:** Treating the functions as objects. "
   ]
  },
  {
   "cell_type": "code",
   "execution_count": 1,
   "id": "3338d4a8",
   "metadata": {},
   "outputs": [
    {
     "name": "stdout",
     "output_type": "stream",
     "text": [
      "HELLO\n",
      "HELLO\n"
     ]
    }
   ],
   "source": [
    "def shout(text): \n",
    "    return text.upper() \n",
    "\n",
    "print(shout('Hello')) \n",
    "\n",
    "yell = shout \n",
    "\n",
    "print(yell('Hello')) \n"
   ]
  },
  {
   "cell_type": "markdown",
   "id": "5e0b4f7a",
   "metadata": {},
   "source": [
    "**Example 2:** Passing the function as an argument "
   ]
  },
  {
   "cell_type": "code",
   "execution_count": 2,
   "id": "e26a507b",
   "metadata": {},
   "outputs": [
    {
     "name": "stdout",
     "output_type": "stream",
     "text": [
      "HI, I AM CREATED BY A FUNCTION PASSED AS AN ARGUMENT.\n",
      "hi, i am created by a function passed as an argument.\n"
     ]
    }
   ],
   "source": [
    "def shout(text): \n",
    "    return text.upper() \n",
    "\n",
    "def whisper(text): \n",
    "    return text.lower() \n",
    "\n",
    "def greet(func): \n",
    "    # storing the function in a variable \n",
    "    greeting = func(\"\"\"Hi, I am created by a function passed as an argument.\"\"\") \n",
    "    print (greeting) \n",
    "\n",
    "greet(shout) \n",
    "greet(whisper) \n"
   ]
  },
  {
   "cell_type": "markdown",
   "id": "78ab73cd",
   "metadata": {},
   "source": [
    "**Example 3:** Returning functions from another function."
   ]
  },
  {
   "cell_type": "code",
   "execution_count": 4,
   "id": "11946964",
   "metadata": {},
   "outputs": [
    {
     "name": "stdout",
     "output_type": "stream",
     "text": [
      "25\n"
     ]
    }
   ],
   "source": [
    "def adder(x): \n",
    "    def create_adder(y): \n",
    "        return x+y \n",
    "\n",
    "    return create_adder \n",
    "\n",
    "add_15 = adder(15) \n",
    "\n",
    "print(add_15(10)) \n"
   ]
  },
  {
   "cell_type": "markdown",
   "id": "e9a55bd4",
   "metadata": {},
   "source": [
    "### Simple Decortor"
   ]
  },
  {
   "cell_type": "code",
   "execution_count": 6,
   "id": "3986a535",
   "metadata": {},
   "outputs": [
    {
     "name": "stdout",
     "output_type": "stream",
     "text": [
      "this is 1 before calling a function\n",
      "this is magic of python\n",
      "this is 1 after calling a function\n"
     ]
    }
   ],
   "source": [
    "def hello(fun):\n",
    "    def haha():\n",
    "        print(\"this is 1 before calling a function\")\n",
    "        fun()\n",
    "        print(\"this is 1 after calling a function\")\n",
    "    return haha\n",
    "@hello\n",
    "def greet():\n",
    "    print(\"this is magic of python\")\n",
    "    \n",
    "greet()"
   ]
  },
  {
   "cell_type": "markdown",
   "id": "e37498a9",
   "metadata": {},
   "source": [
    "### Decorator with arguments\n",
    "A decorator with arguments is a decorator that takes its own arguments in addition to the function it decorates. This allows for more customizable and flexible decorators. To achieve this, you typically create a decorator factory—a function that returns a decorator."
   ]
  },
  {
   "cell_type": "code",
   "execution_count": 7,
   "id": "8c11ba78",
   "metadata": {},
   "outputs": [
    {
     "name": "stdout",
     "output_type": "stream",
     "text": [
      "before Execution\n",
      "Inside the function\n",
      "after Execution\n",
      "Sum = 3\n"
     ]
    }
   ],
   "source": [
    "def hello_decorator(func):\n",
    "    def inner1(*args, **kwargs):\n",
    "        \n",
    "        print(\"before Execution\")\n",
    "        \n",
    "        # getting the returned value\n",
    "        returned_value = func(*args, **kwargs)\n",
    "        print(\"after Execution\")\n",
    "        \n",
    "        # returning the value to the original frame\n",
    "        return returned_value\n",
    "        \n",
    "    return inner1\n",
    "\n",
    "\n",
    "# adding decorator to the function\n",
    "@hello_decorator\n",
    "def sum_two_numbers(a, b):\n",
    "    print(\"Inside the function\")\n",
    "    return a + b\n",
    "\n",
    "a, b = 1, 2\n",
    "\n",
    "# getting the value through return of the function\n",
    "print(\"Sum =\", sum_two_numbers(a, b))\n"
   ]
  },
  {
   "cell_type": "markdown",
   "id": "7a0a3053",
   "metadata": {},
   "source": [
    "### Chaining Decorators\n",
    "A chaining decorator is a type of decorator that allows multiple decorators to be applied to a single function in a chain-like manner. This means you can stack multiple decorators on top of each other, and they will be applied in the order they are listed."
   ]
  },
  {
   "cell_type": "code",
   "execution_count": 8,
   "id": "a3fe6d81",
   "metadata": {},
   "outputs": [
    {
     "name": "stdout",
     "output_type": "stream",
     "text": [
      "400\n",
      "200\n"
     ]
    }
   ],
   "source": [
    "# code for testing decorator chaining \n",
    "def decor1(func): \n",
    "    def inner(): \n",
    "        x = func() \n",
    "        return x * x \n",
    "    return inner \n",
    "\n",
    "def decor(func): \n",
    "    def inner(): \n",
    "        x = func() \n",
    "        return 2 * x \n",
    "    return inner \n",
    "\n",
    "@decor1\n",
    "@decor\n",
    "def num(): \n",
    "    return 10\n",
    "\n",
    "@decor\n",
    "@decor1\n",
    "def num2():\n",
    "    return 10\n",
    "  \n",
    "print(num()) \n",
    "print(num2())\n"
   ]
  },
  {
   "cell_type": "code",
   "execution_count": 9,
   "id": "c00d8302",
   "metadata": {},
   "outputs": [
    {
     "name": "stdout",
     "output_type": "stream",
     "text": [
      "this is 3 before calling a function\n",
      "this is 2 before  calling a function\n",
      "this is 1 before calling a function\n",
      "this is magic of python\n",
      "this is 1 after calling a function\n",
      "this is 2 after calling a function\n",
      "this is 3 after calling a function\n"
     ]
    }
   ],
   "source": [
    "def hello(fun):\n",
    "    def haha():\n",
    "        print(\"this is 1 before calling a function\")\n",
    "        fun()\n",
    "        print(\"this is 1 after calling a function\")\n",
    "    return haha\n",
    "\n",
    "def hehe(func):\n",
    "    def woohu():\n",
    "        print(\"this is 2 before  calling a function\")\n",
    "        func()\n",
    "        print(\"this is 2 after calling a function\")\n",
    "    return woohu\n",
    "\n",
    "def hey(funct):\n",
    "    def hiii():\n",
    "        print(\"this is 3 before calling a function\")\n",
    "        funct()\n",
    "        print(\"this is 3 after calling a function\")\n",
    "    return hiii\n",
    "\n",
    "@hey\n",
    "@hehe\n",
    "@hello\n",
    "def greet():\n",
    "    print(\"this is magic of python\")\n",
    "\n",
    "greet()"
   ]
  },
  {
   "cell_type": "markdown",
   "id": "6b6be9b8",
   "metadata": {},
   "source": [
    "### Logging Decorator\n",
    "A logging decorator is a function that wraps another function to add logging functionality, typically to log the execution details such as the arguments passed, return values, and any exceptions raised. This is useful for debugging and monitoring purposes."
   ]
  },
  {
   "cell_type": "code",
   "execution_count": 10,
   "id": "c3286fe8",
   "metadata": {},
   "outputs": [
    {
     "name": "stdout",
     "output_type": "stream",
     "text": [
      "Running function: add\n",
      "Arguments: (5, 3) {}\n",
      "Function add returned: 8\n",
      "Running function: divide\n",
      "Arguments: (10, 2) {}\n",
      "Function divide returned: 5.0\n",
      "Running function: divide\n",
      "Arguments: (10, 0) {}\n",
      "Function divide raised an error: division by zero\n"
     ]
    }
   ],
   "source": [
    "def log_decorator(func):\n",
    "    def wrapper(*args, **kwargs):\n",
    "        print(f\"Running function: {func.__name__}\")\n",
    "        print(f\"Arguments: {args} {kwargs}\")\n",
    "        try:\n",
    "            result = func(*args, **kwargs)\n",
    "            print(f\"Function {func.__name__} returned: {result}\")\n",
    "            return result\n",
    "        except Exception as e:\n",
    "            print(f\"Function {func.__name__} raised an error: {e}\")\n",
    "            raise\n",
    "    return wrapper\n",
    "\n",
    "# Example usage\n",
    "@log_decorator\n",
    "def add(x, y):\n",
    "    return x + y\n",
    "\n",
    "@log_decorator\n",
    "def divide(x, y):\n",
    "    return x / y\n",
    "\n",
    "# Running the functions\n",
    "add(5, 3)\n",
    "divide(10, 2)\n",
    "try:\n",
    "    divide(10, 0)\n",
    "except ZeroDivisionError:\n",
    "    pass\n"
   ]
  }
 ],
 "metadata": {
  "kernelspec": {
   "display_name": "Python 3 (ipykernel)",
   "language": "python",
   "name": "python3"
  },
  "language_info": {
   "codemirror_mode": {
    "name": "ipython",
    "version": 3
   },
   "file_extension": ".py",
   "mimetype": "text/x-python",
   "name": "python",
   "nbconvert_exporter": "python",
   "pygments_lexer": "ipython3",
   "version": "3.11.3"
  }
 },
 "nbformat": 4,
 "nbformat_minor": 5
}
