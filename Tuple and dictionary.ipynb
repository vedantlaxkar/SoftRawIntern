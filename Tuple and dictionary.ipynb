{
 "cells": [
  {
   "cell_type": "code",
   "execution_count": 1,
   "id": "8f3a254d",
   "metadata": {},
   "outputs": [],
   "source": [
    "my_tuple = ()"
   ]
  },
  {
   "cell_type": "code",
   "execution_count": 2,
   "id": "6cea997b",
   "metadata": {},
   "outputs": [
    {
     "name": "stdout",
     "output_type": "stream",
     "text": [
      "<class 'tuple'>\n"
     ]
    }
   ],
   "source": [
    "print(type(my_tuple))"
   ]
  },
  {
   "cell_type": "markdown",
   "id": "ac4b93ff",
   "metadata": {},
   "source": [
    "# Tuple\n",
    "    immutable data type \n",
    "    ordered data type \n",
    "    ()"
   ]
  },
  {
   "cell_type": "code",
   "execution_count": 3,
   "id": "c9940b8d",
   "metadata": {},
   "outputs": [],
   "source": [
    "t = (1,2,3,4,5)"
   ]
  },
  {
   "cell_type": "code",
   "execution_count": 4,
   "id": "1c208b8d",
   "metadata": {},
   "outputs": [
    {
     "name": "stdout",
     "output_type": "stream",
     "text": [
      "<class 'tuple'> (1, 2, 3, 4, 5)\n"
     ]
    }
   ],
   "source": [
    "print(type(t),t)"
   ]
  },
  {
   "cell_type": "code",
   "execution_count": 5,
   "id": "42d9fd7c",
   "metadata": {},
   "outputs": [],
   "source": [
    "t1 = ('gaurav',1,2,3,4,'shubham')"
   ]
  },
  {
   "cell_type": "code",
   "execution_count": 6,
   "id": "0d3185e0",
   "metadata": {},
   "outputs": [
    {
     "name": "stdout",
     "output_type": "stream",
     "text": [
      "('gaurav', 1, 2, 3, 4, 'shubham')\n"
     ]
    }
   ],
   "source": [
    "print(t1)"
   ]
  },
  {
   "cell_type": "code",
   "execution_count": 7,
   "id": "cf2b092d",
   "metadata": {},
   "outputs": [],
   "source": [
    "t2 = (['gaurav','shubham'],('hello python'),1,2,4,5,{'gaurav'})"
   ]
  },
  {
   "cell_type": "code",
   "execution_count": 8,
   "id": "962cef6d",
   "metadata": {},
   "outputs": [
    {
     "name": "stdout",
     "output_type": "stream",
     "text": [
      "(['gaurav', 'shubham'], 'hello python', 1, 2, 4, 5, {'gaurav'})\n"
     ]
    }
   ],
   "source": [
    "print(t2)"
   ]
  },
  {
   "cell_type": "code",
   "execution_count": 9,
   "id": "a89fffb7",
   "metadata": {},
   "outputs": [],
   "source": [
    "t3 = t1 + t2"
   ]
  },
  {
   "cell_type": "code",
   "execution_count": 10,
   "id": "3365f956",
   "metadata": {},
   "outputs": [
    {
     "name": "stdout",
     "output_type": "stream",
     "text": [
      "('gaurav', 1, 2, 3, 4, 'shubham', ['gaurav', 'shubham'], 'hello python', 1, 2, 4, 5, {'gaurav'})\n"
     ]
    }
   ],
   "source": [
    "print(t3)"
   ]
  },
  {
   "cell_type": "code",
   "execution_count": 11,
   "id": "344ff04a",
   "metadata": {},
   "outputs": [
    {
     "data": {
      "text/plain": [
       "['__add__',\n",
       " '__class__',\n",
       " '__class_getitem__',\n",
       " '__contains__',\n",
       " '__delattr__',\n",
       " '__dir__',\n",
       " '__doc__',\n",
       " '__eq__',\n",
       " '__format__',\n",
       " '__ge__',\n",
       " '__getattribute__',\n",
       " '__getitem__',\n",
       " '__getnewargs__',\n",
       " '__gt__',\n",
       " '__hash__',\n",
       " '__init__',\n",
       " '__init_subclass__',\n",
       " '__iter__',\n",
       " '__le__',\n",
       " '__len__',\n",
       " '__lt__',\n",
       " '__mul__',\n",
       " '__ne__',\n",
       " '__new__',\n",
       " '__reduce__',\n",
       " '__reduce_ex__',\n",
       " '__repr__',\n",
       " '__rmul__',\n",
       " '__setattr__',\n",
       " '__sizeof__',\n",
       " '__str__',\n",
       " '__subclasshook__',\n",
       " 'count',\n",
       " 'index']"
      ]
     },
     "execution_count": 11,
     "metadata": {},
     "output_type": "execute_result"
    }
   ],
   "source": [
    "dir(tuple)"
   ]
  },
  {
   "cell_type": "code",
   "execution_count": 12,
   "id": "f8aa6fde",
   "metadata": {},
   "outputs": [],
   "source": [
    "t4 = t1.__add__(t2) "
   ]
  },
  {
   "cell_type": "code",
   "execution_count": 13,
   "id": "046498f7",
   "metadata": {},
   "outputs": [
    {
     "name": "stdout",
     "output_type": "stream",
     "text": [
      "('gaurav', 1, 2, 3, 4, 'shubham', ['gaurav', 'shubham'], 'hello python', 1, 2, 4, 5, {'gaurav'})\n"
     ]
    }
   ],
   "source": [
    "print(t4)"
   ]
  },
  {
   "cell_type": "code",
   "execution_count": 17,
   "id": "9989ff63",
   "metadata": {},
   "outputs": [
    {
     "ename": "TypeError",
     "evalue": "can only concatenate tuple (not \"int\") to tuple",
     "output_type": "error",
     "traceback": [
      "\u001b[1;31m---------------------------------------------------------------------------\u001b[0m",
      "\u001b[1;31mTypeError\u001b[0m                                 Traceback (most recent call last)",
      "\u001b[1;32m~\\AppData\\Local\\Temp\\ipykernel_30784\\3627537990.py\u001b[0m in \u001b[0;36m<module>\u001b[1;34m\u001b[0m\n\u001b[1;32m----> 1\u001b[1;33m \u001b[0mmy_t\u001b[0m \u001b[1;33m=\u001b[0m \u001b[1;33m(\u001b[0m\u001b[1;36m1\u001b[0m\u001b[1;33m,\u001b[0m\u001b[1;36m2\u001b[0m\u001b[1;33m,\u001b[0m\u001b[1;36m3\u001b[0m\u001b[1;33m,\u001b[0m\u001b[1;36m4\u001b[0m\u001b[1;33m,\u001b[0m\u001b[1;36m5\u001b[0m\u001b[1;33m)\u001b[0m\u001b[1;33m+\u001b[0m\u001b[1;36m10\u001b[0m\u001b[1;33m\u001b[0m\u001b[1;33m\u001b[0m\u001b[0m\n\u001b[0m",
      "\u001b[1;31mTypeError\u001b[0m: can only concatenate tuple (not \"int\") to tuple"
     ]
    }
   ],
   "source": [
    "my_t = (1,2,3,4,5)+10"
   ]
  },
  {
   "cell_type": "code",
   "execution_count": 15,
   "id": "a8379733",
   "metadata": {},
   "outputs": [
    {
     "name": "stdout",
     "output_type": "stream",
     "text": [
      "(1, 2, 3, 4, 5, 1, 2, 3, 4, 5, 1, 2, 3, 4, 5, 1, 2, 3, 4, 5, 1, 2, 3, 4, 5, 1, 2, 3, 4, 5, 1, 2, 3, 4, 5, 1, 2, 3, 4, 5, 1, 2, 3, 4, 5, 1, 2, 3, 4, 5)\n"
     ]
    }
   ],
   "source": [
    "print(my_t)"
   ]
  },
  {
   "cell_type": "markdown",
   "id": "2bf967f6",
   "metadata": {},
   "source": [
    "# tuple packing"
   ]
  },
  {
   "cell_type": "code",
   "execution_count": 18,
   "id": "861f7eec",
   "metadata": {},
   "outputs": [],
   "source": [
    "a = 1,2,3,4,5,6,7,'gaurav','shubham','sachin|'"
   ]
  },
  {
   "cell_type": "code",
   "execution_count": 19,
   "id": "06cc33dc",
   "metadata": {},
   "outputs": [
    {
     "name": "stdout",
     "output_type": "stream",
     "text": [
      "(1, 2, 3, 4, 5, 6, 7, 'gaurav', 'shubham', 'sachin|')\n"
     ]
    }
   ],
   "source": [
    "print(a)"
   ]
  },
  {
   "cell_type": "code",
   "execution_count": 20,
   "id": "270174a5",
   "metadata": {},
   "outputs": [
    {
     "data": {
      "text/plain": [
       "(1, 2, 3, 4, 5, 6)"
      ]
     },
     "execution_count": 20,
     "metadata": {},
     "output_type": "execute_result"
    }
   ],
   "source": [
    "1,2,3,4,5,6"
   ]
  },
  {
   "cell_type": "code",
   "execution_count": 21,
   "id": "d376c4e3",
   "metadata": {},
   "outputs": [],
   "source": [
    "lis = [[]]*5"
   ]
  },
  {
   "cell_type": "code",
   "execution_count": 22,
   "id": "5cae695f",
   "metadata": {},
   "outputs": [
    {
     "name": "stdout",
     "output_type": "stream",
     "text": [
      "[[], [], [], [], []]\n"
     ]
    }
   ],
   "source": [
    "print(lis)"
   ]
  },
  {
   "cell_type": "code",
   "execution_count": 23,
   "id": "b57703e5",
   "metadata": {},
   "outputs": [
    {
     "name": "stdout",
     "output_type": "stream",
     "text": [
      "[[99], [99], [99], [99], [99]]\n"
     ]
    }
   ],
   "source": [
    "lis[-1].append(99)\n",
    "print(lis)"
   ]
  },
  {
   "cell_type": "code",
   "execution_count": 30,
   "id": "ee731d31",
   "metadata": {},
   "outputs": [],
   "source": [
    "l= [[1]]"
   ]
  },
  {
   "cell_type": "code",
   "execution_count": 31,
   "id": "95d32e90",
   "metadata": {},
   "outputs": [
    {
     "data": {
      "text/plain": [
       "[1]"
      ]
     },
     "execution_count": 31,
     "metadata": {},
     "output_type": "execute_result"
    }
   ],
   "source": [
    "l[0]"
   ]
  },
  {
   "cell_type": "code",
   "execution_count": 32,
   "id": "64c1dd47",
   "metadata": {},
   "outputs": [
    {
     "data": {
      "text/plain": [
       "[1]"
      ]
     },
     "execution_count": 32,
     "metadata": {},
     "output_type": "execute_result"
    }
   ],
   "source": [
    "l[-1]"
   ]
  },
  {
   "cell_type": "code",
   "execution_count": 33,
   "id": "0a24fb46",
   "metadata": {},
   "outputs": [
    {
     "name": "stdout",
     "output_type": "stream",
     "text": [
      "None\n"
     ]
    }
   ],
   "source": [
    "lis = [1,3,[4],5]\n",
    "print(lis.append(99))"
   ]
  },
  {
   "cell_type": "code",
   "execution_count": 34,
   "id": "dc8101a4",
   "metadata": {},
   "outputs": [
    {
     "name": "stdout",
     "output_type": "stream",
     "text": [
      "[1, 3, [4], 5, 99]\n"
     ]
    }
   ],
   "source": [
    "print(lis)"
   ]
  },
  {
   "cell_type": "code",
   "execution_count": 35,
   "id": "5a237aeb",
   "metadata": {},
   "outputs": [
    {
     "data": {
      "text/plain": [
       "tuple"
      ]
     },
     "execution_count": 35,
     "metadata": {},
     "output_type": "execute_result"
    }
   ],
   "source": [
    "tuple "
   ]
  },
  {
   "cell_type": "code",
   "execution_count": 37,
   "id": "0a8e490a",
   "metadata": {},
   "outputs": [
    {
     "data": {
      "text/plain": [
       "['__add__',\n",
       " '__class__',\n",
       " '__class_getitem__',\n",
       " '__contains__',\n",
       " '__delattr__',\n",
       " '__dir__',\n",
       " '__doc__',\n",
       " '__eq__',\n",
       " '__format__',\n",
       " '__ge__',\n",
       " '__getattribute__',\n",
       " '__getitem__',\n",
       " '__getnewargs__',\n",
       " '__gt__',\n",
       " '__hash__',\n",
       " '__init__',\n",
       " '__init_subclass__',\n",
       " '__iter__',\n",
       " '__le__',\n",
       " '__len__',\n",
       " '__lt__',\n",
       " '__mul__',\n",
       " '__ne__',\n",
       " '__new__',\n",
       " '__reduce__',\n",
       " '__reduce_ex__',\n",
       " '__repr__',\n",
       " '__rmul__',\n",
       " '__setattr__',\n",
       " '__sizeof__',\n",
       " '__str__',\n",
       " '__subclasshook__',\n",
       " 'count',\n",
       " 'index']"
      ]
     },
     "execution_count": 37,
     "metadata": {},
     "output_type": "execute_result"
    }
   ],
   "source": [
    "dir(tuple)"
   ]
  },
  {
   "cell_type": "code",
   "execution_count": null,
   "id": "bdec70c9",
   "metadata": {},
   "outputs": [],
   "source": [
    "    ' count',\n",
    "     'index"
   ]
  },
  {
   "cell_type": "code",
   "execution_count": 46,
   "id": "00e9f87a",
   "metadata": {},
   "outputs": [],
   "source": [
    "t = (1,3,4,5,6,7,7,8,8,8)"
   ]
  },
  {
   "cell_type": "code",
   "execution_count": 47,
   "id": "3489f214",
   "metadata": {},
   "outputs": [
    {
     "name": "stdout",
     "output_type": "stream",
     "text": [
      "(1, 3, 4, 5, 6, 7, 7, 8, 8, 8)\n"
     ]
    }
   ],
   "source": [
    "print(t)"
   ]
  },
  {
   "cell_type": "code",
   "execution_count": 48,
   "id": "fc4d44cb",
   "metadata": {},
   "outputs": [
    {
     "data": {
      "text/plain": [
       "7"
      ]
     },
     "execution_count": 48,
     "metadata": {},
     "output_type": "execute_result"
    }
   ],
   "source": [
    "t[5]"
   ]
  },
  {
   "cell_type": "code",
   "execution_count": 49,
   "id": "cbadb9a5",
   "metadata": {},
   "outputs": [
    {
     "data": {
      "text/plain": [
       "5"
      ]
     },
     "execution_count": 49,
     "metadata": {},
     "output_type": "execute_result"
    }
   ],
   "source": [
    "t.index(7)"
   ]
  },
  {
   "cell_type": "code",
   "execution_count": 50,
   "id": "69e1ed53",
   "metadata": {},
   "outputs": [
    {
     "data": {
      "text/plain": [
       "2"
      ]
     },
     "execution_count": 50,
     "metadata": {},
     "output_type": "execute_result"
    }
   ],
   "source": [
    "t.count(7)"
   ]
  },
  {
   "cell_type": "code",
   "execution_count": 51,
   "id": "56e78488",
   "metadata": {},
   "outputs": [
    {
     "data": {
      "text/plain": [
       "3"
      ]
     },
     "execution_count": 51,
     "metadata": {},
     "output_type": "execute_result"
    }
   ],
   "source": [
    "t.count(8)"
   ]
  },
  {
   "cell_type": "markdown",
   "id": "35c5278c",
   "metadata": {},
   "source": [
    "# dictionary\n",
    "    pm : narendra modi\n",
    "    \n",
    "    {}\n",
    "    {key:value}\n",
    "    hash value--> key\n",
    "    unindexed \n",
    "    mutable data type \n",
    "    ordered \n",
    "    \n",
    "    "
   ]
  },
  {
   "cell_type": "code",
   "execution_count": 52,
   "id": "4401b3ca",
   "metadata": {},
   "outputs": [],
   "source": [
    "my_dict = {}"
   ]
  },
  {
   "cell_type": "code",
   "execution_count": 54,
   "id": "edb1f0dc",
   "metadata": {},
   "outputs": [
    {
     "name": "stdout",
     "output_type": "stream",
     "text": [
      "{} <class 'dict'>\n"
     ]
    }
   ],
   "source": [
    "print(my_dict,type(my_dict))"
   ]
  },
  {
   "cell_type": "code",
   "execution_count": 55,
   "id": "79c45503",
   "metadata": {},
   "outputs": [],
   "source": [
    "s = {1,2,3,4}"
   ]
  },
  {
   "cell_type": "code",
   "execution_count": 56,
   "id": "4f3f64a3",
   "metadata": {},
   "outputs": [
    {
     "name": "stdout",
     "output_type": "stream",
     "text": [
      "<class 'set'> {1, 2, 3, 4}\n"
     ]
    }
   ],
   "source": [
    "print(type(s),s)"
   ]
  },
  {
   "cell_type": "code",
   "execution_count": 57,
   "id": "8e1d4ce3",
   "metadata": {},
   "outputs": [],
   "source": [
    "data = {'name':'gaurav','course':'python','mob':12345678}"
   ]
  },
  {
   "cell_type": "code",
   "execution_count": 58,
   "id": "9edfd99b",
   "metadata": {},
   "outputs": [
    {
     "name": "stdout",
     "output_type": "stream",
     "text": [
      "{'name': 'gaurav', 'course': 'python', 'mob': 12345678}\n"
     ]
    }
   ],
   "source": [
    "print(data)"
   ]
  },
  {
   "cell_type": "code",
   "execution_count": 59,
   "id": "816645f8",
   "metadata": {},
   "outputs": [],
   "source": [
    "info = {\n",
    "    'name':'ashish',\n",
    "    'dis':'kota',\n",
    "    'state':'rajasthan'\n",
    "    \n",
    "}"
   ]
  },
  {
   "cell_type": "code",
   "execution_count": 60,
   "id": "87076ae3",
   "metadata": {},
   "outputs": [
    {
     "name": "stdout",
     "output_type": "stream",
     "text": [
      "{'name': 'ashish', 'dis': 'kota', 'state': 'rajasthan'}\n"
     ]
    }
   ],
   "source": [
    "print(info)"
   ]
  },
  {
   "cell_type": "code",
   "execution_count": 63,
   "id": "c0fafe24",
   "metadata": {},
   "outputs": [
    {
     "data": {
      "text/plain": [
       "'rajasthan'"
      ]
     },
     "execution_count": 63,
     "metadata": {},
     "output_type": "execute_result"
    }
   ],
   "source": [
    "info['state']"
   ]
  },
  {
   "cell_type": "code",
   "execution_count": 68,
   "id": "3a37bfad",
   "metadata": {},
   "outputs": [],
   "source": [
    "students = {\n",
    "    1:'gaurav',\n",
    "    2:'shubham',\n",
    "    3:'vikash',\n",
    "    4:'ravi',\n",
    "    5:'deep',\n",
    "    6:'sachin',\n",
    "    7:'ritesh',\n",
    "    8:'aman',\n",
    "    9:'bhati'\n",
    "}"
   ]
  },
  {
   "cell_type": "code",
   "execution_count": 70,
   "id": "73908ea8",
   "metadata": {},
   "outputs": [
    {
     "name": "stdout",
     "output_type": "stream",
     "text": [
      "{1: 'gaurav', 2: 'shubham', 3: 'vikash', 4: 'ravi', 5: 'deep', 6: 'sachin', 7: 'ritesh', 8: 'aman', 9: 'bhati'}\n"
     ]
    }
   ],
   "source": [
    "print(students)"
   ]
  },
  {
   "cell_type": "code",
   "execution_count": 72,
   "id": "183a5c7e",
   "metadata": {},
   "outputs": [],
   "source": [
    "data = {\n",
    "    \n",
    "    (1,2,4):'shubham'\n",
    "    \n",
    "}"
   ]
  },
  {
   "cell_type": "code",
   "execution_count": 73,
   "id": "a9f9f176",
   "metadata": {},
   "outputs": [
    {
     "name": "stdout",
     "output_type": "stream",
     "text": [
      "{(1, 2, 4): 'shubham'}\n"
     ]
    }
   ],
   "source": [
    "print(data)"
   ]
  },
  {
   "cell_type": "code",
   "execution_count": 84,
   "id": "3b459c82",
   "metadata": {},
   "outputs": [],
   "source": [
    "s = 'gaur@1234av'"
   ]
  },
  {
   "cell_type": "code",
   "execution_count": 85,
   "id": "4602e8a0",
   "metadata": {},
   "outputs": [
    {
     "data": {
      "text/plain": [
       "-8132269386488406454"
      ]
     },
     "execution_count": 85,
     "metadata": {},
     "output_type": "execute_result"
    }
   ],
   "source": [
    "hash(s)"
   ]
  },
  {
   "cell_type": "code",
   "execution_count": 82,
   "id": "8c457332",
   "metadata": {},
   "outputs": [],
   "source": [
    "s1 = 'gaur@1234av'"
   ]
  },
  {
   "cell_type": "code",
   "execution_count": 83,
   "id": "1cbed775",
   "metadata": {},
   "outputs": [
    {
     "data": {
      "text/plain": [
       "-8132269386488406454"
      ]
     },
     "execution_count": 83,
     "metadata": {},
     "output_type": "execute_result"
    }
   ],
   "source": [
    "hash(s1)"
   ]
  },
  {
   "cell_type": "code",
   "execution_count": 94,
   "id": "fb636cb3",
   "metadata": {},
   "outputs": [],
   "source": [
    "a = \"hello\""
   ]
  },
  {
   "cell_type": "code",
   "execution_count": 95,
   "id": "5eb69ef1",
   "metadata": {},
   "outputs": [],
   "source": [
    "b = \"hello\""
   ]
  },
  {
   "cell_type": "code",
   "execution_count": 96,
   "id": "d712818a",
   "metadata": {},
   "outputs": [
    {
     "name": "stdout",
     "output_type": "stream",
     "text": [
      "2385466435056\n"
     ]
    }
   ],
   "source": [
    "print(id(a))"
   ]
  },
  {
   "cell_type": "code",
   "execution_count": 97,
   "id": "a380b582",
   "metadata": {},
   "outputs": [
    {
     "name": "stdout",
     "output_type": "stream",
     "text": [
      "2385466435056\n"
     ]
    }
   ],
   "source": [
    "print(id(b))"
   ]
  },
  {
   "cell_type": "markdown",
   "id": "f4a60696",
   "metadata": {},
   "source": [
    "# shallow copy and deep copy"
   ]
  },
  {
   "cell_type": "markdown",
   "id": "ed126e0f",
   "metadata": {},
   "source": [
    "# \n",
    "    shallow copy :--> \n",
    "        "
   ]
  },
  {
   "cell_type": "code",
   "execution_count": 98,
   "id": "811f8ab8",
   "metadata": {},
   "outputs": [
    {
     "name": "stdout",
     "output_type": "stream",
     "text": [
      "10\n"
     ]
    }
   ],
   "source": [
    "a = 10\n",
    "b = a\n",
    "print(b)"
   ]
  },
  {
   "cell_type": "code",
   "execution_count": 99,
   "id": "beb3ee45",
   "metadata": {},
   "outputs": [
    {
     "name": "stdout",
     "output_type": "stream",
     "text": [
      "2385389972048\n"
     ]
    }
   ],
   "source": [
    "print(id(a))"
   ]
  },
  {
   "cell_type": "code",
   "execution_count": 100,
   "id": "3a0e64df",
   "metadata": {},
   "outputs": [
    {
     "name": "stdout",
     "output_type": "stream",
     "text": [
      "2385389972048\n"
     ]
    }
   ],
   "source": [
    "print(id(b))"
   ]
  },
  {
   "cell_type": "markdown",
   "id": "5b680e87",
   "metadata": {},
   "source": [
    "# shallow copy"
   ]
  },
  {
   "cell_type": "code",
   "execution_count": 101,
   "id": "e048adfb",
   "metadata": {},
   "outputs": [],
   "source": [
    "lis = [1,2,3,4,['gaurav','shubham','sachin'],7,8,9]"
   ]
  },
  {
   "cell_type": "code",
   "execution_count": 103,
   "id": "5a274a5f",
   "metadata": {},
   "outputs": [],
   "source": [
    "lis[4][2] = 'ravi'"
   ]
  },
  {
   "cell_type": "code",
   "execution_count": 104,
   "id": "d7cb21e7",
   "metadata": {},
   "outputs": [
    {
     "name": "stdout",
     "output_type": "stream",
     "text": [
      "[1, 2, 3, 4, ['gaurav', 'shubham', 'ravi'], 7, 8, 9]\n"
     ]
    }
   ],
   "source": [
    "print(lis)"
   ]
  },
  {
   "cell_type": "code",
   "execution_count": 108,
   "id": "26abcf99",
   "metadata": {},
   "outputs": [
    {
     "name": "stdout",
     "output_type": "stream",
     "text": [
      "[1, 2, 3, ['gaurav', 'shubham', 'sachin'], 7, 8, 9] 2385470660224\n",
      "[1, 2, 3, ['gaurav', 'shubham', 'sachin'], 'shriyansh', 8, 9] 2385470698688\n"
     ]
    }
   ],
   "source": [
    "lis = [1,2,3,['gaurav','shubham','sachin'],7,8,9]\n",
    "\n",
    "lis1 = lis.copy()\n",
    "\n",
    "lis1[4] = 'shriyansh'\n",
    "\n",
    "print(lis,id(lis))\n",
    "print(lis1,id(lis1))"
   ]
  },
  {
   "cell_type": "code",
   "execution_count": 110,
   "id": "67b7b208",
   "metadata": {},
   "outputs": [
    {
     "name": "stdout",
     "output_type": "stream",
     "text": [
      "[1, 2, 4, ['gaurav', 'shubham', 'sachin'], 'ashish', 8, 9] 2385471595328\n",
      "[1, 2, 4, ['gaurav', 'shubham', 'sachin'], 'ashish', 8, 9] 2385471595328\n"
     ]
    }
   ],
   "source": [
    "lis3 = [1,2,4,['gaurav','shubham','sachin'],7,8,9]\n",
    "lis4 = lis3\n",
    "\n",
    "\n",
    "lis4[4]='ashish'\n",
    "\n",
    "print(lis3,id(lis3))\n",
    "print(lis4,id(lis4))"
   ]
  },
  {
   "cell_type": "code",
   "execution_count": 111,
   "id": "76566b5f",
   "metadata": {},
   "outputs": [],
   "source": [
    "lis = [1,2,3,4]"
   ]
  },
  {
   "cell_type": "code",
   "execution_count": 112,
   "id": "2f6efe73",
   "metadata": {},
   "outputs": [
    {
     "data": {
      "text/plain": [
       "[1, 2, 3, 4]"
      ]
     },
     "execution_count": 112,
     "metadata": {},
     "output_type": "execute_result"
    }
   ],
   "source": [
    "lis.copy()"
   ]
  },
  {
   "cell_type": "code",
   "execution_count": 113,
   "id": "32981428",
   "metadata": {},
   "outputs": [],
   "source": [
    "lis1 = [1,2,3,4]"
   ]
  },
  {
   "cell_type": "code",
   "execution_count": 114,
   "id": "fc360e46",
   "metadata": {},
   "outputs": [],
   "source": [
    "lis2=lis1"
   ]
  },
  {
   "cell_type": "code",
   "execution_count": 2,
   "id": "cdb032ea",
   "metadata": {},
   "outputs": [],
   "source": [
    "lis = [1,2,3,5]\n",
    "lis1 = lis.copy()"
   ]
  },
  {
   "cell_type": "code",
   "execution_count": 3,
   "id": "d3e35a94",
   "metadata": {},
   "outputs": [
    {
     "name": "stdout",
     "output_type": "stream",
     "text": [
      "1853734607616\n",
      "1853734608000\n",
      "[1, 2, 3, 5] 1853734607616\n",
      "[1, 2, 'gaurav', 5] 1853734608000\n"
     ]
    }
   ],
   "source": [
    "print(id(lis))\n",
    "print(id(lis1))\n",
    "\n",
    "lis1[2] ='gaurav'\n",
    "\n",
    "print(lis,id(lis))\n",
    "print(lis1,id(lis1))"
   ]
  },
  {
   "cell_type": "code",
   "execution_count": null,
   "id": "840683c1",
   "metadata": {},
   "outputs": [],
   "source": []
  }
 ],
 "metadata": {
  "kernelspec": {
   "display_name": "Python 3 (ipykernel)",
   "language": "python",
   "name": "python3"
  },
  "language_info": {
   "codemirror_mode": {
    "name": "ipython",
    "version": 3
   },
   "file_extension": ".py",
   "mimetype": "text/x-python",
   "name": "python",
   "nbconvert_exporter": "python",
   "pygments_lexer": "ipython3",
   "version": "3.9.13"
  }
 },
 "nbformat": 4,
 "nbformat_minor": 5
}
