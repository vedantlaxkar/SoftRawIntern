{
 "cells": [
  {
   "cell_type": "code",
   "execution_count": 9,
   "id": "e56b85ac",
   "metadata": {},
   "outputs": [],
   "source": [
    "info = {\n",
    "    'name':\"gaurav\",\n",
    "    'state':'rajathan',\n",
    "    \"course\":'python',\n",
    "    'mob':123456789\n",
    "}"
   ]
  },
  {
   "cell_type": "code",
   "execution_count": 3,
   "id": "e752c431",
   "metadata": {},
   "outputs": [
    {
     "data": {
      "text/plain": [
       "['__class__',\n",
       " '__class_getitem__',\n",
       " '__contains__',\n",
       " '__delattr__',\n",
       " '__delitem__',\n",
       " '__dir__',\n",
       " '__doc__',\n",
       " '__eq__',\n",
       " '__format__',\n",
       " '__ge__',\n",
       " '__getattribute__',\n",
       " '__getitem__',\n",
       " '__gt__',\n",
       " '__hash__',\n",
       " '__init__',\n",
       " '__init_subclass__',\n",
       " '__ior__',\n",
       " '__iter__',\n",
       " '__le__',\n",
       " '__len__',\n",
       " '__lt__',\n",
       " '__ne__',\n",
       " '__new__',\n",
       " '__or__',\n",
       " '__reduce__',\n",
       " '__reduce_ex__',\n",
       " '__repr__',\n",
       " '__reversed__',\n",
       " '__ror__',\n",
       " '__setattr__',\n",
       " '__setitem__',\n",
       " '__sizeof__',\n",
       " '__str__',\n",
       " '__subclasshook__',\n",
       " 'clear',\n",
       " 'copy',\n",
       " 'fromkeys',\n",
       " 'get',\n",
       " 'items',\n",
       " 'keys',\n",
       " 'pop',\n",
       " 'popitem',\n",
       " 'setdefault',\n",
       " 'update',\n",
       " 'values']"
      ]
     },
     "execution_count": 3,
     "metadata": {},
     "output_type": "execute_result"
    }
   ],
   "source": [
    "(dir(info))"
   ]
  },
  {
   "cell_type": "markdown",
   "id": "e77fb2af",
   "metadata": {},
   "source": [
    "# shallow "
   ]
  },
  {
   "cell_type": "code",
   "execution_count": 4,
   "id": "8480075e",
   "metadata": {},
   "outputs": [
    {
     "name": "stdout",
     "output_type": "stream",
     "text": [
      "2088988658240\n",
      "2088988658368\n",
      "[1, 2, 3, 'gaurav', 5]\n",
      "[1, 2, 3, 4, 5]\n"
     ]
    }
   ],
   "source": [
    "lis = [1,2,3,4,5]\n",
    "lis1 = lis.copy()\n",
    "\n",
    "print(id(lis))\n",
    "print(id(lis1))\n",
    "\n",
    "lis1[3]= 'gaurav'\n",
    "print(lis1)\n",
    "print(lis)"
   ]
  },
  {
   "cell_type": "markdown",
   "id": "4c184211",
   "metadata": {},
   "source": [
    "# deep copy\n"
   ]
  },
  {
   "cell_type": "code",
   "execution_count": 7,
   "id": "6b3202e9",
   "metadata": {},
   "outputs": [
    {
     "name": "stdout",
     "output_type": "stream",
     "text": [
      "2088988649280\n",
      "2088988649280\n",
      "[1, 2, 'hello world', 4, 5]\n",
      "[1, 2, 'hello world', 4, 5]\n"
     ]
    }
   ],
   "source": [
    "ls = [1,2,3,4,5]\n",
    "ls1 = ls\n",
    "\n",
    "print(id(ls))\n",
    "print(id(ls1))\n",
    "\n",
    "ls[2] ='hello world'\n",
    "\n",
    "\n",
    "\n",
    "print(ls1)\n",
    "print(ls)"
   ]
  },
  {
   "cell_type": "markdown",
   "id": "ace00946",
   "metadata": {},
   "source": [
    "# ````\n",
    "    clear',:--> clear all the key and value from dictionary\n",
    "     'copy', :--> return shallow copy\n",
    "     'fromkeys', :--> new dictionary \n",
    "     'get',:--> value get \n",
    "     'items', :--> list all key and values \n",
    "     'keys',:--> return  all keys\n",
    "     'pop', :--> pop element \n",
    "     'popitem',:--> last item\n",
    "     'setdefault', :-> \n",
    "     'update', :-> \n",
    "     'values':-> return all values "
   ]
  },
  {
   "cell_type": "code",
   "execution_count": 10,
   "id": "d3c019de",
   "metadata": {},
   "outputs": [
    {
     "data": {
      "text/plain": [
       "{'name': 'gaurav', 'state': 'rajathan', 'course': 'python', 'mob': 123456789}"
      ]
     },
     "execution_count": 10,
     "metadata": {},
     "output_type": "execute_result"
    }
   ],
   "source": [
    "info"
   ]
  },
  {
   "cell_type": "code",
   "execution_count": 11,
   "id": "e46a0e7d",
   "metadata": {},
   "outputs": [
    {
     "data": {
      "text/plain": [
       "dict_values(['gaurav', 'rajathan', 'python', 123456789])"
      ]
     },
     "execution_count": 11,
     "metadata": {},
     "output_type": "execute_result"
    }
   ],
   "source": [
    "info.values()"
   ]
  },
  {
   "cell_type": "markdown",
   "id": "31537cc5",
   "metadata": {},
   "source": [
    "# popitem"
   ]
  },
  {
   "cell_type": "code",
   "execution_count": 12,
   "id": "fe8fbe3a",
   "metadata": {},
   "outputs": [
    {
     "data": {
      "text/plain": [
       "('mob', 123456789)"
      ]
     },
     "execution_count": 12,
     "metadata": {},
     "output_type": "execute_result"
    }
   ],
   "source": [
    "info.popitem()"
   ]
  },
  {
   "cell_type": "markdown",
   "id": "924e3e3e",
   "metadata": {},
   "source": [
    "# pop"
   ]
  },
  {
   "cell_type": "code",
   "execution_count": 15,
   "id": "4f5d1bba",
   "metadata": {},
   "outputs": [
    {
     "data": {
      "text/plain": [
       "'gaurav'"
      ]
     },
     "execution_count": 15,
     "metadata": {},
     "output_type": "execute_result"
    }
   ],
   "source": [
    "info.pop(\"name\")"
   ]
  },
  {
   "cell_type": "code",
   "execution_count": 16,
   "id": "25450ddf",
   "metadata": {},
   "outputs": [
    {
     "data": {
      "text/plain": [
       "{'state': 'rajathan', 'course': 'python'}"
      ]
     },
     "execution_count": 16,
     "metadata": {},
     "output_type": "execute_result"
    }
   ],
   "source": [
    "info"
   ]
  },
  {
   "cell_type": "markdown",
   "id": "d2a4b6f8",
   "metadata": {},
   "source": [
    "# \n",
    "    keys',:--> return  all keys"
   ]
  },
  {
   "cell_type": "code",
   "execution_count": 17,
   "id": "a07def6a",
   "metadata": {},
   "outputs": [
    {
     "data": {
      "text/plain": [
       "dict_keys(['state', 'course'])"
      ]
     },
     "execution_count": 17,
     "metadata": {},
     "output_type": "execute_result"
    }
   ],
   "source": [
    "info.keys()"
   ]
  },
  {
   "cell_type": "markdown",
   "id": "628a1f0f",
   "metadata": {},
   "source": [
    "# items\n",
    "    key,values"
   ]
  },
  {
   "cell_type": "code",
   "execution_count": 18,
   "id": "04e534b0",
   "metadata": {},
   "outputs": [
    {
     "data": {
      "text/plain": [
       "dict_items([('state', 'rajathan'), ('course', 'python')])"
      ]
     },
     "execution_count": 18,
     "metadata": {},
     "output_type": "execute_result"
    }
   ],
   "source": [
    "info.items()"
   ]
  },
  {
   "cell_type": "markdown",
   "id": "177d476e",
   "metadata": {},
   "source": [
    "# get "
   ]
  },
  {
   "cell_type": "code",
   "execution_count": 24,
   "id": "d3f9cb6a",
   "metadata": {},
   "outputs": [
    {
     "data": {
      "text/plain": [
       "'isme ye key present nhi hai '"
      ]
     },
     "execution_count": 24,
     "metadata": {},
     "output_type": "execute_result"
    }
   ],
   "source": [
    "info.get(\"gaurav\",'isme ye key present nhi hai ')"
   ]
  },
  {
   "cell_type": "code",
   "execution_count": 22,
   "id": "3a51b4cf",
   "metadata": {},
   "outputs": [
    {
     "data": {
      "text/plain": [
       "{'state': 'rajathan', 'course': 'python'}"
      ]
     },
     "execution_count": 22,
     "metadata": {},
     "output_type": "execute_result"
    }
   ],
   "source": [
    "info"
   ]
  },
  {
   "cell_type": "markdown",
   "id": "2a0fd9d4",
   "metadata": {},
   "source": [
    "# fromkeys"
   ]
  },
  {
   "cell_type": "code",
   "execution_count": 25,
   "id": "041d1f5b",
   "metadata": {},
   "outputs": [
    {
     "data": {
      "text/plain": [
       "{'state': 'rajathan', 'course': 'python'}"
      ]
     },
     "execution_count": 25,
     "metadata": {},
     "output_type": "execute_result"
    }
   ],
   "source": [
    "info"
   ]
  },
  {
   "cell_type": "code",
   "execution_count": 32,
   "id": "cac0e4fb",
   "metadata": {},
   "outputs": [
    {
     "data": {
      "text/plain": [
       "{1: 'hello', 2: 'hello', 3: 'hello', 4: 'hello'}"
      ]
     },
     "execution_count": 32,
     "metadata": {},
     "output_type": "execute_result"
    }
   ],
   "source": [
    "info.fromkeys([1,2,3,4],'hello')"
   ]
  },
  {
   "cell_type": "code",
   "execution_count": 33,
   "id": "9c8cc981",
   "metadata": {},
   "outputs": [],
   "source": [
    "info.clear()"
   ]
  },
  {
   "cell_type": "code",
   "execution_count": 34,
   "id": "7aa7770f",
   "metadata": {},
   "outputs": [
    {
     "data": {
      "text/plain": [
       "{}"
      ]
     },
     "execution_count": 34,
     "metadata": {},
     "output_type": "execute_result"
    }
   ],
   "source": [
    "info"
   ]
  },
  {
   "cell_type": "code",
   "execution_count": 35,
   "id": "078af2c6",
   "metadata": {},
   "outputs": [],
   "source": [
    "students = {\n",
    "    \"s1\":['gaurav','python','lab2','madhyapradesh'],\n",
    "    \"s2\":['shubham','c++','lab1','delhi'],\n",
    "    \"s3\":['sachin','dsa','lab5','alwar']\n",
    "}"
   ]
  },
  {
   "cell_type": "code",
   "execution_count": 36,
   "id": "525462fb",
   "metadata": {},
   "outputs": [
    {
     "data": {
      "text/plain": [
       "{'s1': ['gaurav', 'python', 'lab2', 'madhyapradesh'],\n",
       " 's2': ['shubham', 'c++', 'lab1', 'delhi'],\n",
       " 's3': ['sachin', 'dsa', 'lab5', 'alwar']}"
      ]
     },
     "execution_count": 36,
     "metadata": {},
     "output_type": "execute_result"
    }
   ],
   "source": [
    "students.copy()"
   ]
  },
  {
   "cell_type": "code",
   "execution_count": 38,
   "id": "d126018b",
   "metadata": {},
   "outputs": [
    {
     "name": "stdout",
     "output_type": "stream",
     "text": [
      "Help on built-in function copy:\n",
      "\n",
      "copy(...) method of builtins.dict instance\n",
      "    D.copy() -> a shallow copy of D\n",
      "\n"
     ]
    }
   ],
   "source": [
    "help(students.copy)"
   ]
  },
  {
   "cell_type": "markdown",
   "id": "69a8445d",
   "metadata": {},
   "source": [
    "# \n",
    "    'setdefault', :-> \n",
    "     'update', :-> "
   ]
  },
  {
   "cell_type": "code",
   "execution_count": 45,
   "id": "0b9429a3",
   "metadata": {},
   "outputs": [],
   "source": [
    "info = {\n",
    "    'cake':400,\n",
    "    'momos':200,\n",
    "    'cold-coffe':150\n",
    "}"
   ]
  },
  {
   "cell_type": "code",
   "execution_count": 58,
   "id": "9b86cf15",
   "metadata": {},
   "outputs": [],
   "source": [
    "info.setdefault(\"roti\")"
   ]
  },
  {
   "cell_type": "code",
   "execution_count": 59,
   "id": "933ca85b",
   "metadata": {},
   "outputs": [
    {
     "data": {
      "text/plain": [
       "{'cake': 400,\n",
       " 'momos': 124,\n",
       " 'cold-coffe': 150,\n",
       " 'curd': 124,\n",
       " 'shake': 1000,\n",
       " 'roti': None}"
      ]
     },
     "execution_count": 59,
     "metadata": {},
     "output_type": "execute_result"
    }
   ],
   "source": [
    "info"
   ]
  },
  {
   "cell_type": "code",
   "execution_count": 53,
   "id": "39884df6",
   "metadata": {},
   "outputs": [],
   "source": [
    "info.update({'curd':124})"
   ]
  },
  {
   "cell_type": "code",
   "execution_count": 54,
   "id": "85e907d5",
   "metadata": {},
   "outputs": [
    {
     "data": {
      "text/plain": [
       "{'cake': 400, 'momos': 124, 'cold-coffe': 150, 'curd': 124}"
      ]
     },
     "execution_count": 54,
     "metadata": {},
     "output_type": "execute_result"
    }
   ],
   "source": [
    "info"
   ]
  },
  {
   "cell_type": "code",
   "execution_count": 55,
   "id": "8e163aad",
   "metadata": {},
   "outputs": [
    {
     "name": "stdout",
     "output_type": "stream",
     "text": [
      "Help on built-in function setdefault:\n",
      "\n",
      "setdefault(key, default=None, /) method of builtins.dict instance\n",
      "    Insert key with a value of default if key is not in the dictionary.\n",
      "    \n",
      "    Return the value for key if key is in the dictionary, else default.\n",
      "\n"
     ]
    }
   ],
   "source": [
    "help(info.setdefault)"
   ]
  },
  {
   "cell_type": "code",
   "execution_count": 62,
   "id": "aad8a1a5",
   "metadata": {},
   "outputs": [
    {
     "data": {
      "text/plain": [
       "{'s1': ['gaurav', 'python', 'lab2', 'madhyapradesh'],\n",
       " 's2': ['shubham', 'c++', 'lab1', 'delhi'],\n",
       " 's3': ['sachin', 'dsa', 'lab5', 'alwar']}"
      ]
     },
     "execution_count": 62,
     "metadata": {},
     "output_type": "execute_result"
    }
   ],
   "source": [
    "((students))"
   ]
  },
  {
   "cell_type": "code",
   "execution_count": 63,
   "id": "24bfe12f",
   "metadata": {},
   "outputs": [
    {
     "data": {
      "text/plain": [
       "['gaurav', 'python', 'lab2', 'madhyapradesh']"
      ]
     },
     "execution_count": 63,
     "metadata": {},
     "output_type": "execute_result"
    }
   ],
   "source": [
    "students.setdefault(\"s1\")"
   ]
  },
  {
   "cell_type": "code",
   "execution_count": 65,
   "id": "f4f814cf",
   "metadata": {},
   "outputs": [
    {
     "data": {
      "text/plain": [
       "[1, 2, 3, 4, 5]"
      ]
     },
     "execution_count": 65,
     "metadata": {},
     "output_type": "execute_result"
    }
   ],
   "source": [
    "students.setdefault('s4',['gaurav', 'python', 'lab2', 'madhyapradesh'])"
   ]
  },
  {
   "cell_type": "code",
   "execution_count": 66,
   "id": "e87cbe45",
   "metadata": {},
   "outputs": [
    {
     "data": {
      "text/plain": [
       "['gaurav', 'python', 'lab2', 'madhyapradesh']"
      ]
     },
     "execution_count": 66,
     "metadata": {},
     "output_type": "execute_result"
    }
   ],
   "source": [
    "students.setdefault('s5',['gaurav', 'python', 'lab2', 'madhyapradesh'])"
   ]
  },
  {
   "cell_type": "code",
   "execution_count": 67,
   "id": "fa0ff67c",
   "metadata": {},
   "outputs": [
    {
     "data": {
      "text/plain": [
       "{'s1': ['gaurav', 'python', 'lab2', 'madhyapradesh'],\n",
       " 's2': ['shubham', 'c++', 'lab1', 'delhi'],\n",
       " 's3': ['sachin', 'dsa', 'lab5', 'alwar'],\n",
       " 's4': [1, 2, 3, 4, 5],\n",
       " 's5': ['gaurav', 'python', 'lab2', 'madhyapradesh']}"
      ]
     },
     "execution_count": 67,
     "metadata": {},
     "output_type": "execute_result"
    }
   ],
   "source": [
    "students"
   ]
  },
  {
   "cell_type": "code",
   "execution_count": 70,
   "id": "0833f20a",
   "metadata": {},
   "outputs": [
    {
     "data": {
      "text/plain": [
       "{'hello': 'python'}"
      ]
     },
     "execution_count": 70,
     "metadata": {},
     "output_type": "execute_result"
    }
   ],
   "source": [
    "info.fromkeys([\"hello\"],'python')"
   ]
  },
  {
   "cell_type": "code",
   "execution_count": 86,
   "id": "d8aa12de",
   "metadata": {},
   "outputs": [
    {
     "name": "stdout",
     "output_type": "stream",
     "text": [
      "enter a number of day:-> 5\n",
      "thr\n"
     ]
    }
   ],
   "source": [
    "days = {\n",
    "    1:'sunday',\n",
    "    2:'monday',\n",
    "    3:'tue',\n",
    "    4:'wed',\n",
    "    5:'thr',\n",
    "    6:'fri',\n",
    "    7:'sat',\n",
    "    8:'sunday'\n",
    "}\n",
    "\n",
    "\n",
    "day_num = int(input('enter a number of day:-> '))\n",
    "\n",
    "print(days.get(day_num,'Invalid input'))"
   ]
  },
  {
   "cell_type": "code",
   "execution_count": 72,
   "id": "88473973",
   "metadata": {},
   "outputs": [
    {
     "data": {
      "text/plain": [
       "{1: 'sunday',\n",
       " 2: 'monday',\n",
       " 3: 'tue',\n",
       " 4: 'wed',\n",
       " 5: 'thr',\n",
       " 6: 'fri',\n",
       " 7: 'sat',\n",
       " 8: 'sunday'}"
      ]
     },
     "execution_count": 72,
     "metadata": {},
     "output_type": "execute_result"
    }
   ],
   "source": [
    "days"
   ]
  },
  {
   "cell_type": "code",
   "execution_count": null,
   "id": "9f739d8b",
   "metadata": {},
   "outputs": [],
   "source": []
  }
 ],
 "metadata": {
  "kernelspec": {
   "display_name": "Python 3 (ipykernel)",
   "language": "python",
   "name": "python3"
  },
  "language_info": {
   "codemirror_mode": {
    "name": "ipython",
    "version": 3
   },
   "file_extension": ".py",
   "mimetype": "text/x-python",
   "name": "python",
   "nbconvert_exporter": "python",
   "pygments_lexer": "ipython3",
   "version": "3.9.13"
  }
 },
 "nbformat": 4,
 "nbformat_minor": 5
}
