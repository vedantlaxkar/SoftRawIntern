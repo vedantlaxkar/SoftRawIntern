{
 "cells": [
  {
   "cell_type": "markdown",
   "id": "d5ead320",
   "metadata": {},
   "source": [
    "# string\n",
    "    immuutable data type\n",
    "        --> we can not update or do any changes in original object\n",
    "    \n",
    "    --> ''\n",
    "        \"\"--> single line string\n",
    "        \"\"\"\"\"\",'''''' --> multiline string\n",
    "        \n",
    "        "
   ]
  },
  {
   "cell_type": "code",
   "execution_count": 1,
   "id": "b54f5ec5",
   "metadata": {},
   "outputs": [],
   "source": [
    "a = 'this is python first class '"
   ]
  },
  {
   "cell_type": "code",
   "execution_count": 2,
   "id": "e73da77f",
   "metadata": {},
   "outputs": [
    {
     "data": {
      "text/plain": [
       "'this is python first class '"
      ]
     },
     "execution_count": 2,
     "metadata": {},
     "output_type": "execute_result"
    }
   ],
   "source": [
    "a"
   ]
  },
  {
   "cell_type": "code",
   "execution_count": 3,
   "id": "2bb6ee19",
   "metadata": {},
   "outputs": [
    {
     "name": "stdout",
     "output_type": "stream",
     "text": [
      "this is python first class \n"
     ]
    }
   ],
   "source": [
    "print(a)"
   ]
  },
  {
   "cell_type": "code",
   "execution_count": 4,
   "id": "9116270b",
   "metadata": {},
   "outputs": [
    {
     "ename": "SyntaxError",
     "evalue": "invalid syntax (3730382321.py, line 1)",
     "output_type": "error",
     "traceback": [
      "\u001b[1;36m  File \u001b[1;32m\"C:\\Users\\Gaurav Nagda\\AppData\\Local\\Temp\\ipykernel_27596\\3730382321.py\"\u001b[1;36m, line \u001b[1;32m1\u001b[0m\n\u001b[1;33m    a = This is python first class\u001b[0m\n\u001b[1;37m                       ^\u001b[0m\n\u001b[1;31mSyntaxError\u001b[0m\u001b[1;31m:\u001b[0m invalid syntax\n"
     ]
    }
   ],
   "source": [
    "a = This is python first class"
   ]
  },
  {
   "cell_type": "code",
   "execution_count": 5,
   "id": "fb685686",
   "metadata": {},
   "outputs": [],
   "source": [
    "str =\"hello world this is python class\" "
   ]
  },
  {
   "cell_type": "code",
   "execution_count": 6,
   "id": "4aee7621",
   "metadata": {},
   "outputs": [
    {
     "name": "stdout",
     "output_type": "stream",
     "text": [
      "hello world this is python class\n"
     ]
    }
   ],
   "source": [
    "print(str)"
   ]
  },
  {
   "cell_type": "code",
   "execution_count": 1,
   "id": "085abc88",
   "metadata": {},
   "outputs": [],
   "source": [
    "a = 10"
   ]
  },
  {
   "cell_type": "code",
   "execution_count": 2,
   "id": "98ce1b3d",
   "metadata": {},
   "outputs": [
    {
     "data": {
      "text/plain": [
       "'10'"
      ]
     },
     "execution_count": 2,
     "metadata": {},
     "output_type": "execute_result"
    }
   ],
   "source": [
    "str(a)"
   ]
  },
  {
   "cell_type": "code",
   "execution_count": 3,
   "id": "449103a0",
   "metadata": {},
   "outputs": [],
   "source": [
    "hey = \"hello ,how are you\""
   ]
  },
  {
   "cell_type": "code",
   "execution_count": 4,
   "id": "3e24891d",
   "metadata": {},
   "outputs": [
    {
     "data": {
      "text/plain": [
       "'hello ,how are you'"
      ]
     },
     "execution_count": 4,
     "metadata": {},
     "output_type": "execute_result"
    }
   ],
   "source": [
    "hey"
   ]
  },
  {
   "cell_type": "code",
   "execution_count": 15,
   "id": "73c833f0",
   "metadata": {},
   "outputs": [],
   "source": [
    "a = \"hello this is python\\\n",
    "this is our organisation\""
   ]
  },
  {
   "cell_type": "code",
   "execution_count": 12,
   "id": "4c21cccf",
   "metadata": {},
   "outputs": [],
   "source": [
    "a = \"\"\"\n",
    "        hello this is python\n",
    "        this is our organisation\n",
    "        our organisation name is \n",
    "        grras solution pvt ltd\"\"\""
   ]
  },
  {
   "cell_type": "code",
   "execution_count": 13,
   "id": "df41e952",
   "metadata": {},
   "outputs": [
    {
     "name": "stdout",
     "output_type": "stream",
     "text": [
      "\n",
      "        hello this is python\n",
      "        this is our organisation\n",
      "        our organisation name is \n",
      "        grras solution pvt ltd\n"
     ]
    }
   ],
   "source": [
    "print(a)"
   ]
  },
  {
   "cell_type": "code",
   "execution_count": 22,
   "id": "1cfad090",
   "metadata": {},
   "outputs": [],
   "source": [
    "my_str = \"hello \\n hii \\n how is this possible\""
   ]
  },
  {
   "cell_type": "code",
   "execution_count": 23,
   "id": "700ab8d5",
   "metadata": {},
   "outputs": [
    {
     "data": {
      "text/plain": [
       "'hello \\n hii \\n how is this possible'"
      ]
     },
     "execution_count": 23,
     "metadata": {},
     "output_type": "execute_result"
    }
   ],
   "source": [
    "my_str"
   ]
  },
  {
   "cell_type": "code",
   "execution_count": 24,
   "id": "9b9656ff",
   "metadata": {},
   "outputs": [
    {
     "name": "stdout",
     "output_type": "stream",
     "text": [
      "hello \n",
      " hii \n",
      " how is this possible\n"
     ]
    }
   ],
   "source": [
    "print(my_str)"
   ]
  },
  {
   "cell_type": "markdown",
   "id": "35fbaebe",
   "metadata": {},
   "source": [
    "###### \\n is use for new line or next line"
   ]
  },
  {
   "cell_type": "code",
   "execution_count": 25,
   "id": "b5308d22",
   "metadata": {},
   "outputs": [],
   "source": [
    "my_str = \"hello \\\n",
    "python this is our first class\""
   ]
  },
  {
   "cell_type": "code",
   "execution_count": 26,
   "id": "5d636d50",
   "metadata": {},
   "outputs": [
    {
     "name": "stdout",
     "output_type": "stream",
     "text": [
      "hello python this is our first class\n"
     ]
    }
   ],
   "source": [
    "print(my_str)"
   ]
  },
  {
   "cell_type": "code",
   "execution_count": 27,
   "id": "e1149e56",
   "metadata": {},
   "outputs": [],
   "source": [
    "a = 10"
   ]
  },
  {
   "cell_type": "code",
   "execution_count": 28,
   "id": "ce4ef6d6",
   "metadata": {},
   "outputs": [
    {
     "name": "stdout",
     "output_type": "stream",
     "text": [
      "Enter any number10\n"
     ]
    }
   ],
   "source": [
    "user = input(\"Enter any number\")"
   ]
  },
  {
   "cell_type": "code",
   "execution_count": 29,
   "id": "62f19095",
   "metadata": {},
   "outputs": [
    {
     "name": "stdout",
     "output_type": "stream",
     "text": [
      "10\n"
     ]
    }
   ],
   "source": [
    "print(user)"
   ]
  },
  {
   "cell_type": "code",
   "execution_count": 30,
   "id": "2114cceb",
   "metadata": {},
   "outputs": [
    {
     "name": "stdout",
     "output_type": "stream",
     "text": [
      "Enter a number :-> 10\n",
      "Enter b number :-> 20\n",
      "1020\n"
     ]
    }
   ],
   "source": [
    "a = input('Enter a number :-> ')\n",
    "b = input('Enter b number :-> ')\n",
    "res = a+b\n",
    "print(res)"
   ]
  },
  {
   "cell_type": "code",
   "execution_count": 31,
   "id": "03f15ddf",
   "metadata": {},
   "outputs": [
    {
     "name": "stdout",
     "output_type": "stream",
     "text": [
      "<class 'str'>\n"
     ]
    }
   ],
   "source": [
    "print(type(a))"
   ]
  },
  {
   "cell_type": "code",
   "execution_count": 32,
   "id": "15319d2c",
   "metadata": {},
   "outputs": [
    {
     "name": "stdout",
     "output_type": "stream",
     "text": [
      "<class 'str'>\n"
     ]
    }
   ],
   "source": [
    "print(type(b))"
   ]
  },
  {
   "cell_type": "code",
   "execution_count": 33,
   "id": "99488f48",
   "metadata": {},
   "outputs": [
    {
     "data": {
      "text/plain": [
       "'1020'"
      ]
     },
     "execution_count": 33,
     "metadata": {},
     "output_type": "execute_result"
    }
   ],
   "source": [
    "\"10\"+\"20\""
   ]
  },
  {
   "cell_type": "code",
   "execution_count": 34,
   "id": "fe9aa2dd",
   "metadata": {},
   "outputs": [
    {
     "data": {
      "text/plain": [
       "<bound method Kernel.raw_input of <ipykernel.ipkernel.IPythonKernel object at 0x0000021D5B4C6AF0>>"
      ]
     },
     "execution_count": 34,
     "metadata": {},
     "output_type": "execute_result"
    }
   ],
   "source": [
    "input"
   ]
  },
  {
   "cell_type": "code",
   "execution_count": 37,
   "id": "238886a8",
   "metadata": {},
   "outputs": [
    {
     "name": "stdout",
     "output_type": "stream",
     "text": [
      "enter a num10.5\n"
     ]
    },
    {
     "ename": "ValueError",
     "evalue": "invalid literal for int() with base 10: '10.5'",
     "output_type": "error",
     "traceback": [
      "\u001b[1;31m---------------------------------------------------------------------------\u001b[0m",
      "\u001b[1;31mValueError\u001b[0m                                Traceback (most recent call last)",
      "\u001b[1;32m~\\AppData\\Local\\Temp\\ipykernel_6196\\1705758076.py\u001b[0m in \u001b[0;36m<module>\u001b[1;34m\u001b[0m\n\u001b[1;32m----> 1\u001b[1;33m \u001b[0ma\u001b[0m \u001b[1;33m=\u001b[0m \u001b[0mint\u001b[0m\u001b[1;33m(\u001b[0m\u001b[0minput\u001b[0m\u001b[1;33m(\u001b[0m\u001b[1;34m'enter a num'\u001b[0m\u001b[1;33m)\u001b[0m\u001b[1;33m)\u001b[0m\u001b[1;33m\u001b[0m\u001b[1;33m\u001b[0m\u001b[0m\n\u001b[0m\u001b[0;32m      2\u001b[0m \u001b[0mb\u001b[0m \u001b[1;33m=\u001b[0m \u001b[0mint\u001b[0m\u001b[1;33m(\u001b[0m\u001b[0minput\u001b[0m\u001b[1;33m(\u001b[0m\u001b[1;34m\"enter b num\"\u001b[0m\u001b[1;33m)\u001b[0m\u001b[1;33m)\u001b[0m\u001b[1;33m\u001b[0m\u001b[1;33m\u001b[0m\u001b[0m\n\u001b[0;32m      3\u001b[0m \u001b[0mres\u001b[0m \u001b[1;33m=\u001b[0m \u001b[0ma\u001b[0m\u001b[1;33m+\u001b[0m\u001b[0mb\u001b[0m\u001b[1;33m\u001b[0m\u001b[1;33m\u001b[0m\u001b[0m\n\u001b[0;32m      4\u001b[0m \u001b[0mprint\u001b[0m\u001b[1;33m(\u001b[0m\u001b[0mres\u001b[0m\u001b[1;33m)\u001b[0m\u001b[1;33m\u001b[0m\u001b[1;33m\u001b[0m\u001b[0m\n",
      "\u001b[1;31mValueError\u001b[0m: invalid literal for int() with base 10: '10.5'"
     ]
    }
   ],
   "source": [
    "a = int(input('enter a num'))\n",
    "b = int(input(\"enter b num\"))\n",
    "res = a+b\n",
    "print(res)"
   ]
  },
  {
   "cell_type": "code",
   "execution_count": 41,
   "id": "d311ad1c",
   "metadata": {},
   "outputs": [],
   "source": [
    "a = 'hello '\n",
    "b = ' world'\n",
    "res = a+b"
   ]
  },
  {
   "cell_type": "code",
   "execution_count": 39,
   "id": "01f22619",
   "metadata": {},
   "outputs": [
    {
     "data": {
      "text/plain": [
       "'hello '"
      ]
     },
     "execution_count": 39,
     "metadata": {},
     "output_type": "execute_result"
    }
   ],
   "source": [
    "a"
   ]
  },
  {
   "cell_type": "code",
   "execution_count": 40,
   "id": "7110d7cd",
   "metadata": {},
   "outputs": [
    {
     "data": {
      "text/plain": [
       "' world'"
      ]
     },
     "execution_count": 40,
     "metadata": {},
     "output_type": "execute_result"
    }
   ],
   "source": [
    "b"
   ]
  },
  {
   "cell_type": "code",
   "execution_count": 42,
   "id": "225689ea",
   "metadata": {},
   "outputs": [
    {
     "data": {
      "text/plain": [
       "'hello  world'"
      ]
     },
     "execution_count": 42,
     "metadata": {},
     "output_type": "execute_result"
    }
   ],
   "source": [
    "res"
   ]
  },
  {
   "cell_type": "code",
   "execution_count": 46,
   "id": "6a314258",
   "metadata": {},
   "outputs": [
    {
     "ename": "TypeError",
     "evalue": "can only concatenate str (not \"int\") to str",
     "output_type": "error",
     "traceback": [
      "\u001b[1;31m---------------------------------------------------------------------------\u001b[0m",
      "\u001b[1;31mTypeError\u001b[0m                                 Traceback (most recent call last)",
      "\u001b[1;32m~\\AppData\\Local\\Temp\\ipykernel_6196\\598324396.py\u001b[0m in \u001b[0;36m<module>\u001b[1;34m\u001b[0m\n\u001b[0;32m      1\u001b[0m \u001b[0ma\u001b[0m \u001b[1;33m=\u001b[0m \u001b[1;34m'hello'\u001b[0m\u001b[1;33m\u001b[0m\u001b[1;33m\u001b[0m\u001b[0m\n\u001b[0;32m      2\u001b[0m \u001b[0mb\u001b[0m \u001b[1;33m=\u001b[0m \u001b[1;36m20\u001b[0m\u001b[1;33m\u001b[0m\u001b[1;33m\u001b[0m\u001b[0m\n\u001b[1;32m----> 3\u001b[1;33m \u001b[0mres\u001b[0m \u001b[1;33m=\u001b[0m \u001b[0ma\u001b[0m\u001b[1;33m+\u001b[0m\u001b[0mb\u001b[0m\u001b[1;33m\u001b[0m\u001b[1;33m\u001b[0m\u001b[0m\n\u001b[0m",
      "\u001b[1;31mTypeError\u001b[0m: can only concatenate str (not \"int\") to str"
     ]
    }
   ],
   "source": [
    "a = 'hello'\n",
    "b = 20\n",
    "res = a+b"
   ]
  },
  {
   "cell_type": "code",
   "execution_count": 45,
   "id": "850b3fe9",
   "metadata": {},
   "outputs": [
    {
     "data": {
      "text/plain": [
       "'hello20'"
      ]
     },
     "execution_count": 45,
     "metadata": {},
     "output_type": "execute_result"
    }
   ],
   "source": [
    "res"
   ]
  },
  {
   "cell_type": "code",
   "execution_count": 48,
   "id": "6e1a4401",
   "metadata": {},
   "outputs": [
    {
     "ename": "TypeError",
     "evalue": "unsupported operand type(s) for /: 'str' and 'str'",
     "output_type": "error",
     "traceback": [
      "\u001b[1;31m---------------------------------------------------------------------------\u001b[0m",
      "\u001b[1;31mTypeError\u001b[0m                                 Traceback (most recent call last)",
      "\u001b[1;32m~\\AppData\\Local\\Temp\\ipykernel_6196\\4018442632.py\u001b[0m in \u001b[0;36m<module>\u001b[1;34m\u001b[0m\n\u001b[0;32m      1\u001b[0m \u001b[0ma\u001b[0m \u001b[1;33m=\u001b[0m \u001b[1;34m'hello'\u001b[0m\u001b[1;33m\u001b[0m\u001b[1;33m\u001b[0m\u001b[0m\n\u001b[0;32m      2\u001b[0m \u001b[0mb\u001b[0m \u001b[1;33m=\u001b[0m \u001b[1;34m\"10\"\u001b[0m\u001b[1;33m\u001b[0m\u001b[1;33m\u001b[0m\u001b[0m\n\u001b[1;32m----> 3\u001b[1;33m \u001b[0mres\u001b[0m \u001b[1;33m=\u001b[0m \u001b[0ma\u001b[0m\u001b[1;33m/\u001b[0m\u001b[0mb\u001b[0m\u001b[1;33m\u001b[0m\u001b[1;33m\u001b[0m\u001b[0m\n\u001b[0m\u001b[0;32m      4\u001b[0m \u001b[0mprint\u001b[0m\u001b[1;33m(\u001b[0m\u001b[0mres\u001b[0m\u001b[1;33m)\u001b[0m\u001b[1;33m\u001b[0m\u001b[1;33m\u001b[0m\u001b[0m\n",
      "\u001b[1;31mTypeError\u001b[0m: unsupported operand type(s) for /: 'str' and 'str'"
     ]
    }
   ],
   "source": [
    "a = 'hello'\n",
    "b = \"10\"\n",
    "res = a/b\n",
    "print(res)"
   ]
  },
  {
   "cell_type": "code",
   "execution_count": 1,
   "id": "ee7c60e5",
   "metadata": {},
   "outputs": [
    {
     "data": {
      "text/plain": [
       "['__add__',\n",
       " '__class__',\n",
       " '__contains__',\n",
       " '__delattr__',\n",
       " '__dir__',\n",
       " '__doc__',\n",
       " '__eq__',\n",
       " '__format__',\n",
       " '__ge__',\n",
       " '__getattribute__',\n",
       " '__getitem__',\n",
       " '__getnewargs__',\n",
       " '__getstate__',\n",
       " '__gt__',\n",
       " '__hash__',\n",
       " '__init__',\n",
       " '__init_subclass__',\n",
       " '__iter__',\n",
       " '__le__',\n",
       " '__len__',\n",
       " '__lt__',\n",
       " '__mod__',\n",
       " '__mul__',\n",
       " '__ne__',\n",
       " '__new__',\n",
       " '__reduce__',\n",
       " '__reduce_ex__',\n",
       " '__repr__',\n",
       " '__rmod__',\n",
       " '__rmul__',\n",
       " '__setattr__',\n",
       " '__sizeof__',\n",
       " '__str__',\n",
       " '__subclasshook__',\n",
       " 'capitalize',\n",
       " 'casefold',\n",
       " 'center',\n",
       " 'count',\n",
       " 'encode',\n",
       " 'endswith',\n",
       " 'expandtabs',\n",
       " 'find',\n",
       " 'format',\n",
       " 'format_map',\n",
       " 'index',\n",
       " 'isalnum',\n",
       " 'isalpha',\n",
       " 'isascii',\n",
       " 'isdecimal',\n",
       " 'isdigit',\n",
       " 'isidentifier',\n",
       " 'islower',\n",
       " 'isnumeric',\n",
       " 'isprintable',\n",
       " 'isspace',\n",
       " 'istitle',\n",
       " 'isupper',\n",
       " 'join',\n",
       " 'ljust',\n",
       " 'lower',\n",
       " 'lstrip',\n",
       " 'maketrans',\n",
       " 'partition',\n",
       " 'removeprefix',\n",
       " 'removesuffix',\n",
       " 'replace',\n",
       " 'rfind',\n",
       " 'rindex',\n",
       " 'rjust',\n",
       " 'rpartition',\n",
       " 'rsplit',\n",
       " 'rstrip',\n",
       " 'split',\n",
       " 'splitlines',\n",
       " 'startswith',\n",
       " 'strip',\n",
       " 'swapcase',\n",
       " 'title',\n",
       " 'translate',\n",
       " 'upper',\n",
       " 'zfill']"
      ]
     },
     "execution_count": 1,
     "metadata": {},
     "output_type": "execute_result"
    }
   ],
   "source": [
    "dir(str)"
   ]
  },
  {
   "cell_type": "code",
   "execution_count": 6,
   "id": "12f08110",
   "metadata": {},
   "outputs": [
    {
     "data": {
      "text/plain": [
       "False"
      ]
     },
     "execution_count": 6,
     "metadata": {},
     "output_type": "execute_result"
    }
   ],
   "source": [
    "'heelo'>'zeara'"
   ]
  },
  {
   "cell_type": "code",
   "execution_count": 4,
   "id": "2a5aee0d",
   "metadata": {},
   "outputs": [
    {
     "ename": "TypeError",
     "evalue": "can't multiply sequence by non-int of type 'str'",
     "output_type": "error",
     "traceback": [
      "\u001b[1;31m---------------------------------------------------------------------------\u001b[0m",
      "\u001b[1;31mTypeError\u001b[0m                                 Traceback (most recent call last)",
      "Cell \u001b[1;32mIn[4], line 3\u001b[0m\n\u001b[0;32m      1\u001b[0m a \u001b[38;5;241m=\u001b[39m \u001b[38;5;124m'\u001b[39m\u001b[38;5;124mRam \u001b[39m\u001b[38;5;124m'\u001b[39m\n\u001b[0;32m      2\u001b[0m b \u001b[38;5;241m=\u001b[39m \u001b[38;5;124m'\u001b[39m\u001b[38;5;124mhello python\u001b[39m\u001b[38;5;124m'\u001b[39m\n\u001b[1;32m----> 3\u001b[0m \u001b[43ma\u001b[49m\u001b[38;5;241;43m*\u001b[39;49m\u001b[43mb\u001b[49m\n",
      "\u001b[1;31mTypeError\u001b[0m: can't multiply sequence by non-int of type 'str'"
     ]
    }
   ],
   "source": [
    "a = 'Ram '\n",
    "b = 'hello python'\n",
    "a*b"
   ]
  },
  {
   "cell_type": "code",
   "execution_count": 53,
   "id": "c32cd33a",
   "metadata": {},
   "outputs": [
    {
     "name": "stdout",
     "output_type": "stream",
     "text": [
      "Ram Ram Ram Ram Ram Ram Ram Ram Ram Ram Ram Ram Ram Ram Ram Ram Ram Ram Ram Ram Ram Ram Ram Ram Ram Ram Ram Ram Ram Ram Ram Ram Ram Ram Ram Ram Ram Ram Ram Ram Ram Ram Ram Ram Ram Ram Ram Ram Ram Ram Ram Ram Ram Ram Ram Ram Ram Ram Ram Ram Ram Ram Ram Ram Ram Ram Ram Ram Ram Ram Ram Ram Ram Ram Ram Ram Ram Ram Ram Ram Ram Ram Ram Ram Ram Ram Ram Ram Ram Ram Ram Ram Ram Ram Ram Ram Ram Ram Ram Ram Ram Ram Ram Ram Ram Ram Ram Ram \n"
     ]
    }
   ],
   "source": [
    "a = 'Ram '\n",
    "b = 108\n",
    "res = a*b\n",
    "print(res)"
   ]
  },
  {
   "cell_type": "markdown",
   "id": "8eee04d4",
   "metadata": {},
   "source": [
    "# \n",
    "     ,\n",
    "     '\n",
    "     \n",
    "     \n",
    "     \n",
    "     \n",
    "     'encode', \n",
    "      \n",
    "     'format',\n",
    "     'format_map',\n",
    "    \n",
    "     \n",
    "     'join', \n",
    "     \n",
    "     \n",
    "     \n",
    "     \n",
    "     'rsplit',\n",
    "     'rstrip',\n",
    "      'lstrip',\n",
    "     'split',\n",
    "     'splitlines',\n",
    "     '\n",
    "     'strip', \n",
    "     'swapcase', \n",
    "      \n",
    "     'translate',\n",
    "     \n",
    "     \n",
    "     \n",
    "   \n",
    "     \n",
    "     \n",
    "     \n",
    "     \n",
    "     \n",
    "# validation methods \n",
    "    'isalnum',\n",
    "     'isalpha',\n",
    "     'isascii',\n",
    "     'isdecimal',\n",
    "     'isdigit',\n",
    "     'isidentifier',\n",
    "     'islower',\n",
    "     'isnumeric', \n",
    "     'isprintable',\n",
    "     'isspace',\n",
    "     'istitle',\n",
    "     'isupper',"
   ]
  },
  {
   "cell_type": "code",
   "execution_count": 55,
   "id": "2f89d55d",
   "metadata": {},
   "outputs": [],
   "source": [
    "my_str = 'hello python this is Grras solution Pvt Ltd'\n",
    "a = my_str.upper()"
   ]
  },
  {
   "cell_type": "code",
   "execution_count": 56,
   "id": "043b58c3",
   "metadata": {},
   "outputs": [
    {
     "name": "stdout",
     "output_type": "stream",
     "text": [
      "HELLO PYTHON THIS IS GRRAS SOLUTION PVT LTD\n"
     ]
    }
   ],
   "source": [
    "print(a)"
   ]
  },
  {
   "cell_type": "code",
   "execution_count": 57,
   "id": "0ee9a572",
   "metadata": {},
   "outputs": [
    {
     "name": "stdout",
     "output_type": "stream",
     "text": [
      "hello python this is Grras solution Pvt Ltd\n"
     ]
    }
   ],
   "source": [
    "print(my_str)"
   ]
  },
  {
   "cell_type": "code",
   "execution_count": 59,
   "id": "360e6a76",
   "metadata": {},
   "outputs": [
    {
     "name": "stdout",
     "output_type": "stream",
     "text": [
      "Help on built-in function upper:\n",
      "\n",
      "upper() method of builtins.str instance\n",
      "    Return a copy of the string converted to uppercase.\n",
      "\n"
     ]
    }
   ],
   "source": [
    "help(my_str.upper)"
   ]
  },
  {
   "cell_type": "markdown",
   "id": "f3dc426f",
   "metadata": {},
   "source": [
    "# lower \n",
    "    return a copy of the string converted to lowercase"
   ]
  },
  {
   "cell_type": "code",
   "execution_count": 60,
   "id": "8eb127bb",
   "metadata": {},
   "outputs": [
    {
     "name": "stdout",
     "output_type": "stream",
     "text": [
      "HELOO THIS ISISISISISISI\n"
     ]
    }
   ],
   "source": [
    "a = \"HELOO THIS ISISISISISISI\"\n",
    "print(a)"
   ]
  },
  {
   "cell_type": "code",
   "execution_count": 61,
   "id": "9e2fff8f",
   "metadata": {},
   "outputs": [],
   "source": [
    "b = a.lower()"
   ]
  },
  {
   "cell_type": "code",
   "execution_count": 62,
   "id": "d47eb488",
   "metadata": {},
   "outputs": [
    {
     "name": "stdout",
     "output_type": "stream",
     "text": [
      "heloo this isisisisisisi\n"
     ]
    }
   ],
   "source": [
    "print(b)"
   ]
  },
  {
   "cell_type": "code",
   "execution_count": 63,
   "id": "53a8b72c",
   "metadata": {},
   "outputs": [],
   "source": [
    "a = 'hello this is Python'\n",
    "b = a.lower()"
   ]
  },
  {
   "cell_type": "code",
   "execution_count": 64,
   "id": "9f453fb0",
   "metadata": {},
   "outputs": [
    {
     "name": "stdout",
     "output_type": "stream",
     "text": [
      "hello this is Python\n"
     ]
    }
   ],
   "source": [
    "print(a)"
   ]
  },
  {
   "cell_type": "code",
   "execution_count": 65,
   "id": "e58bd1c7",
   "metadata": {},
   "outputs": [
    {
     "name": "stdout",
     "output_type": "stream",
     "text": [
      "hello this is python\n"
     ]
    }
   ],
   "source": [
    "print(b)"
   ]
  },
  {
   "cell_type": "markdown",
   "id": "eb21911e",
   "metadata": {},
   "source": [
    "# Title \n",
    "    "
   ]
  },
  {
   "cell_type": "code",
   "execution_count": 68,
   "id": "2263bb71",
   "metadata": {},
   "outputs": [],
   "source": [
    "a = 'hello this is grraS'"
   ]
  },
  {
   "cell_type": "code",
   "execution_count": 69,
   "id": "dbd2eb22",
   "metadata": {},
   "outputs": [
    {
     "data": {
      "text/plain": [
       "'Hello This Is Grras'"
      ]
     },
     "execution_count": 69,
     "metadata": {},
     "output_type": "execute_result"
    }
   ],
   "source": [
    "a.title()"
   ]
  },
  {
   "cell_type": "markdown",
   "id": "7bd04cd1",
   "metadata": {},
   "source": [
    "# capitalize"
   ]
  },
  {
   "cell_type": "code",
   "execution_count": 70,
   "id": "a00259fd",
   "metadata": {},
   "outputs": [],
   "source": [
    "a = 'Hello this is python class by gaurav'"
   ]
  },
  {
   "cell_type": "code",
   "execution_count": 71,
   "id": "633f0ad9",
   "metadata": {},
   "outputs": [
    {
     "data": {
      "text/plain": [
       "'Hello this is python class by gaurav'"
      ]
     },
     "execution_count": 71,
     "metadata": {},
     "output_type": "execute_result"
    }
   ],
   "source": [
    "a.capitalize()"
   ]
  },
  {
   "cell_type": "code",
   "execution_count": 72,
   "id": "2f33480c",
   "metadata": {},
   "outputs": [],
   "source": [
    "a = 'hello this side gaurav from jaipur'"
   ]
  },
  {
   "cell_type": "code",
   "execution_count": 73,
   "id": "61e49557",
   "metadata": {},
   "outputs": [
    {
     "data": {
      "text/plain": [
       "'Hello this side gaurav from jaipur'"
      ]
     },
     "execution_count": 73,
     "metadata": {},
     "output_type": "execute_result"
    }
   ],
   "source": [
    "a.capitalize()"
   ]
  },
  {
   "cell_type": "markdown",
   "id": "1309f6e9",
   "metadata": {},
   "source": [
    "# count \n",
    "    count the number of occurence of particular letter or word"
   ]
  },
  {
   "cell_type": "code",
   "execution_count": 83,
   "id": "7e9453d4",
   "metadata": {},
   "outputs": [],
   "source": [
    "a = 'gaurav gauravgauravgauravgaurvagauravgauravgaurvagaurvagaurva'"
   ]
  },
  {
   "cell_type": "code",
   "execution_count": 84,
   "id": "c287534c",
   "metadata": {},
   "outputs": [
    {
     "data": {
      "text/plain": [
       "10"
      ]
     },
     "execution_count": 84,
     "metadata": {},
     "output_type": "execute_result"
    }
   ],
   "source": [
    "a.count('g')"
   ]
  },
  {
   "cell_type": "markdown",
   "id": "66c2a0e0",
   "metadata": {},
   "source": [
    "# startswith',"
   ]
  },
  {
   "cell_type": "code",
   "execution_count": 8,
   "id": "e0d316fd",
   "metadata": {},
   "outputs": [],
   "source": [
    "s = 'hello python this is our class in morning'"
   ]
  },
  {
   "cell_type": "code",
   "execution_count": 10,
   "id": "008a3cc1",
   "metadata": {},
   "outputs": [
    {
     "data": {
      "text/plain": [
       "False"
      ]
     },
     "execution_count": 10,
     "metadata": {},
     "output_type": "execute_result"
    }
   ],
   "source": [
    "s.startswith(\"H\")"
   ]
  },
  {
   "cell_type": "markdown",
   "id": "dadd31e4",
   "metadata": {},
   "source": [
    "# endswith "
   ]
  },
  {
   "cell_type": "code",
   "execution_count": 11,
   "id": "dd66f4c8",
   "metadata": {},
   "outputs": [
    {
     "data": {
      "text/plain": [
       "'hello python this is our class in morning'"
      ]
     },
     "execution_count": 11,
     "metadata": {},
     "output_type": "execute_result"
    }
   ],
   "source": [
    "s"
   ]
  },
  {
   "cell_type": "code",
   "execution_count": 13,
   "id": "7d2aded8",
   "metadata": {},
   "outputs": [
    {
     "data": {
      "text/plain": [
       "False"
      ]
     },
     "execution_count": 13,
     "metadata": {},
     "output_type": "execute_result"
    }
   ],
   "source": [
    "s.endswith('h')"
   ]
  },
  {
   "cell_type": "markdown",
   "id": "79bd8a71",
   "metadata": {},
   "source": [
    "# casefold"
   ]
  },
  {
   "cell_type": "code",
   "execution_count": 11,
   "id": "f699d3bd",
   "metadata": {},
   "outputs": [
    {
     "name": "stdout",
     "output_type": "stream",
     "text": [
      "Help on built-in function casefold:\n",
      "\n",
      "casefold() method of builtins.str instance\n",
      "    Return a version of the string suitable for caseless comparisons.\n",
      "\n"
     ]
    }
   ],
   "source": [
    "help(s.casefold)"
   ]
  },
  {
   "cell_type": "code",
   "execution_count": 19,
   "id": "aa1e3d5f",
   "metadata": {},
   "outputs": [
    {
     "data": {
      "text/plain": [
       "False"
      ]
     },
     "execution_count": 19,
     "metadata": {},
     "output_type": "execute_result"
    }
   ],
   "source": [
    "\"Hello\"==\"hello\""
   ]
  },
  {
   "cell_type": "code",
   "execution_count": 13,
   "id": "1e14b38c",
   "metadata": {},
   "outputs": [],
   "source": [
    "s = 'hello python'"
   ]
  },
  {
   "cell_type": "code",
   "execution_count": 14,
   "id": "7de45acc",
   "metadata": {},
   "outputs": [
    {
     "data": {
      "text/plain": [
       "'hello python'"
      ]
     },
     "execution_count": 14,
     "metadata": {},
     "output_type": "execute_result"
    }
   ],
   "source": [
    "s.casefold()"
   ]
  },
  {
   "cell_type": "code",
   "execution_count": 15,
   "id": "e968f82d",
   "metadata": {},
   "outputs": [],
   "source": [
    "s = 'HELLO world'"
   ]
  },
  {
   "cell_type": "code",
   "execution_count": 16,
   "id": "910feb34",
   "metadata": {},
   "outputs": [
    {
     "data": {
      "text/plain": [
       "'hello world'"
      ]
     },
     "execution_count": 16,
     "metadata": {},
     "output_type": "execute_result"
    }
   ],
   "source": [
    "s.casefold()"
   ]
  },
  {
   "cell_type": "code",
   "execution_count": 18,
   "id": "30b560e6",
   "metadata": {},
   "outputs": [
    {
     "data": {
      "text/plain": [
       "True"
      ]
     },
     "execution_count": 18,
     "metadata": {},
     "output_type": "execute_result"
    }
   ],
   "source": [
    "\"Hello\".casefold() >=\"hello\""
   ]
  },
  {
   "cell_type": "markdown",
   "id": "9c68ee06",
   "metadata": {},
   "source": [
    "# \n",
    "    'partition', :-> divide string into three parts\n",
    "     'rpartition',"
   ]
  },
  {
   "cell_type": "code",
   "execution_count": 26,
   "id": "831b83b4",
   "metadata": {},
   "outputs": [],
   "source": [
    "s = 'hello ,welcome to grras solutions pvt ltd'"
   ]
  },
  {
   "cell_type": "code",
   "execution_count": 27,
   "id": "a3601781",
   "metadata": {},
   "outputs": [
    {
     "data": {
      "text/plain": [
       "('h', 'e', 'llo ,welcome to grras solutions pvt ltd')"
      ]
     },
     "execution_count": 27,
     "metadata": {},
     "output_type": "execute_result"
    }
   ],
   "source": [
    "s.partition(\"e\")"
   ]
  },
  {
   "cell_type": "code",
   "execution_count": 24,
   "id": "e408aec0",
   "metadata": {},
   "outputs": [
    {
     "name": "stdout",
     "output_type": "stream",
     "text": [
      "Help on built-in function partition:\n",
      "\n",
      "partition(sep, /) method of builtins.str instance\n",
      "    Partition the string into three parts using the given separator.\n",
      "    \n",
      "    This will search for the separator in the string.  If the separator is found,\n",
      "    returns a 3-tuple containing the part before the separator, the separator\n",
      "    itself, and the part after it.\n",
      "    \n",
      "    If the separator is not found, returns a 3-tuple containing the original string\n",
      "    and two empty strings.\n",
      "\n"
     ]
    }
   ],
   "source": [
    "help(s.partition)"
   ]
  },
  {
   "cell_type": "markdown",
   "id": "3a4ffee2",
   "metadata": {},
   "source": [
    "# 'rpartition'"
   ]
  },
  {
   "cell_type": "code",
   "execution_count": 25,
   "id": "7eee32a2",
   "metadata": {},
   "outputs": [
    {
     "name": "stdout",
     "output_type": "stream",
     "text": [
      "hello ,welcome to grras solutions pvt ltd\n"
     ]
    }
   ],
   "source": [
    "print(s)"
   ]
  },
  {
   "cell_type": "code",
   "execution_count": 31,
   "id": "ad79b6ca",
   "metadata": {},
   "outputs": [
    {
     "data": {
      "text/plain": [
       "('hello ,welcome ', 'to', ' grras solutions pvt ltd')"
      ]
     },
     "execution_count": 31,
     "metadata": {},
     "output_type": "execute_result"
    }
   ],
   "source": [
    "s.rpartition('to')"
   ]
  },
  {
   "cell_type": "code",
   "execution_count": 33,
   "id": "6916a0ae",
   "metadata": {},
   "outputs": [
    {
     "data": {
      "text/plain": [
       "('hello ,welcom', 'e', ' to grras solutions pvt ltd')"
      ]
     },
     "execution_count": 33,
     "metadata": {},
     "output_type": "execute_result"
    }
   ],
   "source": [
    "s.rpartition('e')"
   ]
  },
  {
   "cell_type": "markdown",
   "id": "531f2ecd",
   "metadata": {},
   "source": [
    "# \n",
    "     'index',\n",
    "     'find',\n",
    "     'rindex'\n",
    "     'rfind',\n",
    "     'replace',"
   ]
  },
  {
   "cell_type": "code",
   "execution_count": 20,
   "id": "e144f006",
   "metadata": {},
   "outputs": [],
   "source": [
    "s = 'hello python this is python training by grras'"
   ]
  },
  {
   "cell_type": "code",
   "execution_count": 23,
   "id": "f37347a4",
   "metadata": {},
   "outputs": [],
   "source": [
    "s = \"hello world hello hello\"\n",
    "    #012345678910"
   ]
  },
  {
   "cell_type": "code",
   "execution_count": 24,
   "id": "0f846848",
   "metadata": {},
   "outputs": [
    {
     "name": "stdout",
     "output_type": "stream",
     "text": [
      "hello world hello hello\n"
     ]
    }
   ],
   "source": [
    "print(s)"
   ]
  },
  {
   "cell_type": "code",
   "execution_count": 52,
   "id": "2877191a",
   "metadata": {},
   "outputs": [
    {
     "ename": "ValueError",
     "evalue": "substring not found",
     "output_type": "error",
     "traceback": [
      "\u001b[1;31m---------------------------------------------------------------------------\u001b[0m",
      "\u001b[1;31mValueError\u001b[0m                                Traceback (most recent call last)",
      "\u001b[1;32m~\\AppData\\Local\\Temp\\ipykernel_21080\\632310128.py\u001b[0m in \u001b[0;36m<module>\u001b[1;34m\u001b[0m\n\u001b[1;32m----> 1\u001b[1;33m \u001b[0ms\u001b[0m\u001b[1;33m.\u001b[0m\u001b[0mindex\u001b[0m\u001b[1;33m(\u001b[0m\u001b[1;34m'gaurav'\u001b[0m\u001b[1;33m)\u001b[0m\u001b[1;33m\u001b[0m\u001b[1;33m\u001b[0m\u001b[0m\n\u001b[0m",
      "\u001b[1;31mValueError\u001b[0m: substring not found"
     ]
    }
   ],
   "source": [
    "s.index('gaurav')"
   ]
  },
  {
   "cell_type": "code",
   "execution_count": 25,
   "id": "fc7182f0",
   "metadata": {},
   "outputs": [
    {
     "data": {
      "text/plain": [
       "19"
      ]
     },
     "execution_count": 25,
     "metadata": {},
     "output_type": "execute_result"
    }
   ],
   "source": [
    "s.rindex('e')"
   ]
  },
  {
   "cell_type": "code",
   "execution_count": 26,
   "id": "895684e9",
   "metadata": {},
   "outputs": [
    {
     "data": {
      "text/plain": [
       "-1"
      ]
     },
     "execution_count": 26,
     "metadata": {},
     "output_type": "execute_result"
    }
   ],
   "source": [
    "s.find(\"jai\")"
   ]
  },
  {
   "cell_type": "code",
   "execution_count": 27,
   "id": "8539eca9",
   "metadata": {},
   "outputs": [
    {
     "data": {
      "text/plain": [
       "-1"
      ]
     },
     "execution_count": 27,
     "metadata": {},
     "output_type": "execute_result"
    }
   ],
   "source": [
    "s.rfind('jai')"
   ]
  },
  {
   "cell_type": "code",
   "execution_count": 59,
   "id": "58173ce9",
   "metadata": {},
   "outputs": [
    {
     "name": "stdout",
     "output_type": "stream",
     "text": [
      "Help on built-in function find:\n",
      "\n",
      "find(...) method of builtins.str instance\n",
      "    S.find(sub[, start[, end]]) -> int\n",
      "    \n",
      "    Return the lowest index in S where substring sub is found,\n",
      "    such that sub is contained within S[start:end].  Optional\n",
      "    arguments start and end are interpreted as in slice notation.\n",
      "    \n",
      "    Return -1 on failure.\n",
      "\n"
     ]
    }
   ],
   "source": [
    "help(s.find)"
   ]
  },
  {
   "cell_type": "markdown",
   "id": "584e76ee",
   "metadata": {},
   "source": [
    "# \n",
    "    'ljust\n",
    "     'rjust',\n",
    "     'zfill'\n",
    "     \n",
    "     \n",
    "     \n",
    "TO,\n",
    "    The hod \n",
    "    college name\n",
    "    state name\n",
    "    \n",
    "date\n",
    "sub \n",
    " \n",
    "dear \n",
    "    hello this side gaurav from grras\n",
    "      "
   ]
  },
  {
   "cell_type": "code",
   "execution_count": 60,
   "id": "0740fd91",
   "metadata": {},
   "outputs": [],
   "source": [
    "s = 'hello world'"
   ]
  },
  {
   "cell_type": "code",
   "execution_count": 61,
   "id": "c3c4f90f",
   "metadata": {},
   "outputs": [
    {
     "data": {
      "text/plain": [
       "'hello world'"
      ]
     },
     "execution_count": 61,
     "metadata": {},
     "output_type": "execute_result"
    }
   ],
   "source": [
    "s"
   ]
  },
  {
   "cell_type": "code",
   "execution_count": 72,
   "id": "5725caf8",
   "metadata": {},
   "outputs": [
    {
     "ename": "TypeError",
     "evalue": "The fill character must be exactly one character long",
     "output_type": "error",
     "traceback": [
      "\u001b[1;31m---------------------------------------------------------------------------\u001b[0m",
      "\u001b[1;31mTypeError\u001b[0m                                 Traceback (most recent call last)",
      "\u001b[1;32m~\\AppData\\Local\\Temp\\ipykernel_21080\\3270584985.py\u001b[0m in \u001b[0;36m<module>\u001b[1;34m\u001b[0m\n\u001b[1;32m----> 1\u001b[1;33m \u001b[0ms\u001b[0m\u001b[1;33m.\u001b[0m\u001b[0mljust\u001b[0m\u001b[1;33m(\u001b[0m\u001b[1;36m50\u001b[0m\u001b[1;33m,\u001b[0m\u001b[1;34m\"Grras\"\u001b[0m\u001b[1;33m)\u001b[0m\u001b[1;33m\u001b[0m\u001b[1;33m\u001b[0m\u001b[0m\n\u001b[0m",
      "\u001b[1;31mTypeError\u001b[0m: The fill character must be exactly one character long"
     ]
    }
   ],
   "source": [
    "s.ljust(50)"
   ]
  },
  {
   "cell_type": "code",
   "execution_count": 66,
   "id": "860fb455",
   "metadata": {},
   "outputs": [
    {
     "data": {
      "text/plain": [
       "'                                       hello world'"
      ]
     },
     "execution_count": 66,
     "metadata": {},
     "output_type": "execute_result"
    }
   ],
   "source": [
    "s.rjust(50)"
   ]
  },
  {
   "cell_type": "code",
   "execution_count": 68,
   "id": "424b1112",
   "metadata": {},
   "outputs": [
    {
     "data": {
      "text/plain": [
       "'000000000000000000000000000000000000000hello world'"
      ]
     },
     "execution_count": 68,
     "metadata": {},
     "output_type": "execute_result"
    }
   ],
   "source": [
    "s.zfill(50)"
   ]
  },
  {
   "cell_type": "markdown",
   "id": "d8508df6",
   "metadata": {},
   "source": [
    "# 'center',"
   ]
  },
  {
   "cell_type": "code",
   "execution_count": 73,
   "id": "7468eb99",
   "metadata": {},
   "outputs": [],
   "source": [
    "s = 'hello world'"
   ]
  },
  {
   "cell_type": "code",
   "execution_count": 76,
   "id": "f1c04c3c",
   "metadata": {},
   "outputs": [
    {
     "data": {
      "text/plain": [
       "'####hello world#####'"
      ]
     },
     "execution_count": 76,
     "metadata": {},
     "output_type": "execute_result"
    }
   ],
   "source": [
    "s.center(20,\"#\")"
   ]
  },
  {
   "cell_type": "markdown",
   "id": "73d9b6be",
   "metadata": {},
   "source": [
    "# ASCII"
   ]
  },
  {
   "cell_type": "code",
   "execution_count": 80,
   "id": "51ce75d3",
   "metadata": {},
   "outputs": [],
   "source": [
    "hello = 65\n"
   ]
  },
  {
   "cell_type": "code",
   "execution_count": 81,
   "id": "82f3b409",
   "metadata": {},
   "outputs": [
    {
     "data": {
      "text/plain": [
       "'A'"
      ]
     },
     "execution_count": 81,
     "metadata": {},
     "output_type": "execute_result"
    }
   ],
   "source": [
    "chr(hello)"
   ]
  },
  {
   "cell_type": "code",
   "execution_count": 82,
   "id": "800d1445",
   "metadata": {},
   "outputs": [
    {
     "data": {
      "text/plain": [
       "'Z'"
      ]
     },
     "execution_count": 82,
     "metadata": {},
     "output_type": "execute_result"
    }
   ],
   "source": [
    "char = 90\n",
    "chr(char)"
   ]
  },
  {
   "cell_type": "code",
   "execution_count": 83,
   "id": "27a2f588",
   "metadata": {},
   "outputs": [],
   "source": [
    "char = 97"
   ]
  },
  {
   "cell_type": "code",
   "execution_count": 84,
   "id": "d0814565",
   "metadata": {},
   "outputs": [
    {
     "data": {
      "text/plain": [
       "'a'"
      ]
     },
     "execution_count": 84,
     "metadata": {},
     "output_type": "execute_result"
    }
   ],
   "source": [
    "chr(char)"
   ]
  },
  {
   "cell_type": "code",
   "execution_count": 85,
   "id": "4d2fedb3",
   "metadata": {},
   "outputs": [
    {
     "data": {
      "text/plain": [
       "'z'"
      ]
     },
     "execution_count": 85,
     "metadata": {},
     "output_type": "execute_result"
    }
   ],
   "source": [
    "char = 122\n",
    "chr(char)"
   ]
  },
  {
   "cell_type": "code",
   "execution_count": 86,
   "id": "2aab3088",
   "metadata": {},
   "outputs": [
    {
     "data": {
      "text/plain": [
       "'<'"
      ]
     },
     "execution_count": 86,
     "metadata": {},
     "output_type": "execute_result"
    }
   ],
   "source": [
    "char = 60\n",
    "chr(char)"
   ]
  },
  {
   "cell_type": "code",
   "execution_count": 87,
   "id": "1bc6aeb1",
   "metadata": {},
   "outputs": [
    {
     "data": {
      "text/plain": [
       "'\\x0c'"
      ]
     },
     "execution_count": 87,
     "metadata": {},
     "output_type": "execute_result"
    }
   ],
   "source": [
    "char =12\n",
    "chr(char)"
   ]
  },
  {
   "cell_type": "code",
   "execution_count": 88,
   "id": "1c1ce165",
   "metadata": {},
   "outputs": [
    {
     "data": {
      "text/plain": [
       "'Ϩ'"
      ]
     },
     "execution_count": 88,
     "metadata": {},
     "output_type": "execute_result"
    }
   ],
   "source": [
    "char = 1000\n",
    "chr(char)"
   ]
  },
  {
   "cell_type": "code",
   "execution_count": 89,
   "id": "6e766021",
   "metadata": {},
   "outputs": [
    {
     "data": {
      "text/plain": [
       "'Ђ'"
      ]
     },
     "execution_count": 89,
     "metadata": {},
     "output_type": "execute_result"
    }
   ],
   "source": [
    "char = 1026\n",
    "chr(char)"
   ]
  },
  {
   "cell_type": "code",
   "execution_count": 90,
   "id": "daa626dd",
   "metadata": {},
   "outputs": [
    {
     "data": {
      "text/plain": [
       "'߾'"
      ]
     },
     "execution_count": 90,
     "metadata": {},
     "output_type": "execute_result"
    }
   ],
   "source": [
    "char = 2046\n",
    "chr(char)"
   ]
  },
  {
   "cell_type": "code",
   "execution_count": 91,
   "id": "a03e6ce7",
   "metadata": {},
   "outputs": [
    {
     "data": {
      "text/plain": [
       "65"
      ]
     },
     "execution_count": 91,
     "metadata": {},
     "output_type": "execute_result"
    }
   ],
   "source": [
    "ord('A')"
   ]
  },
  {
   "cell_type": "code",
   "execution_count": 92,
   "id": "78f47884",
   "metadata": {},
   "outputs": [
    {
     "data": {
      "text/plain": [
       "97"
      ]
     },
     "execution_count": 92,
     "metadata": {},
     "output_type": "execute_result"
    }
   ],
   "source": [
    "ord('a')"
   ]
  },
  {
   "cell_type": "code",
   "execution_count": 94,
   "id": "3427e155",
   "metadata": {},
   "outputs": [
    {
     "data": {
      "text/plain": [
       "2367"
      ]
     },
     "execution_count": 94,
     "metadata": {},
     "output_type": "execute_result"
    }
   ],
   "source": [
    "ord('ि')"
   ]
  },
  {
   "cell_type": "code",
   "execution_count": 95,
   "id": "338a3ad8",
   "metadata": {},
   "outputs": [
    {
     "data": {
      "text/plain": [
       "'त'"
      ]
     },
     "execution_count": 95,
     "metadata": {},
     "output_type": "execute_result"
    }
   ],
   "source": [
    "chr(2340)"
   ]
  },
  {
   "cell_type": "code",
   "execution_count": 96,
   "id": "f5b137cc",
   "metadata": {},
   "outputs": [
    {
     "data": {
      "text/plain": [
       "'ई'"
      ]
     },
     "execution_count": 96,
     "metadata": {},
     "output_type": "execute_result"
    }
   ],
   "source": [
    "chr(2312)"
   ]
  },
  {
   "cell_type": "code",
   "execution_count": 97,
   "id": "310e1372",
   "metadata": {},
   "outputs": [
    {
     "data": {
      "text/plain": [
       "'आ'"
      ]
     },
     "execution_count": 97,
     "metadata": {},
     "output_type": "execute_result"
    }
   ],
   "source": [
    "chr(2310)"
   ]
  },
  {
   "cell_type": "code",
   "execution_count": 98,
   "id": "a6337b65",
   "metadata": {},
   "outputs": [
    {
     "data": {
      "text/plain": [
       "'अ'"
      ]
     },
     "execution_count": 98,
     "metadata": {},
     "output_type": "execute_result"
    }
   ],
   "source": [
    "chr(2309)"
   ]
  },
  {
   "cell_type": "markdown",
   "id": "15fc1c3d",
   "metadata": {},
   "source": [
    "# encode', \n",
    "\n",
    "     'format',\n",
    "     'format_map',\n",
    "\n",
    "\n",
    "     'join', \n",
    "\n",
    "     \n",
    "     'swapcase', \n"
   ]
  },
  {
   "cell_type": "code",
   "execution_count": 1,
   "id": "7b28fa36",
   "metadata": {},
   "outputs": [
    {
     "name": "stdout",
     "output_type": "stream",
     "text": [
      "Enter a name :-> Gaurav\n",
      "Enter your age :-> 123\n",
      "Enter your state:-> rajasthan\n"
     ]
    }
   ],
   "source": [
    "name = input('Enter a name :-> ')\n",
    "age =input('Enter your age :-> ')\n",
    "state = input('Enter your state:-> ')\n",
    "\n",
    "output = \"My name is \"+ name+ \" , my age is \"+age+ \" my state is \"+ state"
   ]
  },
  {
   "cell_type": "code",
   "execution_count": 2,
   "id": "86acdcbe",
   "metadata": {},
   "outputs": [
    {
     "name": "stdout",
     "output_type": "stream",
     "text": [
      "My name is Gaurav , my age is 123 my state is rajasthan\n"
     ]
    }
   ],
   "source": [
    "print(output)"
   ]
  },
  {
   "cell_type": "code",
   "execution_count": 13,
   "id": "e3f13885",
   "metadata": {},
   "outputs": [],
   "source": [
    "out = \"My name is {} and my age is {} and state is {} \".format(age,name,state,a)"
   ]
  },
  {
   "cell_type": "code",
   "execution_count": 14,
   "id": "61152889",
   "metadata": {},
   "outputs": [
    {
     "name": "stdout",
     "output_type": "stream",
     "text": [
      "My name is 123 and my age is Gaurav and state is rajasthan \n"
     ]
    }
   ],
   "source": [
    "print(out)"
   ]
  },
  {
   "cell_type": "markdown",
   "id": "e4b5ca64",
   "metadata": {},
   "source": [
    "# a = 10"
   ]
  },
  {
   "cell_type": "code",
   "execution_count": 15,
   "id": "7837c16a",
   "metadata": {},
   "outputs": [],
   "source": [
    "out = f\"my name is {name} and my age is {age}\""
   ]
  },
  {
   "cell_type": "code",
   "execution_count": 16,
   "id": "371bd506",
   "metadata": {},
   "outputs": [
    {
     "name": "stdout",
     "output_type": "stream",
     "text": [
      "my name is Gaurav and my age is 123\n"
     ]
    }
   ],
   "source": [
    "print(out)"
   ]
  },
  {
   "cell_type": "code",
   "execution_count": 18,
   "id": "bb2e71a0",
   "metadata": {},
   "outputs": [
    {
     "name": "stdout",
     "output_type": "stream",
     "text": [
      "Help on built-in function format:\n",
      "\n",
      "format(...) method of builtins.str instance\n",
      "    S.format(*args, **kwargs) -> str\n",
      "    \n",
      "    Return a formatted version of S, using substitutions from args and kwargs.\n",
      "    The substitutions are identified by braces ('{' and '}').\n",
      "\n"
     ]
    }
   ],
   "source": [
    "help(out.format)"
   ]
  },
  {
   "cell_type": "markdown",
   "id": "764580b1",
   "metadata": {},
   "source": [
    "# join"
   ]
  },
  {
   "cell_type": "code",
   "execution_count": 19,
   "id": "64614fb2",
   "metadata": {},
   "outputs": [],
   "source": [
    "s = 'hello how are you'"
   ]
  },
  {
   "cell_type": "code",
   "execution_count": 22,
   "id": "0f77f478",
   "metadata": {},
   "outputs": [
    {
     "data": {
      "text/plain": [
       "'hhelloehellolhellolhelloohello hellohhelloohellowhello helloahellorhelloehello helloyhelloohellou'"
      ]
     },
     "execution_count": 22,
     "metadata": {},
     "output_type": "execute_result"
    }
   ],
   "source": [
    "\"hello\".join(s)"
   ]
  },
  {
   "cell_type": "markdown",
   "id": "420b45fb",
   "metadata": {},
   "source": [
    "# \n",
    " \n",
    "     'strip', :->\n",
    "     'rstrip',\n",
    "      'lstrip',"
   ]
  },
  {
   "cell_type": "code",
   "execution_count": 23,
   "id": "6f588c47",
   "metadata": {},
   "outputs": [
    {
     "name": "stdout",
     "output_type": "stream",
     "text": [
      "ENter a name :-< gaurav\n",
      "Enter your passGaurav1234\n"
     ]
    }
   ],
   "source": [
    "name = input('ENter a name :-< ')\n",
    "password = input('Enter your pass')"
   ]
  },
  {
   "cell_type": "code",
   "execution_count": 29,
   "id": "d44ac1c9",
   "metadata": {},
   "outputs": [],
   "source": [
    "s = 'gaurav'"
   ]
  },
  {
   "cell_type": "code",
   "execution_count": 30,
   "id": "13ff2775",
   "metadata": {},
   "outputs": [],
   "source": [
    "s1 = \"gaurav    \""
   ]
  },
  {
   "cell_type": "code",
   "execution_count": 31,
   "id": "6f5f28d6",
   "metadata": {},
   "outputs": [
    {
     "data": {
      "text/plain": [
       "False"
      ]
     },
     "execution_count": 31,
     "metadata": {},
     "output_type": "execute_result"
    }
   ],
   "source": [
    "s == s1"
   ]
  },
  {
   "cell_type": "code",
   "execution_count": 32,
   "id": "6170b8ae",
   "metadata": {},
   "outputs": [],
   "source": [
    "x = '                  hello                      '"
   ]
  },
  {
   "cell_type": "code",
   "execution_count": 33,
   "id": "e5d7cf0b",
   "metadata": {},
   "outputs": [
    {
     "name": "stdout",
     "output_type": "stream",
     "text": [
      "                  hello                      \n"
     ]
    }
   ],
   "source": [
    "print(x)"
   ]
  },
  {
   "cell_type": "code",
   "execution_count": 34,
   "id": "57236270",
   "metadata": {},
   "outputs": [
    {
     "data": {
      "text/plain": [
       "'hello'"
      ]
     },
     "execution_count": 34,
     "metadata": {},
     "output_type": "execute_result"
    }
   ],
   "source": [
    "x.strip()"
   ]
  },
  {
   "cell_type": "code",
   "execution_count": 29,
   "id": "8e538eeb",
   "metadata": {},
   "outputs": [],
   "source": [
    "s = 'gaurav'"
   ]
  },
  {
   "cell_type": "code",
   "execution_count": 31,
   "id": "bfadcf62",
   "metadata": {},
   "outputs": [],
   "source": [
    "s1 = \"   gaurav    \".strip()"
   ]
  },
  {
   "cell_type": "code",
   "execution_count": 32,
   "id": "bcf63175",
   "metadata": {},
   "outputs": [
    {
     "data": {
      "text/plain": [
       "True"
      ]
     },
     "execution_count": 32,
     "metadata": {},
     "output_type": "execute_result"
    }
   ],
   "source": [
    "s ==s1"
   ]
  },
  {
   "cell_type": "code",
   "execution_count": 33,
   "id": "29755c51",
   "metadata": {},
   "outputs": [
    {
     "data": {
      "text/plain": [
       "str"
      ]
     },
     "execution_count": 33,
     "metadata": {},
     "output_type": "execute_result"
    }
   ],
   "source": [
    "type(s1)"
   ]
  },
  {
   "cell_type": "markdown",
   "id": "73d5f0ae",
   "metadata": {},
   "source": [
    "# lstrip"
   ]
  },
  {
   "cell_type": "code",
   "execution_count": 39,
   "id": "23009308",
   "metadata": {},
   "outputs": [],
   "source": [
    "s = '                          hello python      '"
   ]
  },
  {
   "cell_type": "code",
   "execution_count": 42,
   "id": "569adc87",
   "metadata": {},
   "outputs": [
    {
     "name": "stdout",
     "output_type": "stream",
     "text": [
      "                          hello python      \n"
     ]
    }
   ],
   "source": [
    "print(s)"
   ]
  },
  {
   "cell_type": "code",
   "execution_count": 43,
   "id": "4fd3e988",
   "metadata": {},
   "outputs": [
    {
     "name": "stdout",
     "output_type": "stream",
     "text": [
      "No Python documentation found for 'hello python'.\n",
      "Use help() to get the interactive help utility.\n",
      "Use help(str) for help on the str class.\n"
     ]
    }
   ],
   "source": [
    "help(s.lstrip())"
   ]
  },
  {
   "cell_type": "markdown",
   "id": "fe9061f7",
   "metadata": {},
   "source": [
    "# rstrip"
   ]
  },
  {
   "cell_type": "code",
   "execution_count": 44,
   "id": "b46d8c8a",
   "metadata": {},
   "outputs": [],
   "source": [
    "s = 'hello                           '"
   ]
  },
  {
   "cell_type": "code",
   "execution_count": 45,
   "id": "82a38871",
   "metadata": {},
   "outputs": [
    {
     "data": {
      "text/plain": [
       "'hello'"
      ]
     },
     "execution_count": 45,
     "metadata": {},
     "output_type": "execute_result"
    }
   ],
   "source": [
    "s.rstrip()"
   ]
  },
  {
   "cell_type": "markdown",
   "id": "30eba6b5",
   "metadata": {},
   "source": [
    "#   \n",
    "    'rsplit', \n",
    "     'split',\n",
    "     'splitlines',\n",
    "     '\n",
    "     "
   ]
  },
  {
   "cell_type": "code",
   "execution_count": 54,
   "id": "3fcee359",
   "metadata": {},
   "outputs": [],
   "source": [
    "s = 'hello /python/ this is true '"
   ]
  },
  {
   "cell_type": "code",
   "execution_count": 55,
   "id": "6b4de2f4",
   "metadata": {},
   "outputs": [
    {
     "data": {
      "text/plain": [
       "['hello ', 'python', ' this is true ']"
      ]
     },
     "execution_count": 55,
     "metadata": {},
     "output_type": "execute_result"
    }
   ],
   "source": [
    "s.split(\"/\")"
   ]
  },
  {
   "cell_type": "code",
   "execution_count": 56,
   "id": "753ed900",
   "metadata": {},
   "outputs": [
    {
     "name": "stdout",
     "output_type": "stream",
     "text": [
      "Help on built-in function split:\n",
      "\n",
      "split(sep=None, maxsplit=-1) method of builtins.str instance\n",
      "    Return a list of the words in the string, using sep as the delimiter string.\n",
      "    \n",
      "    sep\n",
      "      The delimiter according which to split the string.\n",
      "      None (the default value) means split according to any whitespace,\n",
      "      and discard empty strings from the result.\n",
      "    maxsplit\n",
      "      Maximum number of splits to do.\n",
      "      -1 (the default value) means no limit.\n",
      "\n"
     ]
    }
   ],
   "source": [
    "help(s.split)"
   ]
  },
  {
   "cell_type": "code",
   "execution_count": 57,
   "id": "c86b1c2b",
   "metadata": {},
   "outputs": [
    {
     "data": {
      "text/plain": [
       "'hello /python/ this is true '"
      ]
     },
     "execution_count": 57,
     "metadata": {},
     "output_type": "execute_result"
    }
   ],
   "source": [
    "s"
   ]
  },
  {
   "cell_type": "code",
   "execution_count": 60,
   "id": "5968b3d1",
   "metadata": {},
   "outputs": [
    {
     "data": {
      "text/plain": [
       "['hello ', 'python', ' this is true ']"
      ]
     },
     "execution_count": 60,
     "metadata": {},
     "output_type": "execute_result"
    }
   ],
   "source": [
    "s.rsplit(\"/\")"
   ]
  },
  {
   "cell_type": "code",
   "execution_count": 61,
   "id": "4db8849a",
   "metadata": {},
   "outputs": [
    {
     "name": "stdout",
     "output_type": "stream",
     "text": [
      "Help on built-in function rsplit:\n",
      "\n",
      "rsplit(sep=None, maxsplit=-1) method of builtins.str instance\n",
      "    Return a list of the words in the string, using sep as the delimiter string.\n",
      "    \n",
      "      sep\n",
      "        The delimiter according which to split the string.\n",
      "        None (the default value) means split according to any whitespace,\n",
      "        and discard empty strings from the result.\n",
      "      maxsplit\n",
      "        Maximum number of splits to do.\n",
      "        -1 (the default value) means no limit.\n",
      "    \n",
      "    Splits are done starting at the end of the string and working to the front.\n",
      "\n"
     ]
    }
   ],
   "source": [
    "help(s.rsplit)"
   ]
  },
  {
   "cell_type": "code",
   "execution_count": 62,
   "id": "9180ef6c",
   "metadata": {},
   "outputs": [],
   "source": [
    "s = 'hello python'"
   ]
  },
  {
   "cell_type": "code",
   "execution_count": 63,
   "id": "cb70c349",
   "metadata": {},
   "outputs": [
    {
     "data": {
      "text/plain": [
       "['hello', 'python']"
      ]
     },
     "execution_count": 63,
     "metadata": {},
     "output_type": "execute_result"
    }
   ],
   "source": [
    "s.rsplit()"
   ]
  },
  {
   "cell_type": "markdown",
   "id": "0d626088",
   "metadata": {},
   "source": [
    "# validation methods\n",
    "    'isalnum',:-> if the string is alpha numeric than return True otherwise return False \n",
    "     'isalpha',:-> if the string is only contain alphabates than return true otherwise return False \n",
    "     \n",
    "     'isascii',:-> if the string is ascii than return True \n",
    "     'isdecimal',:-> if the value is decimal than return True otherwise return False\n",
    "     'isdigit',:-> if the string is digit string than return True otherwise return False \n",
    "     'isidentifier', :-> if the string is identifier than return True otherwise return False \n",
    "    \n",
    "     'islower',\n",
    "     'isnumeric', \n",
    "     "
   ]
  },
  {
   "cell_type": "code",
   "execution_count": 74,
   "id": "950a95e9",
   "metadata": {},
   "outputs": [],
   "source": [
    "s = 'Hello124 python this is grras solutions'"
   ]
  },
  {
   "cell_type": "code",
   "execution_count": 75,
   "id": "3d3f5e15",
   "metadata": {},
   "outputs": [
    {
     "data": {
      "text/plain": [
       "False"
      ]
     },
     "execution_count": 75,
     "metadata": {},
     "output_type": "execute_result"
    }
   ],
   "source": [
    "s.isalnum()"
   ]
  },
  {
   "cell_type": "code",
   "execution_count": 69,
   "id": "9b28becd",
   "metadata": {},
   "outputs": [],
   "source": [
    "a = '123'"
   ]
  },
  {
   "cell_type": "code",
   "execution_count": 70,
   "id": "5a9c8010",
   "metadata": {},
   "outputs": [
    {
     "data": {
      "text/plain": [
       "True"
      ]
     },
     "execution_count": 70,
     "metadata": {},
     "output_type": "execute_result"
    }
   ],
   "source": [
    "a.isalnum()"
   ]
  },
  {
   "cell_type": "code",
   "execution_count": 71,
   "id": "9ce1228e",
   "metadata": {},
   "outputs": [
    {
     "name": "stdout",
     "output_type": "stream",
     "text": [
      "Help on built-in function isalnum:\n",
      "\n",
      "isalnum() method of builtins.str instance\n",
      "    Return True if the string is an alpha-numeric string, False otherwise.\n",
      "    \n",
      "    A string is alpha-numeric if all characters in the string are alpha-numeric and\n",
      "    there is at least one character in the string.\n",
      "\n"
     ]
    }
   ],
   "source": [
    "help(a.isalnum)"
   ]
  },
  {
   "cell_type": "code",
   "execution_count": 72,
   "id": "86492ab6",
   "metadata": {},
   "outputs": [],
   "source": [
    "s = ' '"
   ]
  },
  {
   "cell_type": "code",
   "execution_count": 73,
   "id": "fde65551",
   "metadata": {},
   "outputs": [
    {
     "data": {
      "text/plain": [
       "False"
      ]
     },
     "execution_count": 73,
     "metadata": {},
     "output_type": "execute_result"
    }
   ],
   "source": [
    "s.isalnum()"
   ]
  },
  {
   "cell_type": "code",
   "execution_count": 82,
   "id": "30ae8143",
   "metadata": {},
   "outputs": [],
   "source": [
    "s = '123hellopython'"
   ]
  },
  {
   "cell_type": "code",
   "execution_count": 83,
   "id": "84f3afc8",
   "metadata": {},
   "outputs": [
    {
     "data": {
      "text/plain": [
       "True"
      ]
     },
     "execution_count": 83,
     "metadata": {},
     "output_type": "execute_result"
    }
   ],
   "source": [
    "s.isalnum()"
   ]
  },
  {
   "cell_type": "code",
   "execution_count": 44,
   "id": "08ed6450",
   "metadata": {},
   "outputs": [],
   "source": [
    "s = 'hello'"
   ]
  },
  {
   "cell_type": "code",
   "execution_count": 45,
   "id": "04f820ff",
   "metadata": {},
   "outputs": [
    {
     "data": {
      "text/plain": [
       "True"
      ]
     },
     "execution_count": 45,
     "metadata": {},
     "output_type": "execute_result"
    }
   ],
   "source": [
    "s.isalpha()"
   ]
  },
  {
   "cell_type": "code",
   "execution_count": 46,
   "id": "c0e2dae9",
   "metadata": {},
   "outputs": [
    {
     "data": {
      "text/plain": [
       "True"
      ]
     },
     "execution_count": 46,
     "metadata": {},
     "output_type": "execute_result"
    }
   ],
   "source": [
    "s = \" \"\n",
    "s.isascii()"
   ]
  },
  {
   "cell_type": "code",
   "execution_count": 110,
   "id": "9ca05444",
   "metadata": {},
   "outputs": [],
   "source": [
    "c = 2309"
   ]
  },
  {
   "cell_type": "code",
   "execution_count": 111,
   "id": "ad3b75e3",
   "metadata": {},
   "outputs": [
    {
     "data": {
      "text/plain": [
       "'अ'"
      ]
     },
     "execution_count": 111,
     "metadata": {},
     "output_type": "execute_result"
    }
   ],
   "source": [
    "chr(c)"
   ]
  },
  {
   "cell_type": "code",
   "execution_count": 112,
   "id": "0f02ebc6",
   "metadata": {},
   "outputs": [],
   "source": [
    "a = ' '"
   ]
  },
  {
   "cell_type": "code",
   "execution_count": 113,
   "id": "502a5f9d",
   "metadata": {},
   "outputs": [
    {
     "data": {
      "text/plain": [
       "32"
      ]
     },
     "execution_count": 113,
     "metadata": {},
     "output_type": "execute_result"
    }
   ],
   "source": [
    "ord(a)"
   ]
  },
  {
   "cell_type": "code",
   "execution_count": 115,
   "id": "41960ae3",
   "metadata": {},
   "outputs": [],
   "source": [
    "s = \"12345\""
   ]
  },
  {
   "cell_type": "code",
   "execution_count": 116,
   "id": "65a0855d",
   "metadata": {},
   "outputs": [
    {
     "data": {
      "text/plain": [
       "True"
      ]
     },
     "execution_count": 116,
     "metadata": {},
     "output_type": "execute_result"
    }
   ],
   "source": [
    "s.isdecimal()"
   ]
  },
  {
   "cell_type": "code",
   "execution_count": 117,
   "id": "592ddaaa",
   "metadata": {},
   "outputs": [],
   "source": [
    "s = '10.5'"
   ]
  },
  {
   "cell_type": "code",
   "execution_count": 118,
   "id": "165f3f24",
   "metadata": {},
   "outputs": [
    {
     "data": {
      "text/plain": [
       "False"
      ]
     },
     "execution_count": 118,
     "metadata": {},
     "output_type": "execute_result"
    }
   ],
   "source": [
    "s.isdecimal()"
   ]
  },
  {
   "cell_type": "code",
   "execution_count": 127,
   "id": "0f8d5179",
   "metadata": {},
   "outputs": [],
   "source": [
    "s = \"name123\""
   ]
  },
  {
   "cell_type": "code",
   "execution_count": 128,
   "id": "103b02c7",
   "metadata": {},
   "outputs": [
    {
     "data": {
      "text/plain": [
       "True"
      ]
     },
     "execution_count": 128,
     "metadata": {},
     "output_type": "execute_result"
    }
   ],
   "source": [
    "s.isidentifier()"
   ]
  },
  {
   "cell_type": "code",
   "execution_count": 132,
   "id": "3e09a427",
   "metadata": {},
   "outputs": [],
   "source": [
    "name1234 = 'gaurav'"
   ]
  },
  {
   "cell_type": "code",
   "execution_count": 135,
   "id": "1ca35639",
   "metadata": {},
   "outputs": [],
   "source": [
    "s = 'hello python this is great'"
   ]
  },
  {
   "cell_type": "code",
   "execution_count": 136,
   "id": "0e7309d7",
   "metadata": {},
   "outputs": [
    {
     "data": {
      "text/plain": [
       "True"
      ]
     },
     "execution_count": 136,
     "metadata": {},
     "output_type": "execute_result"
    }
   ],
   "source": [
    "s.islower()"
   ]
  },
  {
   "cell_type": "markdown",
   "id": "02209f48",
   "metadata": {},
   "source": [
    "# isnumeric"
   ]
  },
  {
   "cell_type": "code",
   "execution_count": 51,
   "id": "96c27997",
   "metadata": {},
   "outputs": [],
   "source": [
    "s = '12.34'"
   ]
  },
  {
   "cell_type": "code",
   "execution_count": 52,
   "id": "3f9e818a",
   "metadata": {},
   "outputs": [
    {
     "data": {
      "text/plain": [
       "False"
      ]
     },
     "execution_count": 52,
     "metadata": {},
     "output_type": "execute_result"
    }
   ],
   "source": [
    "s.isnumeric()"
   ]
  },
  {
   "cell_type": "code",
   "execution_count": null,
   "id": "1a36dcd0",
   "metadata": {},
   "outputs": [],
   "source": [
    "s = \"\"\n"
   ]
  },
  {
   "cell_type": "markdown",
   "id": "b71f5835",
   "metadata": {},
   "source": [
    "# \n",
    "    'isprintable',\n",
    "     'isspace',\n",
    "     'istitle',\n",
    "     'isupper',b"
   ]
  },
  {
   "cell_type": "code",
   "execution_count": 141,
   "id": "88555a3b",
   "metadata": {},
   "outputs": [
    {
     "data": {
      "text/plain": [
       "'12.34'"
      ]
     },
     "execution_count": 141,
     "metadata": {},
     "output_type": "execute_result"
    }
   ],
   "source": [
    "s "
   ]
  },
  {
   "cell_type": "code",
   "execution_count": 142,
   "id": "4887dd5a",
   "metadata": {},
   "outputs": [],
   "source": [
    "s = 'jai shree ram'"
   ]
  },
  {
   "cell_type": "code",
   "execution_count": 144,
   "id": "27a8115e",
   "metadata": {},
   "outputs": [
    {
     "data": {
      "text/plain": [
       "True"
      ]
     },
     "execution_count": 144,
     "metadata": {},
     "output_type": "execute_result"
    }
   ],
   "source": [
    "s.isprintable()"
   ]
  },
  {
   "cell_type": "code",
   "execution_count": 151,
   "id": "cd12a550",
   "metadata": {},
   "outputs": [
    {
     "data": {
      "text/plain": [
       "True"
      ]
     },
     "execution_count": 151,
     "metadata": {},
     "output_type": "execute_result"
    }
   ],
   "source": [
    "s = '12.5'\n",
    "s.isprintable()"
   ]
  },
  {
   "cell_type": "code",
   "execution_count": 148,
   "id": "cec67796",
   "metadata": {},
   "outputs": [],
   "source": [
    "s = ''"
   ]
  },
  {
   "cell_type": "code",
   "execution_count": 149,
   "id": "abeca02f",
   "metadata": {},
   "outputs": [
    {
     "data": {
      "text/plain": [
       "''"
      ]
     },
     "execution_count": 149,
     "metadata": {},
     "output_type": "execute_result"
    }
   ],
   "source": [
    "s"
   ]
  },
  {
   "cell_type": "markdown",
   "id": "9f09dd82",
   "metadata": {},
   "source": [
    "# 'isspace',"
   ]
  },
  {
   "cell_type": "code",
   "execution_count": 163,
   "id": "b5ccb344",
   "metadata": {},
   "outputs": [],
   "source": [
    "s ='  '"
   ]
  },
  {
   "cell_type": "code",
   "execution_count": 164,
   "id": "08f79c11",
   "metadata": {},
   "outputs": [
    {
     "data": {
      "text/plain": [
       "True"
      ]
     },
     "execution_count": 164,
     "metadata": {},
     "output_type": "execute_result"
    }
   ],
   "source": [
    "s.isspace()"
   ]
  },
  {
   "cell_type": "code",
   "execution_count": 158,
   "id": "6838f86c",
   "metadata": {},
   "outputs": [
    {
     "name": "stdout",
     "output_type": "stream",
     "text": [
      "Help on built-in function isspace:\n",
      "\n",
      "isspace() method of builtins.str instance\n",
      "    Return True if the string is a whitespace string, False otherwise.\n",
      "    \n",
      "    A string is whitespace if all characters in the string are whitespace and there\n",
      "    is at least one character in the string.\n",
      "\n"
     ]
    }
   ],
   "source": [
    "help(s.isspace)"
   ]
  },
  {
   "cell_type": "code",
   "execution_count": 171,
   "id": "462ab3db",
   "metadata": {},
   "outputs": [],
   "source": [
    "s = 'Title Hello This Is Good To Here You'"
   ]
  },
  {
   "cell_type": "code",
   "execution_count": 172,
   "id": "d04a0642",
   "metadata": {},
   "outputs": [
    {
     "data": {
      "text/plain": [
       "True"
      ]
     },
     "execution_count": 172,
     "metadata": {},
     "output_type": "execute_result"
    }
   ],
   "source": [
    "s.istitle()"
   ]
  },
  {
   "cell_type": "code",
   "execution_count": 53,
   "id": "fa0dca13",
   "metadata": {},
   "outputs": [],
   "source": [
    "s = \"HELOO PYTHON THIS IS MORNING CLASS\""
   ]
  },
  {
   "cell_type": "code",
   "execution_count": 54,
   "id": "1a8f9a84",
   "metadata": {},
   "outputs": [
    {
     "data": {
      "text/plain": [
       "True"
      ]
     },
     "execution_count": 54,
     "metadata": {},
     "output_type": "execute_result"
    }
   ],
   "source": [
    "s.isupper()"
   ]
  },
  {
   "cell_type": "code",
   "execution_count": null,
   "id": "ed6a389c",
   "metadata": {},
   "outputs": [],
   "source": []
  }
 ],
 "metadata": {
  "kernelspec": {
   "display_name": "Python 3 (ipykernel)",
   "language": "python",
   "name": "python3"
  },
  "language_info": {
   "codemirror_mode": {
    "name": "ipython",
    "version": 3
   },
   "file_extension": ".py",
   "mimetype": "text/x-python",
   "name": "python",
   "nbconvert_exporter": "python",
   "pygments_lexer": "ipython3",
   "version": "3.11.3"
  }
 },
 "nbformat": 4,
 "nbformat_minor": 5
}
