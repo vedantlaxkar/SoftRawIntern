{
 "cells": [
  {
   "cell_type": "markdown",
   "id": "884f9408",
   "metadata": {},
   "source": [
    "# Encapsulation in Python\n",
    "Encapsulation is one of the fundamental concepts in object-oriented programming (OOP). It describes the idea of wrapping data and the methods that work on data within one unit. This puts restrictions on accessing variables and methods directly and can prevent the accidental modification of data. To prevent accidental change, an object’s variable can only be changed by an object’s method. Those types of variables are known as private variables.<br></br>\n",
    "A class is an example of encapsulation as it encapsulates all the data that is member functions, variables, etc. The goal of information hiding is to ensure that an object’s state is always valid by controlling access to attributes that are hidden from the outside world.\n",
    "\n",
    "<img src = \"https://media.geeksforgeeks.org/wp-content/uploads/20230501154755/Encapsulation-in-Python.webp\">\n",
    "\n",
    "\n",
    "### Protected members\n",
    "Protected members (in C++ and JAVA) are those members of the class that cannot be accessed outside the class but can be accessed from within the class and its subclasses. To accomplish this in Python, just follow the convention by prefixing the name of the member by a `single underscore “_”`.\n",
    "\n",
    "Although the protected variable can be accessed out of the class as well as in the derived class (modified too in derived class), it is customary(convention not a rule) to not access the protected out the class body.\n",
    "\n",
    "**Note:** The `__init__` method is a constructor and runs as soon as an object of a class is instantiated.  "
   ]
  },
  {
   "cell_type": "code",
   "execution_count": 2,
   "id": "db37cb7f",
   "metadata": {},
   "outputs": [
    {
     "name": "stdout",
     "output_type": "stream",
     "text": [
      "Calling protected member of base class:  2\n",
      "Calling modified protected member outside class:  3\n",
      "Accessing protected member of obj1:  3\n",
      "Accessing protected member of obj2:  2\n"
     ]
    }
   ],
   "source": [
    "# Python program to \n",
    "# demonstrate protected members \n",
    "\n",
    "# Creating a base class \n",
    "class Base: \n",
    "    def __init__(self): \n",
    "\n",
    "        # Protected member \n",
    "        self._a = 2\n",
    "\n",
    "# Creating a derived class \n",
    "class Derived(Base): \n",
    "    def __init__(self): \n",
    "\n",
    "        # Calling constructor of \n",
    "        # Base class \n",
    "        Base.__init__(self) \n",
    "        print(\"Calling protected member of base class: \", \n",
    "            self._a) \n",
    "\n",
    "        # Modify the protected variable: \n",
    "        self._a = 3\n",
    "        print(\"Calling modified protected member outside class: \", \n",
    "            self._a) \n",
    "\n",
    "\n",
    "obj1 = Derived() \n",
    "\n",
    "obj2 = Base() \n",
    "\n",
    "# Calling protected member \n",
    "# Can be accessed but should not be done due to convention \n",
    "print(\"Accessing protected member of obj1: \", obj1._a) \n",
    "\n",
    "# Accessing the protected variable outside \n",
    "print(\"Accessing protected member of obj2: \", obj2._a) \n"
   ]
  },
  {
   "cell_type": "markdown",
   "id": "13eba32b",
   "metadata": {},
   "source": [
    "### Private members\n",
    "Private members are similar to protected members, the difference is that the class members declared private should neither be accessed outside the class nor by any base class. In Python, there is no existence of **Private** instance variables that cannot be accessed except inside a class.\n",
    "\n",
    "However, to define a private member prefix the member name with `double underscore “__”`.\n",
    "\n",
    "Note: Python’s private and protected members can be accessed outside the class through\n",
    "[python name mangling](https://github.com/vedantlaxkar/SoftRawIntern/blob/1de55261ab73f36c90d49aa3a552950ad753ff29/Python_PrivateVariable.ipynb)."
   ]
  },
  {
   "cell_type": "code",
   "execution_count": null,
   "id": "0e7646ae",
   "metadata": {},
   "outputs": [],
   "source": [
    "# Python program to \n",
    "# demonstrate private members \n",
    "\n",
    "# Creating a Base class \n",
    "\n",
    "\n",
    "class Base: \n",
    "    def __init__(self): \n",
    "        self.a = \"GeeksforGeeks\"\n",
    "        self.__c = \"GeeksforGeeks\"\n",
    "\n",
    "# Creating a derived class \n",
    "class Derived(Base): \n",
    "    def __init__(self): \n",
    "\n",
    "        # Calling constructor of \n",
    "        # Base class \n",
    "\t\tBase.__init__(self) \n",
    "\t\tprint(\"Calling private member of base class: \") \n",
    "\t\tprint(self.__c) \n",
    "\n",
    "\n",
    "# Driver code \n",
    "obj1 = Base() \n",
    "print(obj1.a) \n",
    "\n",
    "# Uncommenting print(obj1.c) will \n",
    "# raise an AttributeError \n",
    "\n",
    "# Uncommenting obj2 = Derived() will \n",
    "# also raise an AttributeError as \n",
    "# private member of base class \n",
    "# is called inside derived class \n"
   ]
  }
 ],
 "metadata": {
  "kernelspec": {
   "display_name": "Python 3 (ipykernel)",
   "language": "python",
   "name": "python3"
  },
  "language_info": {
   "codemirror_mode": {
    "name": "ipython",
    "version": 3
   },
   "file_extension": ".py",
   "mimetype": "text/x-python",
   "name": "python",
   "nbconvert_exporter": "python",
   "pygments_lexer": "ipython3",
   "version": "3.11.3"
  }
 },
 "nbformat": 4,
 "nbformat_minor": 5
}
