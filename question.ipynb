{
 "cells": [
  {
   "cell_type": "code",
   "execution_count": 2,
   "id": "a911598e",
   "metadata": {},
   "outputs": [
    {
     "name": "stdout",
     "output_type": "stream",
     "text": [
      "Character count dictionary:\n",
      "{'B': 3, 'r': 13, 'a': 21, 'v': 4, 'e': 16, ' ': 31, 'S': 2, 'i': 8, 'R': 2, 'o': 4, 'b': 4, 'n': 12, 'w': 3, 'y': 7, '.': 6, 'l': 8, 'W': 1, 'h': 6, 'd': 9, 'g': 3, 't': 7, 's': 2, 'u': 5, ',': 1, 'f': 1, 'c': 2, 'k': 1}\n"
     ]
    }
   ],
   "source": [
    "quote = (\"Brave Sir Robin ran away. Bravely ran away away. When danger reared its ugly head, \"\n",
    "         \"he bravely turned his tail and fled. Brave Sir Robin turned about and gallantly he chickened out...\")\n",
    "\n",
    "# create the empty dictionary for storing values\n",
    "char_count = {}\n",
    "\n",
    "for char in quote:\n",
    "    #condition statement for counting char repetition and store as a value\n",
    "    if char in char_count:\n",
    "        char_count[char] += 1\n",
    "    else:\n",
    "        char_count[char] = 1\n",
    "\n",
    "# Step 2: print the dictionary\n",
    "print(\"Character count dictionary:\")\n",
    "print(char_count)\n"
   ]
  },
  {
   "cell_type": "code",
   "execution_count": 5,
   "id": "fde65e8c",
   "metadata": {},
   "outputs": [
    {
     "name": "stdout",
     "output_type": "stream",
     "text": [
      "'B': 3\n",
      "'r': 13\n",
      "'a': 21\n",
      "'v': 4\n",
      "'e': 16\n",
      "' ': 31\n",
      "'S': 2\n",
      "'i': 8\n",
      "'R': 2\n",
      "'o': 4\n",
      "'b': 4\n",
      "'n': 12\n",
      "'w': 3\n",
      "'y': 7\n",
      "'.': 6\n",
      "'l': 8\n",
      "'W': 1\n",
      "'h': 6\n",
      "'d': 9\n",
      "'g': 3\n",
      "'t': 7\n",
      "''': 1\n",
      "'s': 2\n",
      "'u': 5\n",
      "',': 1\n",
      "'f': 1\n",
      "'c': 2\n",
      "'k': 1\n"
     ]
    }
   ],
   "source": [
    "quote = (\"Brave Sir Robin ran away. Bravely ran away away.\"\n",
    "         \" When danger reared it's ugly head, he bravely turned his tail and fled.\"\n",
    "         \" Brave Sir Robin turned about and gallantly he chickened out...\")\n",
    "\n",
    "char_count = {}\n",
    "\n",
    "for char in quote:\n",
    "    if char in char_count:\n",
    "        char_count[char] += 1\n",
    "    else:\n",
    "        char_count[char] = 1\n",
    "\n",
    "# Step 2: Loop over the dictionary and print the counts\n",
    "for char, count in char_count.items():\n",
    "    print(f\"'{char}': {count}\")"
   ]
  },
  {
   "cell_type": "code",
   "execution_count": null,
   "id": "874c6332",
   "metadata": {},
   "outputs": [],
   "source": []
  }
 ],
 "metadata": {
  "kernelspec": {
   "display_name": "Python 3 (ipykernel)",
   "language": "python",
   "name": "python3"
  },
  "language_info": {
   "codemirror_mode": {
    "name": "ipython",
    "version": 3
   },
   "file_extension": ".py",
   "mimetype": "text/x-python",
   "name": "python",
   "nbconvert_exporter": "python",
   "pygments_lexer": "ipython3",
   "version": "3.11.3"
  }
 },
 "nbformat": 4,
 "nbformat_minor": 5
}
