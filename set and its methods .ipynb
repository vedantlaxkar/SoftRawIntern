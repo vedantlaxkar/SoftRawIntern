{
 "cells": [
  {
   "cell_type": "markdown",
   "id": "6433c6bd",
   "metadata": {},
   "source": [
    "#  set data type \n",
    "    --> mutable data type \n",
    "    --> unordered data type \n",
    "    --> {}\n",
    "    --> only store unique values\n",
    "    --> unindexed "
   ]
  },
  {
   "cell_type": "code",
   "execution_count": 6,
   "id": "6439e5f7",
   "metadata": {},
   "outputs": [],
   "source": [
    "s = {1,2,3,4,5,6}"
   ]
  },
  {
   "cell_type": "code",
   "execution_count": 2,
   "id": "6eadf27d",
   "metadata": {},
   "outputs": [
    {
     "name": "stdout",
     "output_type": "stream",
     "text": [
      "{1, 2, 3, 4, 5, 6}\n"
     ]
    }
   ],
   "source": [
    "print(s)"
   ]
  },
  {
   "cell_type": "code",
   "execution_count": 7,
   "id": "d9eb9760",
   "metadata": {},
   "outputs": [
    {
     "data": {
      "text/plain": [
       "{1, 2, 3, 4, 5, 6}"
      ]
     },
     "execution_count": 7,
     "metadata": {},
     "output_type": "execute_result"
    }
   ],
   "source": [
    "s"
   ]
  },
  {
   "cell_type": "code",
   "execution_count": 3,
   "id": "4edf60dc",
   "metadata": {},
   "outputs": [
    {
     "name": "stdout",
     "output_type": "stream",
     "text": [
      "{1, 2, 3, 4, 5, 8, 9, 10, 11}\n"
     ]
    }
   ],
   "source": [
    "s1 = {1,2,3,4,5,11,2,3,4,5,1,9,10,8}\n",
    "print(s1)"
   ]
  },
  {
   "cell_type": "code",
   "execution_count": 11,
   "id": "9a488ad1",
   "metadata": {},
   "outputs": [],
   "source": [
    "s1 = {1000,1001,10.5,12,3,6,5}"
   ]
  },
  {
   "cell_type": "code",
   "execution_count": 12,
   "id": "592ffd9a",
   "metadata": {},
   "outputs": [
    {
     "name": "stdout",
     "output_type": "stream",
     "text": [
      "{3, 5, 6, 1000, 1001, 10.5, 12}\n"
     ]
    }
   ],
   "source": [
    "print(s1)"
   ]
  },
  {
   "cell_type": "code",
   "execution_count": 13,
   "id": "79cae428",
   "metadata": {},
   "outputs": [
    {
     "data": {
      "text/plain": [
       "{3, 5, 6, 10.5, 12, 1000, 1001}"
      ]
     },
     "execution_count": 13,
     "metadata": {},
     "output_type": "execute_result"
    }
   ],
   "source": [
    "s1"
   ]
  },
  {
   "cell_type": "code",
   "execution_count": 17,
   "id": "4aadc029",
   "metadata": {},
   "outputs": [],
   "source": [
    "s2 = {(0,1,2,4,5,6),'hello world',}"
   ]
  },
  {
   "cell_type": "code",
   "execution_count": 18,
   "id": "9c0e7d03",
   "metadata": {},
   "outputs": [
    {
     "name": "stdout",
     "output_type": "stream",
     "text": [
      "{'hello world', (0, 1, 2, 4, 5, 6)}\n"
     ]
    }
   ],
   "source": [
    "print(s2)"
   ]
  },
  {
   "cell_type": "code",
   "execution_count": 19,
   "id": "0f24a7ae",
   "metadata": {},
   "outputs": [
    {
     "ename": "TypeError",
     "evalue": "unhashable type: 'set'",
     "output_type": "error",
     "traceback": [
      "\u001b[1;31m---------------------------------------------------------------------------\u001b[0m",
      "\u001b[1;31mTypeError\u001b[0m                                 Traceback (most recent call last)",
      "\u001b[1;32m~\\AppData\\Local\\Temp\\ipykernel_16436\\3879331446.py\u001b[0m in \u001b[0;36m<module>\u001b[1;34m\u001b[0m\n\u001b[1;32m----> 1\u001b[1;33m \u001b[0ms1\u001b[0m \u001b[1;33m=\u001b[0m \u001b[1;33m{\u001b[0m\u001b[1;36m1\u001b[0m\u001b[1;33m,\u001b[0m\u001b[1;36m2\u001b[0m\u001b[1;33m,\u001b[0m\u001b[1;36m3\u001b[0m\u001b[1;33m,\u001b[0m\u001b[1;36m4\u001b[0m\u001b[1;33m,\u001b[0m\u001b[1;36m5\u001b[0m\u001b[1;33m,\u001b[0m\u001b[1;33m{\u001b[0m\u001b[1;34m'hello python'\u001b[0m\u001b[1;33m,\u001b[0m\u001b[1;34m'gaurav'\u001b[0m\u001b[1;33m,\u001b[0m\u001b[1;34m'sachin'\u001b[0m\u001b[1;33m,\u001b[0m\u001b[1;34m'deep'\u001b[0m\u001b[1;33m}\u001b[0m\u001b[1;33m}\u001b[0m\u001b[1;33m\u001b[0m\u001b[1;33m\u001b[0m\u001b[0m\n\u001b[0m\u001b[0;32m      2\u001b[0m \u001b[0mprint\u001b[0m\u001b[1;33m(\u001b[0m\u001b[0ms1\u001b[0m\u001b[1;33m)\u001b[0m\u001b[1;33m\u001b[0m\u001b[1;33m\u001b[0m\u001b[0m\n",
      "\u001b[1;31mTypeError\u001b[0m: unhashable type: 'set'"
     ]
    }
   ],
   "source": [
    "s1 = {1,2,3,4,5,{'hello python','gaurav','sachin','deep'}}\n",
    "print(s1)"
   ]
  },
  {
   "cell_type": "code",
   "execution_count": 20,
   "id": "7abc4d7f",
   "metadata": {},
   "outputs": [
    {
     "data": {
      "text/plain": [
       "['__and__',\n",
       " '__class__',\n",
       " '__class_getitem__',\n",
       " '__contains__',\n",
       " '__delattr__',\n",
       " '__dir__',\n",
       " '__doc__',\n",
       " '__eq__',\n",
       " '__format__',\n",
       " '__ge__',\n",
       " '__getattribute__',\n",
       " '__gt__',\n",
       " '__hash__',\n",
       " '__iand__',\n",
       " '__init__',\n",
       " '__init_subclass__',\n",
       " '__ior__',\n",
       " '__isub__',\n",
       " '__iter__',\n",
       " '__ixor__',\n",
       " '__le__',\n",
       " '__len__',\n",
       " '__lt__',\n",
       " '__ne__',\n",
       " '__new__',\n",
       " '__or__',\n",
       " '__rand__',\n",
       " '__reduce__',\n",
       " '__reduce_ex__',\n",
       " '__repr__',\n",
       " '__ror__',\n",
       " '__rsub__',\n",
       " '__rxor__',\n",
       " '__setattr__',\n",
       " '__sizeof__',\n",
       " '__str__',\n",
       " '__sub__',\n",
       " '__subclasshook__',\n",
       " '__xor__',\n",
       " 'add',\n",
       " 'clear',\n",
       " 'copy',\n",
       " 'difference',\n",
       " 'difference_update',\n",
       " 'discard',\n",
       " 'intersection',\n",
       " 'intersection_update',\n",
       " 'isdisjoint',\n",
       " 'issubset',\n",
       " 'issuperset',\n",
       " 'pop',\n",
       " 'remove',\n",
       " 'symmetric_difference',\n",
       " 'symmetric_difference_update',\n",
       " 'union',\n",
       " 'update']"
      ]
     },
     "execution_count": 20,
     "metadata": {},
     "output_type": "execute_result"
    }
   ],
   "source": [
    "dir(s)"
   ]
  },
  {
   "cell_type": "markdown",
   "id": "d0c08317",
   "metadata": {},
   "source": [
    "    'add',  :--> add an element to set\n",
    "     'clear', :--> clear all element from set \n",
    "     'copy', --> return a shallow copy\n",
    "     'difference', :--calculate the difference between two set \n",
    "     'difference_update',--> \n",
    "     'discard',\n",
    "     'intersection', :--> common values in both set \n",
    "     'intersection_update',\n",
    "     'isdisjoint',\n",
    "     'issubset',\n",
    "     'issuperset',\n",
    "     'pop',:-> remove item from starting\n",
    "     'remove',:-> remove and element on the basis of key\n",
    "     'symmetric_difference',\n",
    "     'symmetric_difference_update',\n",
    "     'union',--> all element present in both set\n",
    "     'update' :--> "
   ]
  },
  {
   "cell_type": "markdown",
   "id": "7e5ae714",
   "metadata": {},
   "source": [
    "# add "
   ]
  },
  {
   "cell_type": "code",
   "execution_count": 72,
   "id": "cb17f16b",
   "metadata": {},
   "outputs": [],
   "source": [
    "s = {1,2,3,4,5,6}"
   ]
  },
  {
   "cell_type": "code",
   "execution_count": 73,
   "id": "82d818e6",
   "metadata": {},
   "outputs": [],
   "source": [
    "s.add('gaurav')"
   ]
  },
  {
   "cell_type": "code",
   "execution_count": 74,
   "id": "e5d2b8ca",
   "metadata": {},
   "outputs": [
    {
     "data": {
      "text/plain": [
       "{1, 2, 3, 4, 5, 6, 'gaurav'}"
      ]
     },
     "execution_count": 74,
     "metadata": {},
     "output_type": "execute_result"
    }
   ],
   "source": [
    "s"
   ]
  },
  {
   "cell_type": "code",
   "execution_count": 75,
   "id": "970ccb30",
   "metadata": {},
   "outputs": [
    {
     "name": "stdout",
     "output_type": "stream",
     "text": [
      "{1, 2, 3, 4, 5, 6, 'gaurav'}\n"
     ]
    }
   ],
   "source": [
    "print(s)"
   ]
  },
  {
   "cell_type": "code",
   "execution_count": 76,
   "id": "cba30568",
   "metadata": {},
   "outputs": [],
   "source": [
    "s.add(0)"
   ]
  },
  {
   "cell_type": "code",
   "execution_count": 77,
   "id": "94311406",
   "metadata": {},
   "outputs": [
    {
     "data": {
      "text/plain": [
       "{0, 1, 2, 3, 4, 5, 6, 'gaurav'}"
      ]
     },
     "execution_count": 77,
     "metadata": {},
     "output_type": "execute_result"
    }
   ],
   "source": [
    "s"
   ]
  },
  {
   "cell_type": "code",
   "execution_count": 78,
   "id": "e0bc863d",
   "metadata": {},
   "outputs": [],
   "source": [
    "s.add('a')"
   ]
  },
  {
   "cell_type": "code",
   "execution_count": 79,
   "id": "bf08cb77",
   "metadata": {},
   "outputs": [
    {
     "data": {
      "text/plain": [
       "{0, 1, 2, 3, 4, 5, 6, 'a', 'gaurav'}"
      ]
     },
     "execution_count": 79,
     "metadata": {},
     "output_type": "execute_result"
    }
   ],
   "source": [
    "s"
   ]
  },
  {
   "cell_type": "code",
   "execution_count": 80,
   "id": "e28d4755",
   "metadata": {},
   "outputs": [],
   "source": [
    "s.add('aashish')"
   ]
  },
  {
   "cell_type": "code",
   "execution_count": 81,
   "id": "f52f8f63",
   "metadata": {},
   "outputs": [
    {
     "data": {
      "text/plain": [
       "{0, 1, 2, 3, 4, 5, 6, 'a', 'aashish', 'gaurav'}"
      ]
     },
     "execution_count": 81,
     "metadata": {},
     "output_type": "execute_result"
    }
   ],
   "source": [
    "s"
   ]
  },
  {
   "cell_type": "code",
   "execution_count": 82,
   "id": "70953177",
   "metadata": {},
   "outputs": [
    {
     "name": "stdout",
     "output_type": "stream",
     "text": [
      "{0, 1, 2, 3, 4, 5, 6, 'aashish', 'a', 'gaurav'}\n"
     ]
    }
   ],
   "source": [
    "print(s)"
   ]
  },
  {
   "cell_type": "code",
   "execution_count": 83,
   "id": "10564f4d",
   "metadata": {},
   "outputs": [],
   "source": [
    "s.add(10000)"
   ]
  },
  {
   "cell_type": "code",
   "execution_count": 84,
   "id": "8574a0ea",
   "metadata": {},
   "outputs": [
    {
     "name": "stdout",
     "output_type": "stream",
     "text": [
      "{0, 1, 2, 3, 4, 5, 6, 'aashish', 10000, 'a', 'gaurav'}\n"
     ]
    }
   ],
   "source": [
    "print(s)"
   ]
  },
  {
   "cell_type": "code",
   "execution_count": 85,
   "id": "888edc48",
   "metadata": {},
   "outputs": [
    {
     "data": {
      "text/plain": [
       "set()"
      ]
     },
     "execution_count": 85,
     "metadata": {},
     "output_type": "execute_result"
    }
   ],
   "source": [
    "s2"
   ]
  },
  {
   "cell_type": "code",
   "execution_count": 86,
   "id": "963192c1",
   "metadata": {},
   "outputs": [],
   "source": [
    "s2.clear()"
   ]
  },
  {
   "cell_type": "code",
   "execution_count": 87,
   "id": "e3d3bc15",
   "metadata": {},
   "outputs": [
    {
     "name": "stdout",
     "output_type": "stream",
     "text": [
      "set()\n"
     ]
    }
   ],
   "source": [
    "print(s2)"
   ]
  },
  {
   "cell_type": "markdown",
   "id": "189ac7c4",
   "metadata": {},
   "source": [
    "# copy\n",
    "    -"
   ]
  },
  {
   "cell_type": "code",
   "execution_count": 39,
   "id": "51c78cad",
   "metadata": {},
   "outputs": [],
   "source": [
    "s = {1,2,3,4,5}"
   ]
  },
  {
   "cell_type": "code",
   "execution_count": 41,
   "id": "a26bcd75",
   "metadata": {},
   "outputs": [],
   "source": [
    "ls = s.copy()"
   ]
  },
  {
   "cell_type": "code",
   "execution_count": 42,
   "id": "5a713044",
   "metadata": {},
   "outputs": [
    {
     "name": "stdout",
     "output_type": "stream",
     "text": [
      "{1, 2, 3, 4, 5}\n"
     ]
    }
   ],
   "source": [
    "print(ls)"
   ]
  },
  {
   "cell_type": "markdown",
   "id": "7279c54d",
   "metadata": {},
   "source": [
    "# pop"
   ]
  },
  {
   "cell_type": "code",
   "execution_count": 58,
   "id": "27a079ef",
   "metadata": {},
   "outputs": [
    {
     "name": "stdout",
     "output_type": "stream",
     "text": [
      "{0, 1, 2, 3, 4, 5, 6, 'aashish', 10000, 'a', 'gaurav'}\n"
     ]
    }
   ],
   "source": [
    "print(s)"
   ]
  },
  {
   "cell_type": "code",
   "execution_count": 59,
   "id": "5362279c",
   "metadata": {},
   "outputs": [
    {
     "data": {
      "text/plain": [
       "0"
      ]
     },
     "execution_count": 59,
     "metadata": {},
     "output_type": "execute_result"
    }
   ],
   "source": [
    "s.pop()"
   ]
  },
  {
   "cell_type": "code",
   "execution_count": 60,
   "id": "fc2df6ba",
   "metadata": {},
   "outputs": [
    {
     "name": "stdout",
     "output_type": "stream",
     "text": [
      "{1, 2, 3, 4, 5, 6, 'aashish', 10000, 'a', 'gaurav'}\n"
     ]
    }
   ],
   "source": [
    "print(s)"
   ]
  },
  {
   "cell_type": "code",
   "execution_count": 71,
   "id": "9bff5bb9",
   "metadata": {},
   "outputs": [
    {
     "ename": "KeyError",
     "evalue": "'pop from an empty set'",
     "output_type": "error",
     "traceback": [
      "\u001b[1;31m---------------------------------------------------------------------------\u001b[0m",
      "\u001b[1;31mKeyError\u001b[0m                                  Traceback (most recent call last)",
      "\u001b[1;32m~\\AppData\\Local\\Temp\\ipykernel_16436\\3455620568.py\u001b[0m in \u001b[0;36m<module>\u001b[1;34m\u001b[0m\n\u001b[1;32m----> 1\u001b[1;33m \u001b[0ms\u001b[0m\u001b[1;33m.\u001b[0m\u001b[0mpop\u001b[0m\u001b[1;33m(\u001b[0m\u001b[1;33m)\u001b[0m\u001b[1;33m\u001b[0m\u001b[1;33m\u001b[0m\u001b[0m\n\u001b[0m",
      "\u001b[1;31mKeyError\u001b[0m: 'pop from an empty set'"
     ]
    }
   ],
   "source": [
    "s.pop()"
   ]
  },
  {
   "cell_type": "code",
   "execution_count": 88,
   "id": "d0c7acf2",
   "metadata": {},
   "outputs": [
    {
     "data": {
      "text/plain": [
       "{0, 1, 10000, 2, 3, 4, 5, 6, 'a', 'aashish', 'gaurav'}"
      ]
     },
     "execution_count": 88,
     "metadata": {},
     "output_type": "execute_result"
    }
   ],
   "source": [
    "s "
   ]
  },
  {
   "cell_type": "code",
   "execution_count": 96,
   "id": "4dfb2f44",
   "metadata": {},
   "outputs": [
    {
     "data": {
      "text/plain": [
       "'aashish'"
      ]
     },
     "execution_count": 96,
     "metadata": {},
     "output_type": "execute_result"
    }
   ],
   "source": [
    "s.pop()"
   ]
  },
  {
   "cell_type": "code",
   "execution_count": 97,
   "id": "597ea240",
   "metadata": {},
   "outputs": [
    {
     "name": "stdout",
     "output_type": "stream",
     "text": [
      "{10000, 'a', 'gaurav'}\n"
     ]
    }
   ],
   "source": [
    "print(s)"
   ]
  },
  {
   "cell_type": "markdown",
   "id": "15460ab1",
   "metadata": {},
   "source": [
    "# remove"
   ]
  },
  {
   "cell_type": "code",
   "execution_count": 101,
   "id": "7f0ed448",
   "metadata": {},
   "outputs": [],
   "source": [
    "s.remove(10000)"
   ]
  },
  {
   "cell_type": "code",
   "execution_count": 102,
   "id": "9981f91c",
   "metadata": {},
   "outputs": [
    {
     "name": "stdout",
     "output_type": "stream",
     "text": [
      "{'a', 'gaurav'}\n"
     ]
    }
   ],
   "source": [
    "print(s)"
   ]
  },
  {
   "cell_type": "markdown",
   "id": "7513d46a",
   "metadata": {},
   "source": [
    "# update"
   ]
  },
  {
   "cell_type": "code",
   "execution_count": 107,
   "id": "e312acae",
   "metadata": {},
   "outputs": [],
   "source": [
    "s.update(['hello python','sachin','sim'])"
   ]
  },
  {
   "cell_type": "code",
   "execution_count": 108,
   "id": "14284a2b",
   "metadata": {},
   "outputs": [
    {
     "data": {
      "text/plain": [
       "{' ',\n",
       " 'a',\n",
       " 'e',\n",
       " 'gaurav',\n",
       " 'h',\n",
       " 'hello python',\n",
       " 'l',\n",
       " 'n',\n",
       " 'o',\n",
       " 'p',\n",
       " 'sachin',\n",
       " 'sim',\n",
       " 't',\n",
       " 'y'}"
      ]
     },
     "execution_count": 108,
     "metadata": {},
     "output_type": "execute_result"
    }
   ],
   "source": [
    "s"
   ]
  },
  {
   "cell_type": "code",
   "execution_count": null,
   "id": "5f2368a9",
   "metadata": {},
   "outputs": [],
   "source": []
  }
 ],
 "metadata": {
  "kernelspec": {
   "display_name": "Python 3 (ipykernel)",
   "language": "python",
   "name": "python3"
  },
  "language_info": {
   "codemirror_mode": {
    "name": "ipython",
    "version": 3
   },
   "file_extension": ".py",
   "mimetype": "text/x-python",
   "name": "python",
   "nbconvert_exporter": "python",
   "pygments_lexer": "ipython3",
   "version": "3.9.13"
  }
 },
 "nbformat": 4,
 "nbformat_minor": 5
}
