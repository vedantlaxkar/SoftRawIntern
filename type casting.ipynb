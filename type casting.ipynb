{
 "cells": [
  {
   "cell_type": "markdown",
   "id": "f02d8382",
   "metadata": {},
   "source": [
    "# Bitwise operator\n",
    "    & --> bitwise and operator \n",
    "    | --> bitwise or operator  \n",
    "    ^ --> bitwise xor orerator\n",
    "    ~ --> bitwise not operator \n",
    "    << --> bitwise left shift operator\n",
    "    >> --> bitwise right shift operator"
   ]
  },
  {
   "cell_type": "markdown",
   "id": "822c53e0",
   "metadata": {},
   "source": [
    "# &"
   ]
  },
  {
   "cell_type": "markdown",
   "id": "f0da02fb",
   "metadata": {},
   "source": [
    "# type casting \n",
    "    convert one type to another type \n",
    "        data type one to another type \n",
    "        "
   ]
  },
  {
   "cell_type": "code",
   "execution_count": 1,
   "id": "7cc064f3",
   "metadata": {},
   "outputs": [],
   "source": [
    "a = \"10\""
   ]
  },
  {
   "cell_type": "code",
   "execution_count": 4,
   "id": "de3f4f30",
   "metadata": {},
   "outputs": [
    {
     "data": {
      "text/plain": [
       "10"
      ]
     },
     "execution_count": 4,
     "metadata": {},
     "output_type": "execute_result"
    }
   ],
   "source": [
    "int(a)#base --> 10--> decimal value "
   ]
  },
  {
   "cell_type": "code",
   "execution_count": 5,
   "id": "0a12050c",
   "metadata": {},
   "outputs": [],
   "source": [
    "a = \"10.3\""
   ]
  },
  {
   "cell_type": "code",
   "execution_count": 6,
   "id": "9e0e2831",
   "metadata": {},
   "outputs": [
    {
     "ename": "ValueError",
     "evalue": "invalid literal for int() with base 10: '10.3'",
     "output_type": "error",
     "traceback": [
      "\u001b[1;31m---------------------------------------------------------------------------\u001b[0m",
      "\u001b[1;31mValueError\u001b[0m                                Traceback (most recent call last)",
      "\u001b[1;32m~\\AppData\\Local\\Temp\\ipykernel_117336\\766485689.py\u001b[0m in \u001b[0;36m<module>\u001b[1;34m\u001b[0m\n\u001b[1;32m----> 1\u001b[1;33m \u001b[0mint\u001b[0m\u001b[1;33m(\u001b[0m\u001b[0ma\u001b[0m\u001b[1;33m)\u001b[0m\u001b[1;33m\u001b[0m\u001b[1;33m\u001b[0m\u001b[0m\n\u001b[0m",
      "\u001b[1;31mValueError\u001b[0m: invalid literal for int() with base 10: '10.3'"
     ]
    }
   ],
   "source": [
    "int(a)"
   ]
  },
  {
   "cell_type": "code",
   "execution_count": null,
   "id": "1c7c2c8d",
   "metadata": {},
   "outputs": [],
   "source": []
  },
  {
   "cell_type": "code",
   "execution_count": 12,
   "id": "925aded3",
   "metadata": {},
   "outputs": [],
   "source": [
    "a = 10.999"
   ]
  },
  {
   "cell_type": "code",
   "execution_count": 13,
   "id": "470be39c",
   "metadata": {},
   "outputs": [
    {
     "data": {
      "text/plain": [
       "10"
      ]
     },
     "execution_count": 13,
     "metadata": {},
     "output_type": "execute_result"
    }
   ],
   "source": [
    "int(a)"
   ]
  },
  {
   "cell_type": "code",
   "execution_count": 15,
   "id": "18724b62",
   "metadata": {},
   "outputs": [
    {
     "data": {
      "text/plain": [
       "10"
      ]
     },
     "execution_count": 15,
     "metadata": {},
     "output_type": "execute_result"
    }
   ],
   "source": [
    "round(10.4)"
   ]
  },
  {
   "cell_type": "code",
   "execution_count": 16,
   "id": "66ef3ca4",
   "metadata": {},
   "outputs": [
    {
     "data": {
      "text/plain": [
       "10.0"
      ]
     },
     "execution_count": 16,
     "metadata": {},
     "output_type": "execute_result"
    }
   ],
   "source": [
    "float(10)"
   ]
  },
  {
   "cell_type": "code",
   "execution_count": 17,
   "id": "da3dd4b9",
   "metadata": {},
   "outputs": [],
   "source": [
    "a =\"10.5\""
   ]
  },
  {
   "cell_type": "code",
   "execution_count": 18,
   "id": "14df1148",
   "metadata": {},
   "outputs": [
    {
     "data": {
      "text/plain": [
       "10.5"
      ]
     },
     "execution_count": 18,
     "metadata": {},
     "output_type": "execute_result"
    }
   ],
   "source": [
    "float(a)"
   ]
  },
  {
   "cell_type": "markdown",
   "id": "3b93b16e",
   "metadata": {},
   "source": [
    "# decimal to binary"
   ]
  },
  {
   "cell_type": "code",
   "execution_count": 20,
   "id": "9b47aa6b",
   "metadata": {},
   "outputs": [],
   "source": [
    "a = 10"
   ]
  },
  {
   "cell_type": "code",
   "execution_count": 21,
   "id": "1b8c697a",
   "metadata": {},
   "outputs": [
    {
     "data": {
      "text/plain": [
       "'0b1010'"
      ]
     },
     "execution_count": 21,
     "metadata": {},
     "output_type": "execute_result"
    }
   ],
   "source": [
    "bin(a)"
   ]
  },
  {
   "cell_type": "code",
   "execution_count": 24,
   "id": "c67a81da",
   "metadata": {},
   "outputs": [],
   "source": [
    "a = 0b1010#base --> 2"
   ]
  },
  {
   "cell_type": "code",
   "execution_count": 27,
   "id": "7e91e6e6",
   "metadata": {},
   "outputs": [
    {
     "data": {
      "text/plain": [
       "10"
      ]
     },
     "execution_count": 27,
     "metadata": {},
     "output_type": "execute_result"
    }
   ],
   "source": [
    "int(a)"
   ]
  },
  {
   "cell_type": "code",
   "execution_count": 28,
   "id": "9dbd89ff",
   "metadata": {},
   "outputs": [
    {
     "data": {
      "text/plain": [
       "512"
      ]
     },
     "execution_count": 28,
     "metadata": {},
     "output_type": "execute_result"
    }
   ],
   "source": [
    "8**3"
   ]
  },
  {
   "cell_type": "code",
   "execution_count": 29,
   "id": "496d4154",
   "metadata": {},
   "outputs": [
    {
     "data": {
      "text/plain": [
       "'0o144'"
      ]
     },
     "execution_count": 29,
     "metadata": {},
     "output_type": "execute_result"
    }
   ],
   "source": [
    "a = 100\n",
    "oct(a)"
   ]
  },
  {
   "cell_type": "markdown",
   "id": "14a627ef",
   "metadata": {},
   "source": [
    "# hexadecimal"
   ]
  },
  {
   "cell_type": "markdown",
   "id": "84fb8b8d",
   "metadata": {},
   "source": [
    "16"
   ]
  },
  {
   "cell_type": "code",
   "execution_count": null,
   "id": "b9ec69f2",
   "metadata": {},
   "outputs": [],
   "source": [
    "a = 100\n",
    "hex(a)"
   ]
  },
  {
   "cell_type": "code",
   "execution_count": 30,
   "id": "3c3ee534",
   "metadata": {},
   "outputs": [
    {
     "data": {
      "text/plain": [
       "256"
      ]
     },
     "execution_count": 30,
     "metadata": {},
     "output_type": "execute_result"
    }
   ],
   "source": [
    "16**2"
   ]
  },
  {
   "cell_type": "code",
   "execution_count": 31,
   "id": "280a4a41",
   "metadata": {},
   "outputs": [
    {
     "data": {
      "text/plain": [
       "4096"
      ]
     },
     "execution_count": 31,
     "metadata": {},
     "output_type": "execute_result"
    }
   ],
   "source": [
    "16**3"
   ]
  },
  {
   "cell_type": "code",
   "execution_count": 32,
   "id": "d082fb0c",
   "metadata": {},
   "outputs": [],
   "source": [
    "a = 100"
   ]
  },
  {
   "cell_type": "code",
   "execution_count": 33,
   "id": "05e71473",
   "metadata": {},
   "outputs": [
    {
     "data": {
      "text/plain": [
       "'0x64'"
      ]
     },
     "execution_count": 33,
     "metadata": {},
     "output_type": "execute_result"
    }
   ],
   "source": [
    "hex(a)"
   ]
  },
  {
   "cell_type": "markdown",
   "id": "d1473eb3",
   "metadata": {},
   "source": [
    "# \n",
    "    & --> bitwise and operator \n",
    "    | --> bitwise or operator  \n",
    "    ^ --> bitwise xor orerator\n",
    "    ~ --> bitwise not operator \n",
    "    << --> bitwise left shift operator\n",
    "    >> --> bitwise right shift operator"
   ]
  },
  {
   "cell_type": "code",
   "execution_count": 35,
   "id": "b99f6098",
   "metadata": {},
   "outputs": [],
   "source": [
    "a = 10 #1010\n",
    "b = 6 #0110\n",
    "#0010\n",
    "#2\n",
    "res = a&b"
   ]
  },
  {
   "cell_type": "code",
   "execution_count": 36,
   "id": "8ed34e80",
   "metadata": {},
   "outputs": [
    {
     "name": "stdout",
     "output_type": "stream",
     "text": [
      "2\n"
     ]
    }
   ],
   "source": [
    "print(res)"
   ]
  },
  {
   "cell_type": "code",
   "execution_count": 37,
   "id": "3c749951",
   "metadata": {},
   "outputs": [
    {
     "name": "stdout",
     "output_type": "stream",
     "text": [
      "3\n"
     ]
    }
   ],
   "source": [
    "a = 19\n",
    "b =11\n",
    "res = a&b\n",
    "print(res)"
   ]
  },
  {
   "cell_type": "markdown",
   "id": "50800086",
   "metadata": {},
   "source": [
    "# |"
   ]
  },
  {
   "cell_type": "code",
   "execution_count": 38,
   "id": "5d5013f5",
   "metadata": {},
   "outputs": [
    {
     "name": "stdout",
     "output_type": "stream",
     "text": [
      "15\n"
     ]
    }
   ],
   "source": [
    "a = 10\n",
    "b = 5\n",
    "#1010\n",
    "#0101\n",
    "#1111\n",
    "#15\n",
    "res = a|b\n",
    "print(res)"
   ]
  },
  {
   "cell_type": "markdown",
   "id": "cd77dce6",
   "metadata": {},
   "source": [
    "# ^"
   ]
  },
  {
   "cell_type": "code",
   "execution_count": 39,
   "id": "1b2a2020",
   "metadata": {},
   "outputs": [
    {
     "data": {
      "text/plain": [
       "8"
      ]
     },
     "execution_count": 39,
     "metadata": {},
     "output_type": "execute_result"
    }
   ],
   "source": [
    "a = 11\n",
    "b =3\n",
    "a^b"
   ]
  },
  {
   "cell_type": "code",
   "execution_count": 40,
   "id": "6a3bb96c",
   "metadata": {},
   "outputs": [
    {
     "data": {
      "text/plain": [
       "-11"
      ]
     },
     "execution_count": 40,
     "metadata": {},
     "output_type": "execute_result"
    }
   ],
   "source": [
    "a = 10\n",
    "~a"
   ]
  },
  {
   "cell_type": "code",
   "execution_count": 42,
   "id": "f5e2aac0",
   "metadata": {},
   "outputs": [
    {
     "data": {
      "text/plain": [
       "-101"
      ]
     },
     "execution_count": 42,
     "metadata": {},
     "output_type": "execute_result"
    }
   ],
   "source": [
    "a = 100\n",
    "~a# (100+1)*-1--> -101"
   ]
  },
  {
   "cell_type": "code",
   "execution_count": 43,
   "id": "d833a8a1",
   "metadata": {},
   "outputs": [
    {
     "data": {
      "text/plain": [
       "-57"
      ]
     },
     "execution_count": 43,
     "metadata": {},
     "output_type": "execute_result"
    }
   ],
   "source": [
    "a = 56\n",
    "~a"
   ]
  },
  {
   "cell_type": "markdown",
   "id": "da4fe06b",
   "metadata": {},
   "source": [
    "# <<"
   ]
  },
  {
   "cell_type": "code",
   "execution_count": 46,
   "id": "f84a2ccd",
   "metadata": {},
   "outputs": [
    {
     "data": {
      "text/plain": [
       "80"
      ]
     },
     "execution_count": 46,
     "metadata": {},
     "output_type": "execute_result"
    }
   ],
   "source": [
    "a = 10\n",
    "a<<3"
   ]
  },
  {
   "cell_type": "markdown",
   "id": "95ba4c30",
   "metadata": {},
   "source": [
    "# >>"
   ]
  },
  {
   "cell_type": "code",
   "execution_count": 49,
   "id": "a6852cd2",
   "metadata": {},
   "outputs": [
    {
     "data": {
      "text/plain": [
       "0"
      ]
     },
     "execution_count": 49,
     "metadata": {},
     "output_type": "execute_result"
    }
   ],
   "source": [
    "a = 16\n",
    "a>>5"
   ]
  },
  {
   "cell_type": "code",
   "execution_count": null,
   "id": "39f32bc4",
   "metadata": {},
   "outputs": [],
   "source": []
  }
 ],
 "metadata": {
  "kernelspec": {
   "display_name": "Python 3 (ipykernel)",
   "language": "python",
   "name": "python3"
  },
  "language_info": {
   "codemirror_mode": {
    "name": "ipython",
    "version": 3
   },
   "file_extension": ".py",
   "mimetype": "text/x-python",
   "name": "python",
   "nbconvert_exporter": "python",
   "pygments_lexer": "ipython3",
   "version": "3.9.13"
  }
 },
 "nbformat": 4,
 "nbformat_minor": 5
}
