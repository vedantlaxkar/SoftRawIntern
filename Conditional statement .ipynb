{
 "cells": [
  {
   "cell_type": "markdown",
   "id": "b60823fd",
   "metadata": {},
   "source": [
    "# conditional statement \n",
    "    --> if condition True :\n",
    "            statement 1\n",
    "            statement 2\n",
    "            statemetn 3\n",
    "            \n",
    "     else:\n",
    "         statement 2\n",
    "         statemtn \n",
    "         "
   ]
  },
  {
   "cell_type": "code",
   "execution_count": 2,
   "id": "fa722a0f",
   "metadata": {},
   "outputs": [
    {
     "name": "stdout",
     "output_type": "stream",
     "text": [
      "hello world\n"
     ]
    }
   ],
   "source": [
    "if True:\n",
    "    print('hello world')\n",
    "else:\n",
    "    print('hiii')"
   ]
  },
  {
   "cell_type": "code",
   "execution_count": 3,
   "id": "0af53261",
   "metadata": {},
   "outputs": [
    {
     "name": "stdout",
     "output_type": "stream",
     "text": [
      "hiii\n"
     ]
    }
   ],
   "source": [
    "if False:\n",
    "    print('hello world')\n",
    "else:\n",
    "    print('hiii')"
   ]
  },
  {
   "cell_type": "markdown",
   "id": "3e224384",
   "metadata": {},
   "source": [
    "# odd and even \n"
   ]
  },
  {
   "cell_type": "code",
   "execution_count": 7,
   "id": "b6360322",
   "metadata": {},
   "outputs": [
    {
     "name": "stdout",
     "output_type": "stream",
     "text": [
      "Enter a number :-> 12\n",
      "even\n"
     ]
    }
   ],
   "source": [
    "num = int(input('Enter a number :-> '))\n",
    "if num%2:\n",
    "    print(\"odd\")\n",
    "else:\n",
    "    print(\"even\")"
   ]
  },
  {
   "cell_type": "markdown",
   "id": "7a2cd2bb",
   "metadata": {},
   "source": [
    "# check if num is divided by 3 and 5 both\n",
    "    "
   ]
  },
  {
   "cell_type": "code",
   "execution_count": 25,
   "id": "ea21ba76",
   "metadata": {},
   "outputs": [
    {
     "name": "stdout",
     "output_type": "stream",
     "text": [
      "ENter number :-> 11\n",
      "False\n"
     ]
    }
   ],
   "source": [
    "num = int(input('ENter number :-> '))\n",
    "if num%3==0 and num%5==0:\n",
    "    print('True')\n",
    "else:\n",
    "    print(\"False\")"
   ]
  },
  {
   "cell_type": "markdown",
   "id": "c1d03007",
   "metadata": {},
   "source": [
    "# age"
   ]
  },
  {
   "cell_type": "code",
   "execution_count": 14,
   "id": "36c02ed1",
   "metadata": {},
   "outputs": [
    {
     "name": "stdout",
     "output_type": "stream",
     "text": [
      "Enter your age :-> 12\n",
      "you are not eligible to vote \n"
     ]
    }
   ],
   "source": [
    "age = int(input('Enter your age :-> '))\n",
    "if age >=18:\n",
    "    print(\"you are eligible to vote \")\n",
    "else:\n",
    "    print('you are not eligible to vote ')"
   ]
  },
  {
   "cell_type": "markdown",
   "id": "d85d149c",
   "metadata": {},
   "source": [
    "# compare two number:"
   ]
  },
  {
   "cell_type": "code",
   "execution_count": 16,
   "id": "2b37d659",
   "metadata": {},
   "outputs": [
    {
     "name": "stdout",
     "output_type": "stream",
     "text": [
      "Enter a number :-> 120\n",
      "ENter b number :-> 23\n",
      "120 is greater than 23\n"
     ]
    }
   ],
   "source": [
    "a = int(input(\"Enter a number :-> \"))\n",
    "b = int(input('ENter b number :-> '))\n",
    "\n",
    "if a>b:\n",
    "    print(f'{a} is greater than {b}')\n",
    "    \n",
    "else:\n",
    "    print(f\"{b} is greater than {a}\")"
   ]
  },
  {
   "cell_type": "code",
   "execution_count": 18,
   "id": "4c8b4887",
   "metadata": {},
   "outputs": [
    {
     "name": "stdout",
     "output_type": "stream",
     "text": [
      "hello world this is magic\n",
      "hello\n",
      "this is the magic of python\n",
      "kesa laga mera majak\n"
     ]
    }
   ],
   "source": [
    "print('hello world this is magic')\n",
    "if print('hello'):\n",
    "    print('this is not a part of magic')\n",
    "else:\n",
    "    print('this is the magic of python')\n",
    "    \n",
    "print('kesa laga mera majak')"
   ]
  },
  {
   "cell_type": "code",
   "execution_count": 20,
   "id": "85fde149",
   "metadata": {},
   "outputs": [
    {
     "name": "stdout",
     "output_type": "stream",
     "text": [
      "\n",
      "None\n",
      "None\n",
      "None\n",
      "None\n"
     ]
    }
   ],
   "source": [
    "print(print(print(print(print()))))"
   ]
  },
  {
   "cell_type": "markdown",
   "id": "4702966a",
   "metadata": {},
   "source": [
    "# \n",
    "    char = \"10\"\n",
    "    true\n",
    "    else\n",
    "    false"
   ]
  },
  {
   "cell_type": "code",
   "execution_count": 40,
   "id": "49c2a1a9",
   "metadata": {},
   "outputs": [
    {
     "name": "stdout",
     "output_type": "stream",
     "text": [
      "enter a number :-> 34\n",
      "34  is a number \n"
     ]
    }
   ],
   "source": [
    "a = input('enter a number :-> ')\n",
    "if a.isnumeric():\n",
    "    print(f\"{a}  is a number \")\n",
    "else:\n",
    "    print(f\"{a}  is a character\")"
   ]
  },
  {
   "cell_type": "markdown",
   "id": "698b7007",
   "metadata": {},
   "source": [
    "# check wether a char is vowel or consonant"
   ]
  },
  {
   "cell_type": "code",
   "execution_count": 43,
   "id": "7776bd58",
   "metadata": {},
   "outputs": [
    {
     "name": "stdout",
     "output_type": "stream",
     "text": [
      "Enter a charq\n",
      "q is cononant\n"
     ]
    }
   ],
   "source": [
    "vowels = \"aeiouAEIOU\"\n",
    "char = input('Enter a char')\n",
    "if char in vowels:\n",
    "    print(f\" {char} is vowel\")\n",
    "else:\n",
    "    print(f\"{char} is cononant\")"
   ]
  },
  {
   "cell_type": "code",
   "execution_count": null,
   "id": "b6a7676e",
   "metadata": {},
   "outputs": [],
   "source": []
  }
 ],
 "metadata": {
  "kernelspec": {
   "display_name": "Python 3 (ipykernel)",
   "language": "python",
   "name": "python3"
  },
  "language_info": {
   "codemirror_mode": {
    "name": "ipython",
    "version": 3
   },
   "file_extension": ".py",
   "mimetype": "text/x-python",
   "name": "python",
   "nbconvert_exporter": "python",
   "pygments_lexer": "ipython3",
   "version": "3.9.13"
  }
 },
 "nbformat": 4,
 "nbformat_minor": 5
}
