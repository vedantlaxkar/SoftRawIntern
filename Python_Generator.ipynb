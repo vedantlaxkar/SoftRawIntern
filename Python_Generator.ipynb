{
 "cells": [
  {
   "cell_type": "markdown",
   "id": "a7bc3ec7",
   "metadata": {},
   "source": [
    "# Generators in Python\n",
    "A Generator in Python is a function that returns an iterator using the Yield keyword. In this article, we will discuss how the generator function works in Python.\n",
    "\n",
    "**Generator Function in Python**<br>\n",
    "A generator function in Python is defined like a normal function, but whenever it needs to generate a value, it does so with the **yield keyword** rather than return. If the body of a def contains yield, the function automatically becomes a Python generator function. "
   ]
  },
  {
   "cell_type": "markdown",
   "id": "b1936dac",
   "metadata": {},
   "source": [
    "**Create a Generator in Python**<br>\n",
    "In Python, we can create a generator function by simply using the def keyword and the yield keyword. The generator has the following syntax in Python:\n",
    "\n",
    "  def function_name():<br>\n",
    "      <pre>yield statement "
   ]
  },
  {
   "cell_type": "markdown",
   "id": "9d15de2c",
   "metadata": {},
   "source": [
    "**Example:**\n",
    "\n",
    "In this example, we will create a simple generator that will yield three integers. Then we will print these integers by using Python for loop.\n"
   ]
  },
  {
   "cell_type": "code",
   "execution_count": 5,
   "id": "dd4c1a8c",
   "metadata": {},
   "outputs": [
    {
     "name": "stdout",
     "output_type": "stream",
     "text": [
      "1\n",
      "2\n",
      "3\n"
     ]
    }
   ],
   "source": [
    "# A generator function that yields 1 for first time, \n",
    "# 2 second time and 3 third time \n",
    "def simpleGeneratorFun(): \n",
    "    yield 1\n",
    "    yield 2\n",
    "    yield 3\n",
    "\n",
    "# Driver code to check above generator function \n",
    "for value in simpleGeneratorFun(): \n",
    "    print(value)\n"
   ]
  },
  {
   "cell_type": "markdown",
   "id": "0346ef19",
   "metadata": {},
   "source": [
    "**Generator Object**<br>\n",
    "Python Generator functions return a generator object that is iterable, i.e., can be used as an **Iterator**. Generator objects are used either by calling the next method of the generator object or using the generator object in a “for in” loop.\n",
    "\n",
    "**Example:**\n",
    "\n",
    "In this example, we will create a simple generator function in Python to generate objects using the **next() function.**"
   ]
  },
  {
   "cell_type": "code",
   "execution_count": 3,
   "id": "c77544bd",
   "metadata": {},
   "outputs": [
    {
     "name": "stdout",
     "output_type": "stream",
     "text": [
      "1\n",
      "2\n",
      "3\n"
     ]
    }
   ],
   "source": [
    "# A Python program to demonstrate use of \n",
    "# generator object with next() \n",
    "\n",
    "# A generator function \n",
    "def simpleGeneratorFun(): \n",
    "    yield 1\n",
    "    yield 2\n",
    "    yield 3\n",
    "\n",
    "# x is a generator object \n",
    "x = simpleGeneratorFun() \n",
    "\n",
    "# Iterating over the generator object using next \n",
    "\n",
    "# In Python 3, __next__() \n",
    "print(next(x)) \n",
    "print(next(x)) \n",
    "print(next(x))\n"
   ]
  },
  {
   "cell_type": "markdown",
   "id": "7a4ed2e9",
   "metadata": {},
   "source": [
    "**Example:**\n",
    "\n",
    "In this example, we will create two generators for Fibonacci Numbers, first a simple generator and second generator using a for loop."
   ]
  },
  {
   "cell_type": "code",
   "execution_count": 7,
   "id": "05ed4ed2",
   "metadata": {},
   "outputs": [
    {
     "name": "stdout",
     "output_type": "stream",
     "text": [
      "0\n",
      "1\n",
      "1\n",
      "2\n",
      "3\n",
      "\n",
      "Using for in loop\n",
      "0\n",
      "1\n",
      "1\n",
      "2\n",
      "3\n"
     ]
    }
   ],
   "source": [
    "# A simple generator for Fibonacci Numbers \n",
    "def fib(limit): \n",
    "\n",
    "# Initialize first two Fibonacci Numbers \n",
    "    a, b = 0, 1\n",
    "\n",
    "# One by one yield next Fibonacci Number \n",
    "    while a < limit: \n",
    "        yield a \n",
    "        a, b = b, a + b \n",
    "\n",
    "# Create a generator object \n",
    "x = fib(5) \n",
    "\n",
    "# Iterating over the generator object using next \n",
    "# In Python 3, __next__() \n",
    "print(next(x)) \n",
    "print(next(x)) \n",
    "print(next(x)) \n",
    "print(next(x)) \n",
    "print(next(x)) \n",
    "\n",
    "# Iterating over the generator object using for \n",
    "# in loop. \n",
    "print(\"\\nUsing for in loop\") \n",
    "for i in fib(5): \n",
    "    print(i)\n"
   ]
  },
  {
   "cell_type": "markdown",
   "id": "c2a1acb0",
   "metadata": {},
   "source": [
    "**Python Generator Expression**<br>\n",
    "In Python, generator expression is another way of writing the generator function. It uses the Python list comprehension technique but instead of storing the elements in a list in memory, it creates generator objects.\n",
    "\n",
    "Generator Expression Syntax\n",
    "The generator expression in Python has the following Syntax:\n",
    "`(expression for item in iterable)`\n",
    "\n",
    "**Example:**\n",
    "\n",
    "In this example, we will create a generator object that will print the multiples of 5 between the range of 0 to 5 which are also divisible by 2."
   ]
  },
  {
   "cell_type": "code",
   "execution_count": 8,
   "id": "d5c60530",
   "metadata": {},
   "outputs": [
    {
     "name": "stdout",
     "output_type": "stream",
     "text": [
      "0\n",
      "10\n",
      "20\n"
     ]
    }
   ],
   "source": [
    "# generator expression \n",
    "generator_exp = (i * 5 for i in range(5) if i%2==0) \n",
    "\n",
    "for i in generator_exp: \n",
    "    print(i)\n"
   ]
  },
  {
   "cell_type": "code",
   "execution_count": null,
   "id": "1849572c",
   "metadata": {},
   "outputs": [],
   "source": []
  }
 ],
 "metadata": {
  "kernelspec": {
   "display_name": "Python 3 (ipykernel)",
   "language": "python",
   "name": "python3"
  },
  "language_info": {
   "codemirror_mode": {
    "name": "ipython",
    "version": 3
   },
   "file_extension": ".py",
   "mimetype": "text/x-python",
   "name": "python",
   "nbconvert_exporter": "python",
   "pygments_lexer": "ipython3",
   "version": "3.11.3"
  }
 },
 "nbformat": 4,
 "nbformat_minor": 5
}
