{
 "cells": [
  {
   "cell_type": "markdown",
   "id": "7f536f53",
   "metadata": {},
   "source": [
    "# Python Functions\n",
    "    ---> A function is a block of code which only runs when it is called.\n",
    "    ---> You can pass data, known as parameters, into a function.\n",
    "    ---> A function can return data as a result."
   ]
  },
  {
   "cell_type": "markdown",
   "id": "1dc5bce4",
   "metadata": {},
   "source": [
    "### In Python a function is defined using the \" def \"  keyword"
   ]
  },
  {
   "cell_type": "code",
   "execution_count": 1,
   "id": "161d4662",
   "metadata": {},
   "outputs": [],
   "source": [
    "#Creating a Function\n",
    "def my_function():\n",
    "  print(\"Hello from a function\")"
   ]
  },
  {
   "cell_type": "code",
   "execution_count": 2,
   "id": "4ff07caf",
   "metadata": {},
   "outputs": [
    {
     "name": "stdout",
     "output_type": "stream",
     "text": [
      "Hello from a function\n"
     ]
    }
   ],
   "source": [
    "#Calling a Function\n",
    "def my_function():\n",
    "  print(\"Hello from a function\")\n",
    "\n",
    "my_function()"
   ]
  },
  {
   "cell_type": "code",
   "execution_count": 3,
   "id": "bc05626b",
   "metadata": {},
   "outputs": [
    {
     "name": "stdout",
     "output_type": "stream",
     "text": [
      "Vedant laxkar\n",
      "Rakshita laxkar\n",
      "Khushi laxkar\n"
     ]
    }
   ],
   "source": [
    "#Information can be passed into functions as arguments.\n",
    "def my_function(fname):\n",
    "  print(fname + \" laxkar\")\n",
    "\n",
    "my_function(\"Vedant\")\n",
    "my_function(\"Rakshita\")\n",
    "my_function(\"Khushi\")"
   ]
  },
  {
   "cell_type": "markdown",
   "id": "ead60b70",
   "metadata": {},
   "source": []
  }
 ],
 "metadata": {
  "kernelspec": {
   "display_name": "Python 3 (ipykernel)",
   "language": "python",
   "name": "python3"
  },
  "language_info": {
   "codemirror_mode": {
    "name": "ipython",
    "version": 3
   },
   "file_extension": ".py",
   "mimetype": "text/x-python",
   "name": "python",
   "nbconvert_exporter": "python",
   "pygments_lexer": "ipython3",
   "version": "3.11.3"
  }
 },
 "nbformat": 4,
 "nbformat_minor": 5
}
