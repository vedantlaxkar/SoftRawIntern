{
 "cells": [
  {
   "cell_type": "code",
   "execution_count": 1,
   "id": "3db2dcea",
   "metadata": {},
   "outputs": [],
   "source": [
    "s = 'hello world'"
   ]
  },
  {
   "cell_type": "code",
   "execution_count": 2,
   "id": "eea2811a",
   "metadata": {},
   "outputs": [
    {
     "data": {
      "text/plain": [
       "'h'"
      ]
     },
     "execution_count": 2,
     "metadata": {},
     "output_type": "execute_result"
    }
   ],
   "source": [
    "s[0]"
   ]
  },
  {
   "cell_type": "code",
   "execution_count": 3,
   "id": "01301db8",
   "metadata": {},
   "outputs": [
    {
     "data": {
      "text/plain": [
       "'d'"
      ]
     },
     "execution_count": 3,
     "metadata": {},
     "output_type": "execute_result"
    }
   ],
   "source": [
    "s[10]"
   ]
  },
  {
   "cell_type": "code",
   "execution_count": 4,
   "id": "14ce27bb",
   "metadata": {},
   "outputs": [],
   "source": [
    "s = 'helloworld'"
   ]
  },
  {
   "cell_type": "code",
   "execution_count": 5,
   "id": "b7f8a545",
   "metadata": {},
   "outputs": [
    {
     "data": {
      "text/plain": [
       "'h'"
      ]
     },
     "execution_count": 5,
     "metadata": {},
     "output_type": "execute_result"
    }
   ],
   "source": [
    "s[0]"
   ]
  },
  {
   "cell_type": "code",
   "execution_count": 6,
   "id": "1d799ce2",
   "metadata": {},
   "outputs": [
    {
     "data": {
      "text/plain": [
       "'h'"
      ]
     },
     "execution_count": 6,
     "metadata": {},
     "output_type": "execute_result"
    }
   ],
   "source": [
    "s[-10]"
   ]
  },
  {
   "cell_type": "code",
   "execution_count": 7,
   "id": "83cd545b",
   "metadata": {},
   "outputs": [
    {
     "data": {
      "text/plain": [
       "'d'"
      ]
     },
     "execution_count": 7,
     "metadata": {},
     "output_type": "execute_result"
    }
   ],
   "source": [
    "s[-1]"
   ]
  },
  {
   "cell_type": "code",
   "execution_count": 8,
   "id": "ae4e3430",
   "metadata": {},
   "outputs": [
    {
     "data": {
      "text/plain": [
       "'w'"
      ]
     },
     "execution_count": 8,
     "metadata": {},
     "output_type": "execute_result"
    }
   ],
   "source": [
    "s[-5]"
   ]
  },
  {
   "cell_type": "code",
   "execution_count": 9,
   "id": "fe3ab6e7",
   "metadata": {},
   "outputs": [
    {
     "data": {
      "text/plain": [
       "'o'"
      ]
     },
     "execution_count": 9,
     "metadata": {},
     "output_type": "execute_result"
    }
   ],
   "source": [
    "s[4]"
   ]
  },
  {
   "cell_type": "code",
   "execution_count": 11,
   "id": "56f502a4",
   "metadata": {},
   "outputs": [
    {
     "data": {
      "text/plain": [
       "'w'"
      ]
     },
     "execution_count": 11,
     "metadata": {},
     "output_type": "execute_result"
    }
   ],
   "source": [
    "s[5]"
   ]
  },
  {
   "cell_type": "code",
   "execution_count": 19,
   "id": "ca8744ce",
   "metadata": {},
   "outputs": [],
   "source": [
    "s = 'hello world'"
   ]
  },
  {
   "cell_type": "code",
   "execution_count": 14,
   "id": "559d6ae4",
   "metadata": {},
   "outputs": [
    {
     "data": {
      "text/plain": [
       "'o'"
      ]
     },
     "execution_count": 14,
     "metadata": {},
     "output_type": "execute_result"
    }
   ],
   "source": [
    "s[4]"
   ]
  },
  {
   "cell_type": "code",
   "execution_count": 15,
   "id": "94cf8fc3",
   "metadata": {},
   "outputs": [],
   "source": [
    "s = s[0]+s[1]+s[2]+s[3]+s[4]"
   ]
  },
  {
   "cell_type": "code",
   "execution_count": 16,
   "id": "48f6d8e5",
   "metadata": {},
   "outputs": [
    {
     "data": {
      "text/plain": [
       "'hello'"
      ]
     },
     "execution_count": 16,
     "metadata": {},
     "output_type": "execute_result"
    }
   ],
   "source": [
    "s"
   ]
  },
  {
   "cell_type": "code",
   "execution_count": 30,
   "id": "df9d4996",
   "metadata": {},
   "outputs": [],
   "source": [
    "ns = s[1:5]"
   ]
  },
  {
   "cell_type": "code",
   "execution_count": 31,
   "id": "f125aa89",
   "metadata": {},
   "outputs": [
    {
     "data": {
      "text/plain": [
       "'ello'"
      ]
     },
     "execution_count": 31,
     "metadata": {},
     "output_type": "execute_result"
    }
   ],
   "source": [
    "ns"
   ]
  },
  {
   "cell_type": "code",
   "execution_count": 36,
   "id": "c72ab6b1",
   "metadata": {},
   "outputs": [],
   "source": [
    "s1 = 'hello this is python'"
   ]
  },
  {
   "cell_type": "code",
   "execution_count": 39,
   "id": "c86497e5",
   "metadata": {},
   "outputs": [],
   "source": [
    "ns = s1[10:2:-1]"
   ]
  },
  {
   "cell_type": "code",
   "execution_count": 40,
   "id": "9a8399fe",
   "metadata": {},
   "outputs": [
    {
     "data": {
      "text/plain": [
       "' siht ol'"
      ]
     },
     "execution_count": 40,
     "metadata": {},
     "output_type": "execute_result"
    }
   ],
   "source": [
    "ns"
   ]
  },
  {
   "cell_type": "code",
   "execution_count": 41,
   "id": "9c128401",
   "metadata": {},
   "outputs": [],
   "source": [
    "s = \"hello world\""
   ]
  },
  {
   "cell_type": "markdown",
   "id": "c84323d1",
   "metadata": {},
   "source": [
    "s[0:n-1:1]"
   ]
  },
  {
   "cell_type": "code",
   "execution_count": 56,
   "id": "68ff1ad9",
   "metadata": {},
   "outputs": [],
   "source": [
    "ns = s[::-1]"
   ]
  },
  {
   "cell_type": "code",
   "execution_count": 58,
   "id": "35cda8d5",
   "metadata": {},
   "outputs": [
    {
     "data": {
      "text/plain": [
       "'hello world'"
      ]
     },
     "execution_count": 58,
     "metadata": {},
     "output_type": "execute_result"
    }
   ],
   "source": [
    "s"
   ]
  },
  {
   "cell_type": "code",
   "execution_count": 53,
   "id": "efe683f1",
   "metadata": {},
   "outputs": [],
   "source": [
    "s = 'hello world'"
   ]
  },
  {
   "cell_type": "code",
   "execution_count": 54,
   "id": "be9643ab",
   "metadata": {},
   "outputs": [
    {
     "data": {
      "text/plain": [
       "'dlrow olleh'"
      ]
     },
     "execution_count": 54,
     "metadata": {},
     "output_type": "execute_result"
    }
   ],
   "source": [
    "s[::-1]"
   ]
  },
  {
   "cell_type": "markdown",
   "id": "8722e1aa",
   "metadata": {},
   "source": [
    "# List \n",
    "    -->[]\n",
    "    --> collection data type \n",
    "    --> mutable data type \n",
    "        --> we can change in original data object\n",
    "        \n",
    "        "
   ]
  },
  {
   "cell_type": "code",
   "execution_count": 59,
   "id": "28c057c6",
   "metadata": {},
   "outputs": [],
   "source": [
    "my_list = [1,2,3,4,5,6]"
   ]
  },
  {
   "cell_type": "code",
   "execution_count": 60,
   "id": "f7bc198e",
   "metadata": {},
   "outputs": [
    {
     "name": "stdout",
     "output_type": "stream",
     "text": [
      "[1, 2, 3, 4, 5, 6]\n"
     ]
    }
   ],
   "source": [
    "print(my_list)"
   ]
  },
  {
   "cell_type": "code",
   "execution_count": 61,
   "id": "4aadd6d0",
   "metadata": {},
   "outputs": [
    {
     "name": "stdout",
     "output_type": "stream",
     "text": [
      "<class 'list'>\n"
     ]
    }
   ],
   "source": [
    "print(type(my_list))"
   ]
  },
  {
   "cell_type": "code",
   "execution_count": 64,
   "id": "198c4b3d",
   "metadata": {},
   "outputs": [],
   "source": [
    "lang = ['hello world','python',1,2,3,4,5,10.4,5+5j,10210,['huu','ahahahah','hehehe']]"
   ]
  },
  {
   "cell_type": "code",
   "execution_count": 65,
   "id": "471ce8cb",
   "metadata": {},
   "outputs": [
    {
     "name": "stdout",
     "output_type": "stream",
     "text": [
      "['hello world', 'python', 1, 2, 3, 4, 5, 10.4, (5+5j), 10210, ['huu', 'ahahahah', 'hehehe']]\n"
     ]
    }
   ],
   "source": [
    "print(lang)"
   ]
  },
  {
   "cell_type": "code",
   "execution_count": 66,
   "id": "b1ae0ee2",
   "metadata": {},
   "outputs": [
    {
     "data": {
      "text/plain": [
       "list"
      ]
     },
     "execution_count": 66,
     "metadata": {},
     "output_type": "execute_result"
    }
   ],
   "source": [
    "type(lang)"
   ]
  },
  {
   "cell_type": "code",
   "execution_count": 67,
   "id": "3580cf80",
   "metadata": {},
   "outputs": [
    {
     "data": {
      "text/plain": [
       "['__add__',\n",
       " '__class__',\n",
       " '__class_getitem__',\n",
       " '__contains__',\n",
       " '__delattr__',\n",
       " '__delitem__',\n",
       " '__dir__',\n",
       " '__doc__',\n",
       " '__eq__',\n",
       " '__format__',\n",
       " '__ge__',\n",
       " '__getattribute__',\n",
       " '__getitem__',\n",
       " '__gt__',\n",
       " '__hash__',\n",
       " '__iadd__',\n",
       " '__imul__',\n",
       " '__init__',\n",
       " '__init_subclass__',\n",
       " '__iter__',\n",
       " '__le__',\n",
       " '__len__',\n",
       " '__lt__',\n",
       " '__mul__',\n",
       " '__ne__',\n",
       " '__new__',\n",
       " '__reduce__',\n",
       " '__reduce_ex__',\n",
       " '__repr__',\n",
       " '__reversed__',\n",
       " '__rmul__',\n",
       " '__setattr__',\n",
       " '__setitem__',\n",
       " '__sizeof__',\n",
       " '__str__',\n",
       " '__subclasshook__',\n",
       " 'append',\n",
       " 'clear',\n",
       " 'copy',\n",
       " 'count',\n",
       " 'extend',\n",
       " 'index',\n",
       " 'insert',\n",
       " 'pop',\n",
       " 'remove',\n",
       " 'reverse',\n",
       " 'sort']"
      ]
     },
     "execution_count": 67,
     "metadata": {},
     "output_type": "execute_result"
    }
   ],
   "source": [
    "dir(lang)"
   ]
  },
  {
   "cell_type": "code",
   "execution_count": 73,
   "id": "d7680960",
   "metadata": {},
   "outputs": [
    {
     "data": {
      "text/plain": [
       "False"
      ]
     },
     "execution_count": 73,
     "metadata": {},
     "output_type": "execute_result"
    }
   ],
   "source": [
    "lis1 = [1,2,4,5,6]\n",
    "lis2 = [6,7,8,9]\n",
    "\n",
    "lis1 == lis2"
   ]
  },
  {
   "cell_type": "code",
   "execution_count": 74,
   "id": "9d5b18bc",
   "metadata": {},
   "outputs": [
    {
     "data": {
      "text/plain": [
       "False"
      ]
     },
     "execution_count": 74,
     "metadata": {},
     "output_type": "execute_result"
    }
   ],
   "source": [
    "lis1>lis2"
   ]
  },
  {
   "cell_type": "code",
   "execution_count": 75,
   "id": "3db09d41",
   "metadata": {},
   "outputs": [
    {
     "data": {
      "text/plain": [
       "True"
      ]
     },
     "execution_count": 75,
     "metadata": {},
     "output_type": "execute_result"
    }
   ],
   "source": [
    "lis2>lis1"
   ]
  },
  {
   "cell_type": "code",
   "execution_count": 76,
   "id": "ea98b87d",
   "metadata": {},
   "outputs": [
    {
     "data": {
      "text/plain": [
       "False"
      ]
     },
     "execution_count": 76,
     "metadata": {},
     "output_type": "execute_result"
    }
   ],
   "source": [
    "lis1.__gt__(lis2)"
   ]
  },
  {
   "cell_type": "code",
   "execution_count": 77,
   "id": "263b6c37",
   "metadata": {},
   "outputs": [
    {
     "data": {
      "text/plain": [
       "True"
      ]
     },
     "execution_count": 77,
     "metadata": {},
     "output_type": "execute_result"
    }
   ],
   "source": [
    "lis2.__gt__(lis1)"
   ]
  },
  {
   "cell_type": "markdown",
   "id": "48907092",
   "metadata": {},
   "source": [
    "# \n",
    "     'append',:--> add the element at the last index\n",
    "     'clear',:--> clear the list \n",
    "     'copy', :-> return shallow copy of original list \n",
    "     'count',:--> count the occurence of an element \n",
    "     'extend', :-> concatenate two list \n",
    "     'index', :-> return int of index value \n",
    "     'insert', :-> insert at any position \n",
    "     'pop', :-> remove and return element from last index \n",
    "     'remove', :-> remove the element from any index\n",
    "     'reverse', :-> reverse the order of list \n",
    "     'sort' :-> element order ascending or decending "
   ]
  },
  {
   "cell_type": "code",
   "execution_count": 78,
   "id": "475bf60a",
   "metadata": {},
   "outputs": [],
   "source": [
    "lis = [1,2,4,5,6,'akhilesh','gaurav','shivani','mahesh','aarish']"
   ]
  },
  {
   "cell_type": "code",
   "execution_count": 79,
   "id": "dce11a9b",
   "metadata": {},
   "outputs": [
    {
     "name": "stdout",
     "output_type": "stream",
     "text": [
      "[1, 2, 4, 5, 6, 'akhilesh', 'gaurav', 'shivani', 'mahesh', 'aarish']\n"
     ]
    }
   ],
   "source": [
    "print(lis)"
   ]
  },
  {
   "cell_type": "code",
   "execution_count": 83,
   "id": "f21d32d6",
   "metadata": {},
   "outputs": [],
   "source": [
    "lis.append(99)# value insert "
   ]
  },
  {
   "cell_type": "code",
   "execution_count": 84,
   "id": "b28f9071",
   "metadata": {},
   "outputs": [
    {
     "name": "stdout",
     "output_type": "stream",
     "text": [
      "[1, 2, 4, 5, 6, 'akhilesh', 'gaurav', 'shivani', 'mahesh', 'aarish', 99, 99, 99]\n"
     ]
    }
   ],
   "source": [
    "print(lis)"
   ]
  },
  {
   "cell_type": "code",
   "execution_count": 85,
   "id": "56a584eb",
   "metadata": {},
   "outputs": [
    {
     "data": {
      "text/plain": [
       "['hello world',\n",
       " 'python',\n",
       " 1,\n",
       " 2,\n",
       " 3,\n",
       " 4,\n",
       " 5,\n",
       " 10.4,\n",
       " (5+5j),\n",
       " 10210,\n",
       " ['huu', 'ahahahah', 'hehehe']]"
      ]
     },
     "execution_count": 85,
     "metadata": {},
     "output_type": "execute_result"
    }
   ],
   "source": [
    "lang"
   ]
  },
  {
   "cell_type": "code",
   "execution_count": 86,
   "id": "12ad7185",
   "metadata": {},
   "outputs": [],
   "source": [
    "lang.clear()"
   ]
  },
  {
   "cell_type": "code",
   "execution_count": 87,
   "id": "1e9679bc",
   "metadata": {},
   "outputs": [
    {
     "data": {
      "text/plain": [
       "[]"
      ]
     },
     "execution_count": 87,
     "metadata": {},
     "output_type": "execute_result"
    }
   ],
   "source": [
    "lang"
   ]
  },
  {
   "cell_type": "code",
   "execution_count": 89,
   "id": "a4633255",
   "metadata": {},
   "outputs": [
    {
     "name": "stdout",
     "output_type": "stream",
     "text": [
      "[1, 2, 4, 5, 6, 'akhilesh', 'gaurav', 'shivani', 'mahesh', 'aarish', 99, 99, 99]\n"
     ]
    }
   ],
   "source": [
    "print(lis)"
   ]
  },
  {
   "cell_type": "code",
   "execution_count": 91,
   "id": "597bc475",
   "metadata": {},
   "outputs": [
    {
     "data": {
      "text/plain": [
       "3"
      ]
     },
     "execution_count": 91,
     "metadata": {},
     "output_type": "execute_result"
    }
   ],
   "source": [
    "lis.count(99)"
   ]
  },
  {
   "cell_type": "code",
   "execution_count": 92,
   "id": "b9e90c78",
   "metadata": {},
   "outputs": [],
   "source": [
    "lis = [1,2,3,4,5,6]\n",
    "lis2 = ['gaurav','shubham','sachin','shubhash','jay','raghav']"
   ]
  },
  {
   "cell_type": "code",
   "execution_count": 93,
   "id": "166a2c52",
   "metadata": {},
   "outputs": [],
   "source": [
    "lis3 = lis +lis2\n"
   ]
  },
  {
   "cell_type": "code",
   "execution_count": 94,
   "id": "721aa5d2",
   "metadata": {},
   "outputs": [
    {
     "name": "stdout",
     "output_type": "stream",
     "text": [
      "[1, 2, 3, 4, 5, 6, 'gaurav', 'shubham', 'sachin', 'shubhash', 'jay', 'raghav']\n"
     ]
    }
   ],
   "source": [
    "print(lis3)"
   ]
  },
  {
   "cell_type": "code",
   "execution_count": 95,
   "id": "71d91808",
   "metadata": {},
   "outputs": [],
   "source": [
    "lis.extend(lis3)"
   ]
  },
  {
   "cell_type": "code",
   "execution_count": 97,
   "id": "ea7b3d91",
   "metadata": {},
   "outputs": [
    {
     "name": "stdout",
     "output_type": "stream",
     "text": [
      "[1, 2, 3, 4, 5, 6, 1, 2, 3, 4, 5, 6, 'gaurav', 'shubham', 'sachin', 'shubhash', 'jay', 'raghav']\n"
     ]
    }
   ],
   "source": [
    "print(lis)"
   ]
  },
  {
   "cell_type": "code",
   "execution_count": 98,
   "id": "e50d78d1",
   "metadata": {},
   "outputs": [
    {
     "name": "stdout",
     "output_type": "stream",
     "text": [
      "['gaurav', 'shubham', 'sachin', 'shubhash', 'jay', 'raghav']\n"
     ]
    }
   ],
   "source": [
    "print(lis2)"
   ]
  },
  {
   "cell_type": "code",
   "execution_count": 99,
   "id": "87ed0337",
   "metadata": {},
   "outputs": [],
   "source": [
    "lis2.extend(lis)"
   ]
  },
  {
   "cell_type": "code",
   "execution_count": 100,
   "id": "7f5289ec",
   "metadata": {},
   "outputs": [
    {
     "name": "stdout",
     "output_type": "stream",
     "text": [
      "['gaurav', 'shubham', 'sachin', 'shubhash', 'jay', 'raghav', 1, 2, 3, 4, 5, 6, 1, 2, 3, 4, 5, 6, 'gaurav', 'shubham', 'sachin', 'shubhash', 'jay', 'raghav']\n"
     ]
    }
   ],
   "source": [
    "print(lis2)"
   ]
  },
  {
   "cell_type": "code",
   "execution_count": 101,
   "id": "6d9e84a5",
   "metadata": {},
   "outputs": [],
   "source": [
    "lis = [1,2,3,4,5,6]"
   ]
  },
  {
   "cell_type": "code",
   "execution_count": 102,
   "id": "cf830464",
   "metadata": {},
   "outputs": [],
   "source": [
    "lis1 = [4,5,6,7,8,9]"
   ]
  },
  {
   "cell_type": "code",
   "execution_count": 103,
   "id": "5dcae644",
   "metadata": {},
   "outputs": [],
   "source": [
    "lis.extend(lis1)"
   ]
  },
  {
   "cell_type": "code",
   "execution_count": 104,
   "id": "edd9e140",
   "metadata": {},
   "outputs": [
    {
     "name": "stdout",
     "output_type": "stream",
     "text": [
      "[1, 2, 3, 4, 5, 6, 4, 5, 6, 7, 8, 9]\n"
     ]
    }
   ],
   "source": [
    "print(lis)"
   ]
  },
  {
   "cell_type": "code",
   "execution_count": 105,
   "id": "fa37d2ee",
   "metadata": {},
   "outputs": [],
   "source": [
    "name = ['shubham','sachin','bhadur','aashish','bhati']"
   ]
  },
  {
   "cell_type": "code",
   "execution_count": 106,
   "id": "a09cec52",
   "metadata": {},
   "outputs": [
    {
     "data": {
      "text/plain": [
       "['shubham', 'sachin', 'bhadur', 'aashish', 'bhati']"
      ]
     },
     "execution_count": 106,
     "metadata": {},
     "output_type": "execute_result"
    }
   ],
   "source": [
    "name"
   ]
  },
  {
   "cell_type": "code",
   "execution_count": 107,
   "id": "bb32baa9",
   "metadata": {},
   "outputs": [
    {
     "data": {
      "text/plain": [
       "1"
      ]
     },
     "execution_count": 107,
     "metadata": {},
     "output_type": "execute_result"
    }
   ],
   "source": [
    "name.index(\"sachin\")"
   ]
  },
  {
   "cell_type": "code",
   "execution_count": 109,
   "id": "bd949c6c",
   "metadata": {},
   "outputs": [
    {
     "ename": "ValueError",
     "evalue": "1 is not in list",
     "output_type": "error",
     "traceback": [
      "\u001b[1;31m---------------------------------------------------------------------------\u001b[0m",
      "\u001b[1;31mValueError\u001b[0m                                Traceback (most recent call last)",
      "\u001b[1;32m~\\AppData\\Local\\Temp\\ipykernel_34320\\2487367612.py\u001b[0m in \u001b[0;36m<module>\u001b[1;34m\u001b[0m\n\u001b[1;32m----> 1\u001b[1;33m \u001b[0mname\u001b[0m\u001b[1;33m.\u001b[0m\u001b[0mindex\u001b[0m\u001b[1;33m(\u001b[0m\u001b[1;36m1\u001b[0m\u001b[1;33m)\u001b[0m\u001b[1;33m\u001b[0m\u001b[1;33m\u001b[0m\u001b[0m\n\u001b[0m",
      "\u001b[1;31mValueError\u001b[0m: 1 is not in list"
     ]
    }
   ],
   "source": [
    "name.index(1)"
   ]
  },
  {
   "cell_type": "markdown",
   "id": "c492e936",
   "metadata": {},
   "source": [
    "# insert"
   ]
  },
  {
   "cell_type": "code",
   "execution_count": 111,
   "id": "d149d5f5",
   "metadata": {},
   "outputs": [
    {
     "data": {
      "text/plain": [
       "['shubham', 'sachin', 'bhadur', 'aashish', 'bhati']"
      ]
     },
     "execution_count": 111,
     "metadata": {},
     "output_type": "execute_result"
    }
   ],
   "source": [
    "name"
   ]
  },
  {
   "cell_type": "code",
   "execution_count": 114,
   "id": "ecb463a4",
   "metadata": {},
   "outputs": [],
   "source": [
    "name.insert(1,'ravi')"
   ]
  },
  {
   "cell_type": "code",
   "execution_count": 115,
   "id": "5edba512",
   "metadata": {},
   "outputs": [
    {
     "data": {
      "text/plain": [
       "['shubham', 'ravi', 'sachin', 'bhadur', 'aashish', 'bhati']"
      ]
     },
     "execution_count": 115,
     "metadata": {},
     "output_type": "execute_result"
    }
   ],
   "source": [
    "name"
   ]
  },
  {
   "cell_type": "code",
   "execution_count": 116,
   "id": "5a0467b3",
   "metadata": {},
   "outputs": [],
   "source": [
    "name.insert(5,['hello','python','this','is ','magic'])"
   ]
  },
  {
   "cell_type": "code",
   "execution_count": 118,
   "id": "99ace402",
   "metadata": {},
   "outputs": [
    {
     "name": "stdout",
     "output_type": "stream",
     "text": [
      "['shubham', 'ravi', 'sachin', 'bhadur', 'aashish', ['hello', 'python', 'this', 'is ', 'magic'], 'bhati']\n"
     ]
    }
   ],
   "source": [
    "print(name)"
   ]
  },
  {
   "cell_type": "code",
   "execution_count": 121,
   "id": "2bd72e72",
   "metadata": {},
   "outputs": [
    {
     "data": {
      "text/plain": [
       "'hello'"
      ]
     },
     "execution_count": 121,
     "metadata": {},
     "output_type": "execute_result"
    }
   ],
   "source": [
    "name[5][0]"
   ]
  },
  {
   "cell_type": "code",
   "execution_count": 122,
   "id": "63df185e",
   "metadata": {},
   "outputs": [
    {
     "name": "stdout",
     "output_type": "stream",
     "text": [
      "None\n"
     ]
    }
   ],
   "source": [
    "print(name.append(1000))"
   ]
  },
  {
   "cell_type": "code",
   "execution_count": 124,
   "id": "c323ddbf",
   "metadata": {},
   "outputs": [
    {
     "name": "stdout",
     "output_type": "stream",
     "text": [
      "['shubham', 'ravi', 'sachin', 'bhadur', 'aashish', ['hello', 'python', 'this', 'is ', 'magic'], 'bhati', 1000]\n"
     ]
    }
   ],
   "source": [
    "print(name)"
   ]
  },
  {
   "cell_type": "code",
   "execution_count": 125,
   "id": "39708e84",
   "metadata": {},
   "outputs": [
    {
     "name": "stdout",
     "output_type": "stream",
     "text": [
      "halke me na lo bhai\n",
      "None\n",
      "None\n",
      "None\n"
     ]
    }
   ],
   "source": [
    "print(print(print(print('halke me na lo bhai'))))"
   ]
  },
  {
   "cell_type": "markdown",
   "id": "f23717bf",
   "metadata": {},
   "source": [
    "# pop"
   ]
  },
  {
   "cell_type": "code",
   "execution_count": 126,
   "id": "ef0cc4aa",
   "metadata": {},
   "outputs": [
    {
     "name": "stdout",
     "output_type": "stream",
     "text": [
      "['shubham', 'ravi', 'sachin', 'bhadur', 'aashish', ['hello', 'python', 'this', 'is ', 'magic'], 'bhati', 1000]\n"
     ]
    }
   ],
   "source": [
    "print(name)"
   ]
  },
  {
   "cell_type": "code",
   "execution_count": 127,
   "id": "8f4d4940",
   "metadata": {},
   "outputs": [
    {
     "name": "stdout",
     "output_type": "stream",
     "text": [
      "ravi\n"
     ]
    }
   ],
   "source": [
    "print(name[1])"
   ]
  },
  {
   "cell_type": "code",
   "execution_count": 128,
   "id": "8dce10e4",
   "metadata": {},
   "outputs": [
    {
     "data": {
      "text/plain": [
       "'bhadur'"
      ]
     },
     "execution_count": 128,
     "metadata": {},
     "output_type": "execute_result"
    }
   ],
   "source": [
    "name[3]"
   ]
  },
  {
   "cell_type": "code",
   "execution_count": 129,
   "id": "f561a815",
   "metadata": {},
   "outputs": [],
   "source": [
    "name.append(11)"
   ]
  },
  {
   "cell_type": "code",
   "execution_count": 130,
   "id": "6bd36716",
   "metadata": {},
   "outputs": [
    {
     "data": {
      "text/plain": [
       "11"
      ]
     },
     "execution_count": 130,
     "metadata": {},
     "output_type": "execute_result"
    }
   ],
   "source": [
    "name.pop()"
   ]
  },
  {
   "cell_type": "code",
   "execution_count": 131,
   "id": "de14c7b3",
   "metadata": {},
   "outputs": [
    {
     "data": {
      "text/plain": [
       "1000"
      ]
     },
     "execution_count": 131,
     "metadata": {},
     "output_type": "execute_result"
    }
   ],
   "source": [
    "name.pop()"
   ]
  },
  {
   "cell_type": "code",
   "execution_count": 132,
   "id": "b8769bf2",
   "metadata": {},
   "outputs": [
    {
     "data": {
      "text/plain": [
       "'bhati'"
      ]
     },
     "execution_count": 132,
     "metadata": {},
     "output_type": "execute_result"
    }
   ],
   "source": [
    "name.pop()"
   ]
  },
  {
   "cell_type": "code",
   "execution_count": 133,
   "id": "7d1696e5",
   "metadata": {},
   "outputs": [
    {
     "data": {
      "text/plain": [
       "['hello', 'python', 'this', 'is ', 'magic']"
      ]
     },
     "execution_count": 133,
     "metadata": {},
     "output_type": "execute_result"
    }
   ],
   "source": [
    "name.pop()"
   ]
  },
  {
   "cell_type": "code",
   "execution_count": 134,
   "id": "5853ce1d",
   "metadata": {},
   "outputs": [
    {
     "name": "stdout",
     "output_type": "stream",
     "text": [
      "['shubham', 'ravi', 'sachin', 'bhadur', 'aashish']\n"
     ]
    }
   ],
   "source": [
    "print(name)"
   ]
  },
  {
   "cell_type": "code",
   "execution_count": 135,
   "id": "faea5aeb",
   "metadata": {},
   "outputs": [
    {
     "name": "stdout",
     "output_type": "stream",
     "text": [
      "aashish\n"
     ]
    }
   ],
   "source": [
    "print(name.pop())"
   ]
  },
  {
   "cell_type": "code",
   "execution_count": 136,
   "id": "bfc1a918",
   "metadata": {},
   "outputs": [
    {
     "data": {
      "text/plain": [
       "'sachin'"
      ]
     },
     "execution_count": 136,
     "metadata": {},
     "output_type": "execute_result"
    }
   ],
   "source": [
    "name.pop(2)"
   ]
  },
  {
   "cell_type": "markdown",
   "id": "8166a260",
   "metadata": {},
   "source": [
    "# remove"
   ]
  },
  {
   "cell_type": "code",
   "execution_count": 137,
   "id": "9c43961a",
   "metadata": {},
   "outputs": [
    {
     "name": "stdout",
     "output_type": "stream",
     "text": [
      "['shubham', 'ravi', 'bhadur']\n"
     ]
    }
   ],
   "source": [
    "print(name)"
   ]
  },
  {
   "cell_type": "code",
   "execution_count": 139,
   "id": "2aabed6a",
   "metadata": {},
   "outputs": [],
   "source": [
    "name.remove('ravi')"
   ]
  },
  {
   "cell_type": "code",
   "execution_count": 140,
   "id": "bb5b4ff9",
   "metadata": {},
   "outputs": [
    {
     "data": {
      "text/plain": [
       "['shubham', 'bhadur']"
      ]
     },
     "execution_count": 140,
     "metadata": {},
     "output_type": "execute_result"
    }
   ],
   "source": [
    "name"
   ]
  },
  {
   "cell_type": "code",
   "execution_count": 141,
   "id": "1c59b602",
   "metadata": {},
   "outputs": [
    {
     "data": {
      "text/plain": [
       "'bhadur'"
      ]
     },
     "execution_count": 141,
     "metadata": {},
     "output_type": "execute_result"
    }
   ],
   "source": [
    "name.pop()"
   ]
  },
  {
   "cell_type": "code",
   "execution_count": 142,
   "id": "c536405a",
   "metadata": {},
   "outputs": [
    {
     "data": {
      "text/plain": [
       "'shubham'"
      ]
     },
     "execution_count": 142,
     "metadata": {},
     "output_type": "execute_result"
    }
   ],
   "source": [
    "name.pop()"
   ]
  },
  {
   "cell_type": "code",
   "execution_count": 143,
   "id": "0eb1e9b9",
   "metadata": {},
   "outputs": [
    {
     "ename": "IndexError",
     "evalue": "pop from empty list",
     "output_type": "error",
     "traceback": [
      "\u001b[1;31m---------------------------------------------------------------------------\u001b[0m",
      "\u001b[1;31mIndexError\u001b[0m                                Traceback (most recent call last)",
      "\u001b[1;32m~\\AppData\\Local\\Temp\\ipykernel_34320\\3380042782.py\u001b[0m in \u001b[0;36m<module>\u001b[1;34m\u001b[0m\n\u001b[1;32m----> 1\u001b[1;33m \u001b[0mname\u001b[0m\u001b[1;33m.\u001b[0m\u001b[0mpop\u001b[0m\u001b[1;33m(\u001b[0m\u001b[1;33m)\u001b[0m\u001b[1;33m\u001b[0m\u001b[1;33m\u001b[0m\u001b[0m\n\u001b[0m",
      "\u001b[1;31mIndexError\u001b[0m: pop from empty list"
     ]
    }
   ],
   "source": [
    "name.pop()"
   ]
  },
  {
   "cell_type": "markdown",
   "id": "6d692207",
   "metadata": {},
   "source": [
    "# reverse "
   ]
  },
  {
   "cell_type": "code",
   "execution_count": 144,
   "id": "e565ef8e",
   "metadata": {},
   "outputs": [],
   "source": [
    "lis = [1,2,3,4,5,6,7]"
   ]
  },
  {
   "cell_type": "code",
   "execution_count": 145,
   "id": "e21dbdc8",
   "metadata": {},
   "outputs": [],
   "source": [
    "lis.reverse()"
   ]
  },
  {
   "cell_type": "code",
   "execution_count": 146,
   "id": "c0a7d6f3",
   "metadata": {},
   "outputs": [
    {
     "name": "stdout",
     "output_type": "stream",
     "text": [
      "[7, 6, 5, 4, 3, 2, 1]\n"
     ]
    }
   ],
   "source": [
    "print(lis)"
   ]
  },
  {
   "cell_type": "code",
   "execution_count": 147,
   "id": "d638aa16",
   "metadata": {},
   "outputs": [],
   "source": [
    "lis = [1,2,3,\"4\",5,6,'gaurav','shubham','deepak']"
   ]
  },
  {
   "cell_type": "code",
   "execution_count": 148,
   "id": "175ed3a8",
   "metadata": {},
   "outputs": [],
   "source": [
    "lis.reverse()"
   ]
  },
  {
   "cell_type": "code",
   "execution_count": 149,
   "id": "3e4e54c2",
   "metadata": {},
   "outputs": [
    {
     "name": "stdout",
     "output_type": "stream",
     "text": [
      "['deepak', 'shubham', 'gaurav', 6, 5, '4', 3, 2, 1]\n"
     ]
    }
   ],
   "source": [
    "print(lis)"
   ]
  },
  {
   "cell_type": "markdown",
   "id": "92df720c",
   "metadata": {},
   "source": [
    "# sort \n",
    "    ascending \n",
    "    "
   ]
  },
  {
   "cell_type": "code",
   "execution_count": 150,
   "id": "9dd45e4a",
   "metadata": {},
   "outputs": [
    {
     "data": {
      "text/plain": [
       "['deepak', 'shubham', 'gaurav', 6, 5, '4', 3, 2, 1]"
      ]
     },
     "execution_count": 150,
     "metadata": {},
     "output_type": "execute_result"
    }
   ],
   "source": [
    "lis"
   ]
  },
  {
   "cell_type": "code",
   "execution_count": 152,
   "id": "1ff0e09b",
   "metadata": {},
   "outputs": [],
   "source": [
    "lis1 = [100,2000,10203,1,2,3,4,5,6]"
   ]
  },
  {
   "cell_type": "code",
   "execution_count": 153,
   "id": "e71cd933",
   "metadata": {},
   "outputs": [],
   "source": [
    "lis1.sort()"
   ]
  },
  {
   "cell_type": "code",
   "execution_count": 154,
   "id": "5ffd6da7",
   "metadata": {},
   "outputs": [
    {
     "name": "stdout",
     "output_type": "stream",
     "text": [
      "[1, 2, 3, 4, 5, 6, 100, 2000, 10203]\n"
     ]
    }
   ],
   "source": [
    "print(lis1)"
   ]
  },
  {
   "cell_type": "code",
   "execution_count": 156,
   "id": "bddc7ef6",
   "metadata": {},
   "outputs": [
    {
     "name": "stdout",
     "output_type": "stream",
     "text": [
      "['deepak', 'shubham', 'gaurav', 6, 5, '4', 3, 2, 1]\n"
     ]
    }
   ],
   "source": [
    "print(lis)"
   ]
  },
  {
   "cell_type": "code",
   "execution_count": 157,
   "id": "d4a5c186",
   "metadata": {},
   "outputs": [
    {
     "ename": "TypeError",
     "evalue": "'<' not supported between instances of 'int' and 'str'",
     "output_type": "error",
     "traceback": [
      "\u001b[1;31m---------------------------------------------------------------------------\u001b[0m",
      "\u001b[1;31mTypeError\u001b[0m                                 Traceback (most recent call last)",
      "\u001b[1;32m~\\AppData\\Local\\Temp\\ipykernel_34320\\3320780270.py\u001b[0m in \u001b[0;36m<module>\u001b[1;34m\u001b[0m\n\u001b[1;32m----> 1\u001b[1;33m \u001b[0mlis\u001b[0m\u001b[1;33m.\u001b[0m\u001b[0msort\u001b[0m\u001b[1;33m(\u001b[0m\u001b[1;33m)\u001b[0m\u001b[1;33m\u001b[0m\u001b[1;33m\u001b[0m\u001b[0m\n\u001b[0m",
      "\u001b[1;31mTypeError\u001b[0m: '<' not supported between instances of 'int' and 'str'"
     ]
    }
   ],
   "source": [
    "lis.sort()"
   ]
  },
  {
   "cell_type": "code",
   "execution_count": 158,
   "id": "b0b5e2f0",
   "metadata": {},
   "outputs": [],
   "source": [
    "lis1 = [1,2,3,4,56,13,14,515,1,61]"
   ]
  },
  {
   "cell_type": "code",
   "execution_count": 159,
   "id": "b578775e",
   "metadata": {},
   "outputs": [],
   "source": [
    "lis1.sort()"
   ]
  },
  {
   "cell_type": "code",
   "execution_count": 161,
   "id": "d8da444c",
   "metadata": {},
   "outputs": [
    {
     "data": {
      "text/plain": [
       "[1, 1, 2, 3, 4, 13, 14, 56, 61, 515]"
      ]
     },
     "execution_count": 161,
     "metadata": {},
     "output_type": "execute_result"
    }
   ],
   "source": [
    "lis1"
   ]
  },
  {
   "cell_type": "markdown",
   "id": "6e7c6af3",
   "metadata": {},
   "source": []
  },
  {
   "cell_type": "code",
   "execution_count": 162,
   "id": "8fa86352",
   "metadata": {},
   "outputs": [],
   "source": [
    "lis1.sort(reverse=True)"
   ]
  },
  {
   "cell_type": "code",
   "execution_count": 163,
   "id": "65861048",
   "metadata": {},
   "outputs": [
    {
     "data": {
      "text/plain": [
       "[515, 61, 56, 14, 13, 4, 3, 2, 1, 1]"
      ]
     },
     "execution_count": 163,
     "metadata": {},
     "output_type": "execute_result"
    }
   ],
   "source": [
    "lis1"
   ]
  },
  {
   "cell_type": "code",
   "execution_count": null,
   "id": "b42a2f1d",
   "metadata": {},
   "outputs": [],
   "source": []
  }
 ],
 "metadata": {
  "kernelspec": {
   "display_name": "Python 3 (ipykernel)",
   "language": "python",
   "name": "python3"
  },
  "language_info": {
   "codemirror_mode": {
    "name": "ipython",
    "version": 3
   },
   "file_extension": ".py",
   "mimetype": "text/x-python",
   "name": "python",
   "nbconvert_exporter": "python",
   "pygments_lexer": "ipython3",
   "version": "3.11.3"
  }
 },
 "nbformat": 4,
 "nbformat_minor": 5
}
