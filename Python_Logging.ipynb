{
 "cells": [
  {
   "cell_type": "markdown",
   "id": "10da9592",
   "metadata": {},
   "source": [
    "# Logging in python \n",
    " \n",
    " Logging is important for software developing, debugging, and running. If you don’t have any logging record and your program crashes, there are very few chances that you detect the cause of the problem. And if you detect the cause, it will consume a lot of time. With logging, you can leave a trail of breadcrumbs so that if something goes wrong, we can determine the cause of the problem. \n",
    " \n",
    " developers use the concept of printing the statements to validate if the statements are executed correctly or if some error has occurred. But printing is not a good idea. It may solve your issues for simple scripts but for complex scripts, the printing approach will fail."
   ]
  },
  {
   "cell_type": "markdown",
   "id": "187d1e86",
   "metadata": {},
   "source": [
    "### Python Logging Levels\n",
    "**There are five built-in levels of the log message.**  \n",
    "\n",
    "- **Debug:** These are used to give Detailed information, typically of interest only when diagnosing problems.\n",
    "- **Info:** These are used to confirm that things are working as expected\n",
    "- **Warning:** These are used as an indication that something unexpected happened, or is indicative of some problem in the near future\n",
    "- **Error:** This tells that due to a more serious problem, the software has not been able to perform some function\n",
    "- **Critical:** This tells serious error, indicating that the program itself may be unable to continue running"
   ]
  },
  {
   "cell_type": "markdown",
   "id": "e8404cca",
   "metadata": {},
   "source": [
    "**There are several logger objects offered by the base Handler itself.**  \n",
    "\n",
    "- **Logger.info(msg):** This will log a message with level INFO on this logger.\n",
    "- **Logger.warning(msg):** This will log a message with a level WARNING on this logger.\n",
    "- **Logger.error(msg):** This will log a message with level ERROR on this logger.\n",
    "- **Logger.critical(msg):** This will log a message with level CRITICAL on this logger.\n",
    "- **Logger.log(lvl,msg):** This will Log a message with integer level lvl on this logger.\n",
    "- **Logger.exception(msg):** This will log a message with level ERROR on this logger.\n",
    "- **Logger.setLevel(lvl):** This function sets the threshold of this logger to lvl. This means that all the messages below this level will be ignored.\n",
    "- **Logger.addFilter(filt):** This adds a specific filter fit into this logger.\n",
    "- **Logger.removeFilter(filt):** This removes a specific filter fit into this logger.\n",
    "- **Logger.filter(record):** This method applies the logger’s filter to the record provided and returns True if the record is to be processed. Else, it will return False.\n",
    "- **Logger.addHandler(hdlr):** This adds a specific handler hdlr to this logger.\n",
    "- **Logger.removeHandler(hdlr) :** This removes a specific handler hdlr into this logger.\n",
    "- **Logger.hasHandlers():** This checks if the logger has any handler configured or not. "
   ]
  },
  {
   "cell_type": "markdown",
   "id": "10cb1694",
   "metadata": {},
   "source": [
    "#                                     Useful Handlers\n",
    "**In addition to the base Handler Class, many useful subclasses are provided.**\n",
    "\n",
    "<table style=\"width:100%; border-collapse: collapse; margin-bottom: 20px;\">\n",
    "  <tr style=\"background-color: #f2f2f2;\">\n",
    "    <th style=\"border: 1px solid #ddd; padding: 10px; text-align: left;\">Handler</th>\n",
    "    <th style=\"border: 1px solid #ddd; padding: 10px; text-align: left;\">Description</th>\n",
    "  </tr>\n",
    "  <tr>\n",
    "    <td style=\"border: 1px solid #ddd; padding: 10px; text-align: left;\">StreamHandler</td>\n",
    "    <td style=\"border: 1px solid #ddd; padding: 10px; text-align: left;\">Sends messages to streams (file-like objects).</td>\n",
    "  </tr>\n",
    "  <tr>\n",
    "    <td style=\"border: 1px solid #ddd; padding: 10px; text-align: left;\">FileHandler</td>\n",
    "    <td style=\"border: 1px solid #ddd; padding: 10px; text-align: left;\">Sends messages to disk files.</td>\n",
    "  </tr>\n",
    "  <tr>\n",
    "    <td style=\"border: 1px solid #ddd; padding: 10px; text-align: left;\">BaseRotatingHandler</td>\n",
    "    <td style=\"border: 1px solid #ddd; padding: 10px; text-align: left;\">Base class for handlers that rotate log files at a certain point. Use RotatingFileHandler or TimedRotatingFileHandler instead.</td>\n",
    "  </tr>\n",
    "  <tr>\n",
    "    <td style=\"border: 1px solid #ddd; padding: 10px; text-align: left;\">RotatingFileHandler</td>\n",
    "    <td style=\"border: 1px solid #ddd; padding: 10px; text-align: left;\">Sends messages to disk files, with support for maximum log file sizes and log file rotation.</td>\n",
    "  </tr>\n",
    "  <tr>\n",
    "    <td style=\"border: 1px solid #ddd; padding: 10px; text-align: left;\">TimedRotatingFileHandler</td>\n",
    "    <td style=\"border: 1px solid #ddd; padding: 10px; text-align: left;\">Sends messages to disk files, rotating the log file at certain timed intervals.</td>\n",
    "  </tr>\n",
    "  <tr>\n",
    "    <td style=\"border: 1px solid #ddd; padding: 10px; text-align: left;\">SocketHandler</td>\n",
    "    <td style=\"border: 1px solid #ddd; padding: 10px; text-align: left;\">Sends messages to TCP/IP sockets. Also supports Unix domain sockets since Python 3.4.</td>\n",
    "  </tr>\n",
    "  <tr>\n",
    "    <td style=\"border: 1px solid #ddd; padding: 10px; text-align: left;\">DatagramHandler</td>\n",
    "    <td style=\"border: 1px solid #ddd; padding: 10px; text-align: left;\">Sends messages to UDP sockets. Also supports Unix domain sockets since Python 3.4.</td>\n",
    "  </tr>\n",
    "  <tr>\n",
    "    <td style=\"border: 1px solid #ddd; padding: 10px; text-align: left;\">SMTPHandler</td>\n",
    "    <td style=\"border: 1px solid #ddd; padding: 10px; text-align: left;\">Sends messages to a designated email address.</td>\n",
    "  </tr>\n",
    "  <tr>\n",
    "    <td style=\"border: 1px solid #ddd; padding: 10px; text-align: left;\">SysLogHandler</td>\n",
    "    <td style=\"border: 1px solid #ddd; padding: 10px; text-align: left;\">Sends messages to a Unix Syslog daemon, possibly on a remote machine.</td>\n",
    "  </tr>\n",
    "  <tr>\n",
    "    <td style=\"border: 1px solid #ddd; padding: 10px; text-align: left;\">NTEventLogHandler</td>\n",
    "    <td style=\"border: 1px solid #ddd; padding: 10px; text-align: left;\">Sends messages to a Windows NT/2000/XP event log.</td>\n",
    "  </tr>\n",
    "  <tr>\n",
    "    <td style=\"border: 1px solid #ddd; padding: 10px; text-align: left;\">MemoryHandler</td>\n",
    "    <td style=\"border: 1px solid #ddd; padding: 10px; text-align: left;\">Sends messages to a buffer in memory, which is flushed whenever specific criteria are met.</td>\n",
    "  </tr>\n",
    "  <tr>\n",
    "    <td style=\"border: 1px solid #ddd; padding: 10px; text-align: left;\">HTTPHandler</td>\n",
    "    <td style=\"border: 1px solid #ddd; padding: 10px; text-align: left;\">Sends messages to an HTTP server using either GET or POST semantics.</td>\n",
    "  </tr>\n",
    "  <tr>\n",
    "    <td style=\"border: 1px solid #ddd; padding: 10px; text-align: left;\">WatchedFileHandler</td>\n",
    "    <td style=\"border: 1px solid #ddd; padding: 10px; text-align: left;\">Watches the file it is logging to. If the file changes, it is closed and reopened using the file name.</td>\n",
    "  </tr>\n",
    "  <tr>\n",
    "    <td style=\"border: 1px solid #ddd; padding: 10px; text-align: left;\">QueueHandler</td>\n",
    "    <td style=\"border: 1px solid #ddd; padding: 10px; text-align: left;\">Sends messages to a queue, such as those implemented in the queue or multiprocessing modules.</td>\n",
    "  </tr>\n",
    "  <tr>\n",
    "    <td style=\"border: 1px solid #ddd; padding: 10px; text-align: left;\">NullHandler</td>\n",
    "    <td style=\"border: 1px solid #ddd; padding: 10px; text-align: left;\">Does nothing with error messages. Used by library developers to avoid ‘No handlers could be found for logger’ message.</td>\n",
    "  </tr>\n",
    "</table>\n"
   ]
  },
  {
   "cell_type": "code",
   "execution_count": 4,
   "id": "a5bc2abe",
   "metadata": {},
   "outputs": [
    {
     "name": "stderr",
     "output_type": "stream",
     "text": [
      "example_logger - WARNING - This is a warning message\n",
      "example_logger - ERROR - This is an error message\n",
      "example_logger - CRITICAL - This is a critical message\n"
     ]
    }
   ],
   "source": [
    "\n",
    "import logging\n",
    "\n",
    "# Create a logger\n",
    "logger = logging.getLogger('example_logger')\n",
    "logger.setLevel(logging.DEBUG)  # Set the log level\n",
    "\n",
    "# Create handlers\n",
    "console_handler = logging.StreamHandler()\n",
    "file_handler = logging.FileHandler('example.log')\n",
    "\n",
    "# Set log levels for handlers\n",
    "console_handler.setLevel(logging.WARNING)\n",
    "file_handler.setLevel(logging.DEBUG)\n",
    "\n",
    "# Create formatters and add them to handlers\n",
    "console_format = logging.Formatter('%(name)s - %(levelname)s - %(message)s')\n",
    "file_format = logging.Formatter('%(asctime)s - %(name)s - %(levelname)s - %(message)s')\n",
    "console_handler.setFormatter(console_format)\n",
    "file_handler.setFormatter(file_format)\n",
    "\n",
    "# Add handlers to the logger\n",
    "logger.addHandler(console_handler)\n",
    "logger.addHandler(file_handler)\n",
    "\n",
    "# Log some messages\n",
    "logger.debug('This is a debug message')\n",
    "logger.info('This is an info message')\n",
    "logger.warning('This is a warning message')\n",
    "logger.error('This is an error message')\n",
    "logger.critical('This is a critical message')\n",
    "                 "
   ]
  },
  {
   "cell_type": "code",
   "execution_count": null,
   "id": "68913f88",
   "metadata": {},
   "outputs": [],
   "source": []
  }
 ],
 "metadata": {
  "kernelspec": {
   "display_name": "Python 3 (ipykernel)",
   "language": "python",
   "name": "python3"
  },
  "language_info": {
   "codemirror_mode": {
    "name": "ipython",
    "version": 3
   },
   "file_extension": ".py",
   "mimetype": "text/x-python",
   "name": "python",
   "nbconvert_exporter": "python",
   "pygments_lexer": "ipython3",
   "version": "3.11.3"
  }
 },
 "nbformat": 4,
 "nbformat_minor": 5
}
