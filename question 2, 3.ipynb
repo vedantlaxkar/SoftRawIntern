{
 "cells": [
  {
   "cell_type": "markdown",
   "id": "1a4dfeec",
   "metadata": {},
   "source": [
    "# 2. question\n"
   ]
  },
  {
   "cell_type": "code",
   "execution_count": 1,
   "id": "3580ce2a",
   "metadata": {},
   "outputs": [
    {
     "name": "stdout",
     "output_type": "stream",
     "text": [
      "['NobodyOexpects', 42, 'the', 2048, 'Spanish', 1492, 'Inquisition!']\n"
     ]
    }
   ],
   "source": [
    "def mixed_string(s):\n",
    "    result = []\n",
    "    current = \"\"\n",
    "    \n",
    "    for char in s:\n",
    "        if char.isdigit():\n",
    "            #check if current is not empty or last character is not a digit\n",
    "            if current and not current[-1].isdigit():\n",
    "                #if true append current to result\n",
    "                result.append(current)\n",
    "                current = char\n",
    "            else:\n",
    "                #check if current either empty or contain digits add the current to result\n",
    "                current += char\n",
    "        else:\n",
    "            #check if current is not empty or last character is a digit\n",
    "            if current and current[-1].isdigit():\n",
    "                #if true convert it into int and append to the result\n",
    "                result.append(int(current))\n",
    "                current = char\n",
    "            else:\n",
    "                current += char\n",
    "\n",
    "    if current:\n",
    "        #check if current is not empty. If it is all digits, convert it to an integer and append it to result; otherwise, append it as a string.\n",
    "        if current.isdigit():\n",
    "            result.append(int(current))\n",
    "        else:\n",
    "            result.append(current)\n",
    "\n",
    "    return result\n",
    "\n",
    "s = \"NobodyOexpects42the2048Spanish1492Inquisition!\"\n",
    "result = mixed_string(s)\n",
    "print(result)"
   ]
  },
  {
   "cell_type": "markdown",
   "id": "574186b6",
   "metadata": {},
   "source": [
    "# 3. question"
   ]
  },
  {
   "cell_type": "code",
   "execution_count": 6,
   "id": "8a0e22e4",
   "metadata": {},
   "outputs": [],
   "source": [
    "def mysterious_function(n):\n",
    "    if n <= 1:\n",
    "        return 1\n",
    "    return n * mysterious_function(n - 1)"
   ]
  },
  {
   "cell_type": "markdown",
   "id": "3a9cb045",
   "metadata": {},
   "source": [
    "The mysterious_function in the code is actually calculating the factorial of a given number n. The factorial of a non-negative integer n is the product of all positive integers less than or equal to n and is denoted by n!"
   ]
  },
  {
   "cell_type": "code",
   "execution_count": 4,
   "id": "3d9f4055",
   "metadata": {},
   "outputs": [
    {
     "name": "stdout",
     "output_type": "stream",
     "text": [
      "120\n"
     ]
    }
   ],
   "source": [
    "def factorial(n):\n",
    "    result = 1\n",
    "    for i in range(2, n + 1):\n",
    "        result *= i\n",
    "    return result\n",
    "\n",
    "print(factorial(5)) "
   ]
  },
  {
   "cell_type": "code",
   "execution_count": null,
   "id": "443bf18e",
   "metadata": {},
   "outputs": [],
   "source": []
  }
 ],
 "metadata": {
  "kernelspec": {
   "display_name": "Python 3 (ipykernel)",
   "language": "python",
   "name": "python3"
  },
  "language_info": {
   "codemirror_mode": {
    "name": "ipython",
    "version": 3
   },
   "file_extension": ".py",
   "mimetype": "text/x-python",
   "name": "python",
   "nbconvert_exporter": "python",
   "pygments_lexer": "ipython3",
   "version": "3.11.3"
  }
 },
 "nbformat": 4,
 "nbformat_minor": 5
}
