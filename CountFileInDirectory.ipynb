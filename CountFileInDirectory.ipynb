{
 "cells": [
  {
   "cell_type": "code",
   "execution_count": 12,
   "id": "87b11250",
   "metadata": {},
   "outputs": [
    {
     "name": "stdout",
     "output_type": "stream",
     "text": [
      "Number of files in 23 \n",
      "\n"
     ]
    },
    {
     "data": {
      "text/plain": [
       "['app.py',\n",
       " 'Bca_AI_vedant-2.docx',\n",
       " 'Bca_AI_vedant.docx',\n",
       " 'Bca_AI_vedant.pdf',\n",
       " 'Canva.lnk',\n",
       " 'class1.ipynb',\n",
       " 'desktop.ini',\n",
       " 'Dev-C++.lnk',\n",
       " 'Doc1.pdf',\n",
       " 'fartilizerrecomandation.ipynb',\n",
       " 'Freelancer - Hire & Find Jobs.lnk',\n",
       " 'Google Chrome.lnk',\n",
       " 'Google Classroom.lnk',\n",
       " 'Instagram.lnk',\n",
       " 'magicpin for business.lnk',\n",
       " 'Personal - Edge.lnk',\n",
       " 'Sonma Typing-Expert.lnk',\n",
       " 'Visual Studio Code.lnk',\n",
       " 'Webex.lnk',\n",
       " 'WhatsApp Image 2023-08-23 at 19.40.12.jpg',\n",
       " 'WhatsApp Image 2023-08-23 at 22.16.16.jpg',\n",
       " 'xdcc.py',\n",
       " '~$a_AI_vedant.docx']"
      ]
     },
     "execution_count": 12,
     "metadata": {},
     "output_type": "execute_result"
    }
   ],
   "source": [
    "import os\n",
    "\n",
    "def count_files_in_directory(directory_path):\n",
    "    # List all items in the directory\n",
    "    items = os.listdir(directory_path)\n",
    "\n",
    "    file_count = 0\n",
    "    file_names=[]\n",
    "    \n",
    "    # Iterate for all items in the directory\n",
    "    for item in items:\n",
    "        # Create full path for every  item\n",
    "        item_full_path = os.path.join(directory_path, item)\n",
    "        \n",
    "        # Check if the item is a file and increment the count if it is and append the name of item in file_names\n",
    "        if os.path.isfile(item_full_path):\n",
    "            file_count += 1\n",
    "            file_names.append(item)\n",
    "        \n",
    "    return file_count,file_names\n",
    "directory_path = \"C:/Users/USER/Desktop/\"\n",
    "file_count,file_names = count_files_in_directory(directory_path)\n",
    "print(f\"Number of files in {file_count} \\n\")\n",
    "file_names\n"
   ]
  },
  {
   "cell_type": "code",
   "execution_count": null,
   "id": "aa476e46",
   "metadata": {},
   "outputs": [],
   "source": []
  }
 ],
 "metadata": {
  "kernelspec": {
   "display_name": "Python 3 (ipykernel)",
   "language": "python",
   "name": "python3"
  },
  "language_info": {
   "codemirror_mode": {
    "name": "ipython",
    "version": 3
   },
   "file_extension": ".py",
   "mimetype": "text/x-python",
   "name": "python",
   "nbconvert_exporter": "python",
   "pygments_lexer": "ipython3",
   "version": "3.11.3"
  }
 },
 "nbformat": 4,
 "nbformat_minor": 5
}
