{
 "cells": [
  {
   "cell_type": "code",
   "execution_count": 7,
   "id": "76288062",
   "metadata": {},
   "outputs": [],
   "source": [
    "my_tuple=(1,3,6,4,5,9)"
   ]
  },
  {
   "cell_type": "code",
   "execution_count": 8,
   "id": "5d1823f5",
   "metadata": {},
   "outputs": [
    {
     "name": "stdout",
     "output_type": "stream",
     "text": [
      "<class 'tuple'>\n"
     ]
    }
   ],
   "source": [
    "print(type(my_tuple))"
   ]
  },
  {
   "cell_type": "code",
   "execution_count": 9,
   "id": "e73ac4ff",
   "metadata": {},
   "outputs": [
    {
     "name": "stdout",
     "output_type": "stream",
     "text": [
      "<class 'tuple'> (1, 3, 6, 4, 5, 9)\n"
     ]
    }
   ],
   "source": [
    "print(type(my_tuple),my_tuple)"
   ]
  },
  {
   "cell_type": "code",
   "execution_count": 12,
   "id": "25c5b5e9",
   "metadata": {},
   "outputs": [],
   "source": [
    "lis=[[]]*5"
   ]
  },
  {
   "cell_type": "code",
   "execution_count": 13,
   "id": "fd0f110d",
   "metadata": {},
   "outputs": [],
   "source": [
    "lis[-1].append(99)"
   ]
  },
  {
   "cell_type": "code",
   "execution_count": 14,
   "id": "74a661b8",
   "metadata": {},
   "outputs": [
    {
     "name": "stdout",
     "output_type": "stream",
     "text": [
      "[[99], [99], [99], [99], [99]]\n"
     ]
    }
   ],
   "source": [
    "print(lis)"
   ]
  },
  {
   "cell_type": "code",
   "execution_count": null,
   "id": "ae67e2f7",
   "metadata": {},
   "outputs": [],
   "source": []
  }
 ],
 "metadata": {
  "kernelspec": {
   "display_name": "Python 3 (ipykernel)",
   "language": "python",
   "name": "python3"
  },
  "language_info": {
   "codemirror_mode": {
    "name": "ipython",
    "version": 3
   },
   "file_extension": ".py",
   "mimetype": "text/x-python",
   "name": "python",
   "nbconvert_exporter": "python",
   "pygments_lexer": "ipython3",
   "version": "3.11.3"
  }
 },
 "nbformat": 4,
 "nbformat_minor": 5
}
